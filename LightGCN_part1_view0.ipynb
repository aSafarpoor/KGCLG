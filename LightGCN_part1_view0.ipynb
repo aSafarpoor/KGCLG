{
  "nbformat": 4,
  "nbformat_minor": 0,
  "metadata": {
    "colab": {
      "provenance": [],
      "collapsed_sections": [],
      "authorship_tag": "ABX9TyOvjvREw2PS6guUL9PNslFC",
      "include_colab_link": true
    },
    "kernelspec": {
      "name": "python3",
      "display_name": "Python 3"
    },
    "language_info": {
      "name": "python"
    },
    "accelerator": "GPU",
    "gpuClass": "standard"
  },
  "cells": [
    {
      "cell_type": "markdown",
      "metadata": {
        "id": "view-in-github",
        "colab_type": "text"
      },
      "source": [
        "<a href=\"https://colab.research.google.com/github/aSafarpoor/KGCLG/blob/main/LightGCN_part1_view0.ipynb\" target=\"_parent\"><img src=\"https://colab.research.google.com/assets/colab-badge.svg\" alt=\"Open In Colab\"/></a>"
      ]
    },
    {
      "cell_type": "code",
      "execution_count": 1,
      "metadata": {
        "id": "uLGNvXTh84tr"
      },
      "outputs": [],
      "source": [
        "import numpy as np\n",
        "from tqdm import tqdm \n",
        "import pandas as pd\n",
        "import pickle"
      ]
    },
    {
      "cell_type": "code",
      "source": [
        "from google.colab import drive\n",
        "drive.mount('/content/drive/')\n",
        "\n",
        "%cd /content/drive/My Drive/KGCLG"
      ],
      "metadata": {
        "id": "G7LrTYO19HHp",
        "colab": {
          "base_uri": "https://localhost:8080/"
        },
        "outputId": "f758b98b-a28d-46df-c5b1-f03ec342df82"
      },
      "execution_count": 3,
      "outputs": [
        {
          "output_type": "stream",
          "name": "stdout",
          "text": [
            "Drive already mounted at /content/drive/; to attempt to forcibly remount, call drive.mount(\"/content/drive/\", force_remount=True).\n",
            "/content/drive/My Drive/KGCLG\n"
          ]
        }
      ]
    },
    {
      "cell_type": "code",
      "source": [
        "!ls "
      ],
      "metadata": {
        "id": "r8eG8NlO9ms7",
        "colab": {
          "base_uri": "https://localhost:8080/"
        },
        "outputId": "8d08905e-a4d0-4914-eafa-64d12dad4864"
      },
      "execution_count": 4,
      "outputs": [
        {
          "output_type": "stream",
          "name": "stdout",
          "text": [
            "brands1.pickle\t\t\t     meta_justV.pickle\n",
            "catedges1.pickle\t\t     meta_justV.rar\n",
            "iinits.pickle\t\t\t     meta.pickle\n",
            "Industrial_and_Scientific.json\t     nodeembeddings.json\n",
            "meta128_2.csv\t\t\t     uinits.pickle\n",
            "meta128.pickle\t\t\t     ui.pickle\n",
            "meta_Industrial_and_Scientific.json  view0_nodeembeddings.json\n",
            "meta_justV\t\t\t     view0.pickle\n"
          ]
        }
      ]
    },
    {
      "cell_type": "code",
      "source": [
        "# with open('ui.pickle', 'wb') as handle:\n",
        "    # pickle.dump(ui, handle)\n",
        "def pickle_reader(name):\n",
        "    with open(name, 'rb') as handle:\n",
        "        b = pickle.load(handle)\n",
        "        return b"
      ],
      "metadata": {
        "id": "LjhyOPj499z0"
      },
      "execution_count": 5,
      "outputs": []
    },
    {
      "cell_type": "code",
      "source": [
        "'''\n",
        "#should to be read from hard drive\n",
        "* brands1.pickle\t\t\t     \n",
        "* catedges1.pickle\n",
        "* meta128.pickle\n",
        "* ui.pickle\n",
        "'''\n",
        "brandedges = pickle_reader(\"brands1.pickle\")\n",
        "catedges = pickle_reader(\"catedges1.pickle\")\n",
        "meta = pickle_reader(\"meta128.pickle\")\n",
        "ui = pickle_reader(\"ui.pickle\")"
      ],
      "metadata": {
        "id": "uTwFIN61DD_A"
      },
      "execution_count": 6,
      "outputs": []
    },
    {
      "cell_type": "code",
      "source": [
        "# meta.to_csv('meta128_2.csv')"
      ],
      "metadata": {
        "id": "aQM8uBDqaJwH"
      },
      "execution_count": 7,
      "outputs": []
    },
    {
      "cell_type": "code",
      "source": [
        "ne = {}\n",
        "users = list(set(list(ui.reviewerID)))\n",
        "items = list(set(list(ui.asin)))\n",
        "for i in tqdm(items):\n",
        "    ne[i] = np.array(meta[meta.asin==i].text2vec)\n",
        "for i in tqdm(users):\n",
        "        ne[i] = np.zeros(128) "
      ],
      "metadata": {
        "id": "iTOfbucODzdH",
        "colab": {
          "base_uri": "https://localhost:8080/"
        },
        "outputId": "8ebc9130-d2ac-4385-b028-f433f7f3dc9b"
      },
      "execution_count": null,
      "outputs": [
        {
          "output_type": "stream",
          "name": "stderr",
          "text": [
            " 93%|█████████▎| 122238/131400 [17:35<01:16, 119.12it/s]"
          ]
        }
      ]
    },
    {
      "cell_type": "code",
      "source": [
        "len(users),len(items)"
      ],
      "metadata": {
        "id": "kPZWBEIm-eUs"
      },
      "execution_count": null,
      "outputs": []
    },
    {
      "cell_type": "code",
      "source": [
        "nvd = {}\n",
        "cd = {}\n",
        "\n",
        "for n in tqdm(ne):\n",
        "    nvd[n]=[]\n",
        "    cd[n]=0\n"
      ],
      "metadata": {
        "id": "eorCUExDyUVe"
      },
      "execution_count": null,
      "outputs": []
    },
    {
      "cell_type": "code",
      "source": [
        "# create_node_vicinity from ui:\n",
        "for ind in tqdm(range(len(ui))):\n",
        "    row = ui.iloc[ind]\n",
        "    e1, e2 = row['asin'],row['reviewerID']\n",
        "    cd[e2] += 1    \n",
        "    nvd[e2].append(e1)"
      ],
      "metadata": {
        "id": "SoXjwLBJ-3jR"
      },
      "execution_count": null,
      "outputs": []
    },
    {
      "cell_type": "code",
      "source": [
        "for u in ne:\n",
        "    if len(ne[u])==1:\n",
        "        ne[u]=ne[u][0]\n",
        "\n",
        "for u in tqdm(nvd):\n",
        "    vs = nvd[u];\n",
        "    if len(vs)>0:\n",
        "        for v in vs:\n",
        "             ne[u] += ne[v]\n",
        "        ne[u] /= cd[u] \n",
        "    else:\n",
        "        pass"
      ],
      "metadata": {
        "id": "oAIwu7ytn7rd",
        "colab": {
          "base_uri": "https://localhost:8080/"
        },
        "outputId": "cf85043c-59be-45c9-b9f8-03fa428fd1b5"
      },
      "execution_count": 12,
      "outputs": [
        {
          "output_type": "stream",
          "name": "stderr",
          "text": [
            "100%|██████████| 1045550/1045550 [05:31<00:00, 3151.79it/s]\n"
          ]
        }
      ]
    },
    {
      "cell_type": "code",
      "source": [
        "type(ne)"
      ],
      "metadata": {
        "id": "6h4uT-sln7t0",
        "colab": {
          "base_uri": "https://localhost:8080/"
        },
        "outputId": "2e1beeac-b947-4f1f-fb05-fa072181c490"
      },
      "execution_count": 13,
      "outputs": [
        {
          "output_type": "execute_result",
          "data": {
            "text/plain": [
              "dict"
            ]
          },
          "metadata": {},
          "execution_count": 13
        }
      ]
    },
    {
      "cell_type": "code",
      "source": [
        "ne[v]"
      ],
      "metadata": {
        "id": "ZtIHiaa8n7wk",
        "colab": {
          "base_uri": "https://localhost:8080/"
        },
        "outputId": "3a44e090-1b10-4bc7-d46b-5fb603bb1e43"
      },
      "execution_count": 14,
      "outputs": [
        {
          "output_type": "execute_result",
          "data": {
            "text/plain": [
              "0     -3.393732\n",
              "1     -2.733804\n",
              "2      1.432690\n",
              "3     -1.666343\n",
              "4      0.404424\n",
              "         ...   \n",
              "123   -0.093065\n",
              "124    0.176109\n",
              "125   -0.080944\n",
              "126    0.041555\n",
              "127    0.135397\n",
              "Length: 128, dtype: float32"
            ]
          },
          "metadata": {},
          "execution_count": 14
        }
      ]
    },
    {
      "cell_type": "code",
      "source": [
        "ne[u]"
      ],
      "metadata": {
        "id": "HzH-LEh8n7zU",
        "colab": {
          "base_uri": "https://localhost:8080/"
        },
        "outputId": "cffe88fe-38fa-4403-956c-65666e64279c"
      },
      "execution_count": 15,
      "outputs": [
        {
          "output_type": "execute_result",
          "data": {
            "text/plain": [
              "0     -3.393732\n",
              "1     -2.733804\n",
              "2      1.432690\n",
              "3     -1.666343\n",
              "4      0.404424\n",
              "         ...   \n",
              "123   -0.093065\n",
              "124    0.176109\n",
              "125   -0.080944\n",
              "126    0.041555\n",
              "127    0.135397\n",
              "Length: 128, dtype: float64"
            ]
          },
          "metadata": {},
          "execution_count": 15
        }
      ]
    },
    {
      "cell_type": "code",
      "source": [
        "type(ne[v]),type(ne[u])"
      ],
      "metadata": {
        "colab": {
          "base_uri": "https://localhost:8080/"
        },
        "id": "d5sgQDJp7G1M",
        "outputId": "470a880b-89e8-4e76-f206-248b2c73531a"
      },
      "execution_count": 19,
      "outputs": [
        {
          "output_type": "execute_result",
          "data": {
            "text/plain": [
              "(pandas.core.series.Series, pandas.core.series.Series)"
            ]
          },
          "metadata": {},
          "execution_count": 19
        }
      ]
    },
    {
      "cell_type": "code",
      "source": [
        "d2 = [[],[]]"
      ],
      "metadata": {
        "id": "EvJ7fSTwbMS7"
      },
      "execution_count": 21,
      "outputs": []
    },
    {
      "cell_type": "code",
      "source": [
        "for i in ne:\n",
        "    d2[0].append(i)\n",
        "    d2[1].append(ne[i])    \n"
      ],
      "metadata": {
        "id": "lh69hsrT7ih8"
      },
      "execution_count": 22,
      "outputs": []
    },
    {
      "cell_type": "code",
      "source": [
        "d3 = np.array(d2)"
      ],
      "metadata": {
        "colab": {
          "base_uri": "https://localhost:8080/"
        },
        "id": "PZy-Jc_g70TZ",
        "outputId": "b38db503-5b20-46de-eacc-8d8c7a99e5e4"
      },
      "execution_count": 27,
      "outputs": [
        {
          "output_type": "stream",
          "name": "stderr",
          "text": [
            "/usr/local/lib/python3.7/dist-packages/ipykernel_launcher.py:1: VisibleDeprecationWarning: Creating an ndarray from ragged nested sequences (which is a list-or-tuple of lists-or-tuples-or ndarrays with different lengths or shapes) is deprecated. If you meant to do this, you must specify 'dtype=object' when creating the ndarray.\n",
            "  \"\"\"Entry point for launching an IPython kernel.\n"
          ]
        }
      ]
    },
    {
      "cell_type": "code",
      "source": [
        "d3.shape"
      ],
      "metadata": {
        "colab": {
          "base_uri": "https://localhost:8080/"
        },
        "id": "enQc5PPj8T5o",
        "outputId": "b26da571-798a-48be-bea7-d59935226da2"
      },
      "execution_count": 28,
      "outputs": [
        {
          "output_type": "execute_result",
          "data": {
            "text/plain": [
              "(2, 1045550)"
            ]
          },
          "metadata": {},
          "execution_count": 28
        }
      ]
    },
    {
      "cell_type": "code",
      "source": [
        "d4 = d3.T"
      ],
      "metadata": {
        "id": "ryJVGpqG8lWQ"
      },
      "execution_count": 29,
      "outputs": []
    },
    {
      "cell_type": "code",
      "source": [
        "d4.shape"
      ],
      "metadata": {
        "colab": {
          "base_uri": "https://localhost:8080/"
        },
        "id": "P0Po-wi38pon",
        "outputId": "efe66748-1c4f-48c4-a210-602740d08e1b"
      },
      "execution_count": 32,
      "outputs": [
        {
          "output_type": "execute_result",
          "data": {
            "text/plain": [
              "(1045550, 2)"
            ]
          },
          "metadata": {},
          "execution_count": 32
        }
      ]
    },
    {
      "cell_type": "code",
      "source": [
        "df = pd.DataFrame (d4, columns = ['name','vector'])"
      ],
      "metadata": {
        "id": "nVTQhMrH8rXP"
      },
      "execution_count": 33,
      "outputs": []
    },
    {
      "cell_type": "code",
      "source": [
        "df"
      ],
      "metadata": {
        "colab": {
          "base_uri": "https://localhost:8080/",
          "height": 424
        },
        "id": "ln8G4C2_83IA",
        "outputId": "872a850d-b505-4857-b07b-26cfe1563a35"
      },
      "execution_count": 34,
      "outputs": [
        {
          "output_type": "execute_result",
          "data": {
            "text/plain": [
              "                   name                                             vector\n",
              "0            B003ULPA9M  0     -2.751240\n",
              "1      1.963953\n",
              "2     -2.37910...\n",
              "1            B00PZYIEEU  0      5.407245\n",
              "1     -3.444118\n",
              "2      2.32683...\n",
              "2            B01BXGCYBM  0     -4.327692\n",
              "1      1.152166\n",
              "2     -0.25391...\n",
              "3            B00BQM6XKW  0     -5.215747\n",
              "1      2.388364\n",
              "2      0.60712...\n",
              "4            B00NHRNFBO  0     -5.553534\n",
              "1     -1.249214\n",
              "2     -3.42922...\n",
              "...                 ...                                                ...\n",
              "1045545   A1UZNJ0W78BU0  0      3.091146\n",
              "1      0.147855\n",
              "2      0.66450...\n",
              "1045546  A1NE7HMQ7W4W0P  0     -5.994321\n",
              "1      3.724970\n",
              "2      3.06819...\n",
              "1045547  A36UNCDNUVDWH5  0      2.915727\n",
              "1      3.518314\n",
              "2     -3.14140...\n",
              "1045548  A2GE7LL651OCSV  0     -0.960481\n",
              "1      3.048429\n",
              "2      4.84720...\n",
              "1045549  A143KBIQX3GW4F  0     -3.393732\n",
              "1     -2.733804\n",
              "2      1.43269...\n",
              "\n",
              "[1045550 rows x 2 columns]"
            ],
            "text/html": [
              "\n",
              "  <div id=\"df-dbc3ceb7-a272-47b3-97d5-bcc5c12afdcb\">\n",
              "    <div class=\"colab-df-container\">\n",
              "      <div>\n",
              "<style scoped>\n",
              "    .dataframe tbody tr th:only-of-type {\n",
              "        vertical-align: middle;\n",
              "    }\n",
              "\n",
              "    .dataframe tbody tr th {\n",
              "        vertical-align: top;\n",
              "    }\n",
              "\n",
              "    .dataframe thead th {\n",
              "        text-align: right;\n",
              "    }\n",
              "</style>\n",
              "<table border=\"1\" class=\"dataframe\">\n",
              "  <thead>\n",
              "    <tr style=\"text-align: right;\">\n",
              "      <th></th>\n",
              "      <th>name</th>\n",
              "      <th>vector</th>\n",
              "    </tr>\n",
              "  </thead>\n",
              "  <tbody>\n",
              "    <tr>\n",
              "      <th>0</th>\n",
              "      <td>B003ULPA9M</td>\n",
              "      <td>0     -2.751240\n",
              "1      1.963953\n",
              "2     -2.37910...</td>\n",
              "    </tr>\n",
              "    <tr>\n",
              "      <th>1</th>\n",
              "      <td>B00PZYIEEU</td>\n",
              "      <td>0      5.407245\n",
              "1     -3.444118\n",
              "2      2.32683...</td>\n",
              "    </tr>\n",
              "    <tr>\n",
              "      <th>2</th>\n",
              "      <td>B01BXGCYBM</td>\n",
              "      <td>0     -4.327692\n",
              "1      1.152166\n",
              "2     -0.25391...</td>\n",
              "    </tr>\n",
              "    <tr>\n",
              "      <th>3</th>\n",
              "      <td>B00BQM6XKW</td>\n",
              "      <td>0     -5.215747\n",
              "1      2.388364\n",
              "2      0.60712...</td>\n",
              "    </tr>\n",
              "    <tr>\n",
              "      <th>4</th>\n",
              "      <td>B00NHRNFBO</td>\n",
              "      <td>0     -5.553534\n",
              "1     -1.249214\n",
              "2     -3.42922...</td>\n",
              "    </tr>\n",
              "    <tr>\n",
              "      <th>...</th>\n",
              "      <td>...</td>\n",
              "      <td>...</td>\n",
              "    </tr>\n",
              "    <tr>\n",
              "      <th>1045545</th>\n",
              "      <td>A1UZNJ0W78BU0</td>\n",
              "      <td>0      3.091146\n",
              "1      0.147855\n",
              "2      0.66450...</td>\n",
              "    </tr>\n",
              "    <tr>\n",
              "      <th>1045546</th>\n",
              "      <td>A1NE7HMQ7W4W0P</td>\n",
              "      <td>0     -5.994321\n",
              "1      3.724970\n",
              "2      3.06819...</td>\n",
              "    </tr>\n",
              "    <tr>\n",
              "      <th>1045547</th>\n",
              "      <td>A36UNCDNUVDWH5</td>\n",
              "      <td>0      2.915727\n",
              "1      3.518314\n",
              "2     -3.14140...</td>\n",
              "    </tr>\n",
              "    <tr>\n",
              "      <th>1045548</th>\n",
              "      <td>A2GE7LL651OCSV</td>\n",
              "      <td>0     -0.960481\n",
              "1      3.048429\n",
              "2      4.84720...</td>\n",
              "    </tr>\n",
              "    <tr>\n",
              "      <th>1045549</th>\n",
              "      <td>A143KBIQX3GW4F</td>\n",
              "      <td>0     -3.393732\n",
              "1     -2.733804\n",
              "2      1.43269...</td>\n",
              "    </tr>\n",
              "  </tbody>\n",
              "</table>\n",
              "<p>1045550 rows × 2 columns</p>\n",
              "</div>\n",
              "      <button class=\"colab-df-convert\" onclick=\"convertToInteractive('df-dbc3ceb7-a272-47b3-97d5-bcc5c12afdcb')\"\n",
              "              title=\"Convert this dataframe to an interactive table.\"\n",
              "              style=\"display:none;\">\n",
              "        \n",
              "  <svg xmlns=\"http://www.w3.org/2000/svg\" height=\"24px\"viewBox=\"0 0 24 24\"\n",
              "       width=\"24px\">\n",
              "    <path d=\"M0 0h24v24H0V0z\" fill=\"none\"/>\n",
              "    <path d=\"M18.56 5.44l.94 2.06.94-2.06 2.06-.94-2.06-.94-.94-2.06-.94 2.06-2.06.94zm-11 1L8.5 8.5l.94-2.06 2.06-.94-2.06-.94L8.5 2.5l-.94 2.06-2.06.94zm10 10l.94 2.06.94-2.06 2.06-.94-2.06-.94-.94-2.06-.94 2.06-2.06.94z\"/><path d=\"M17.41 7.96l-1.37-1.37c-.4-.4-.92-.59-1.43-.59-.52 0-1.04.2-1.43.59L10.3 9.45l-7.72 7.72c-.78.78-.78 2.05 0 2.83L4 21.41c.39.39.9.59 1.41.59.51 0 1.02-.2 1.41-.59l7.78-7.78 2.81-2.81c.8-.78.8-2.07 0-2.86zM5.41 20L4 18.59l7.72-7.72 1.47 1.35L5.41 20z\"/>\n",
              "  </svg>\n",
              "      </button>\n",
              "      \n",
              "  <style>\n",
              "    .colab-df-container {\n",
              "      display:flex;\n",
              "      flex-wrap:wrap;\n",
              "      gap: 12px;\n",
              "    }\n",
              "\n",
              "    .colab-df-convert {\n",
              "      background-color: #E8F0FE;\n",
              "      border: none;\n",
              "      border-radius: 50%;\n",
              "      cursor: pointer;\n",
              "      display: none;\n",
              "      fill: #1967D2;\n",
              "      height: 32px;\n",
              "      padding: 0 0 0 0;\n",
              "      width: 32px;\n",
              "    }\n",
              "\n",
              "    .colab-df-convert:hover {\n",
              "      background-color: #E2EBFA;\n",
              "      box-shadow: 0px 1px 2px rgba(60, 64, 67, 0.3), 0px 1px 3px 1px rgba(60, 64, 67, 0.15);\n",
              "      fill: #174EA6;\n",
              "    }\n",
              "\n",
              "    [theme=dark] .colab-df-convert {\n",
              "      background-color: #3B4455;\n",
              "      fill: #D2E3FC;\n",
              "    }\n",
              "\n",
              "    [theme=dark] .colab-df-convert:hover {\n",
              "      background-color: #434B5C;\n",
              "      box-shadow: 0px 1px 3px 1px rgba(0, 0, 0, 0.15);\n",
              "      filter: drop-shadow(0px 1px 2px rgba(0, 0, 0, 0.3));\n",
              "      fill: #FFFFFF;\n",
              "    }\n",
              "  </style>\n",
              "\n",
              "      <script>\n",
              "        const buttonEl =\n",
              "          document.querySelector('#df-dbc3ceb7-a272-47b3-97d5-bcc5c12afdcb button.colab-df-convert');\n",
              "        buttonEl.style.display =\n",
              "          google.colab.kernel.accessAllowed ? 'block' : 'none';\n",
              "\n",
              "        async function convertToInteractive(key) {\n",
              "          const element = document.querySelector('#df-dbc3ceb7-a272-47b3-97d5-bcc5c12afdcb');\n",
              "          const dataTable =\n",
              "            await google.colab.kernel.invokeFunction('convertToInteractive',\n",
              "                                                     [key], {});\n",
              "          if (!dataTable) return;\n",
              "\n",
              "          const docLinkHtml = 'Like what you see? Visit the ' +\n",
              "            '<a target=\"_blank\" href=https://colab.research.google.com/notebooks/data_table.ipynb>data table notebook</a>'\n",
              "            + ' to learn more about interactive tables.';\n",
              "          element.innerHTML = '';\n",
              "          dataTable['output_type'] = 'display_data';\n",
              "          await google.colab.output.renderOutput(dataTable, element);\n",
              "          const docLink = document.createElement('div');\n",
              "          docLink.innerHTML = docLinkHtml;\n",
              "          element.appendChild(docLink);\n",
              "        }\n",
              "      </script>\n",
              "    </div>\n",
              "  </div>\n",
              "  "
            ]
          },
          "metadata": {},
          "execution_count": 34
        }
      ]
    },
    {
      "cell_type": "code",
      "source": [
        "df.to_csv('view1-embeddings.csv')"
      ],
      "metadata": {
        "id": "2wy1Qoo484So"
      },
      "execution_count": 35,
      "outputs": []
    },
    {
      "cell_type": "code",
      "source": [
        "!mv view1-embeddings.csv view0-embeddings.csv"
      ],
      "metadata": {
        "id": "UyVb8iXy9JHw"
      },
      "execution_count": 38,
      "outputs": []
    },
    {
      "cell_type": "code",
      "source": [],
      "metadata": {
        "id": "c_hv67UBHPGc"
      },
      "execution_count": null,
      "outputs": []
    },
    {
      "cell_type": "code",
      "source": [
        "nvd = {}\n",
        "\n",
        "for n in tqdm(users):\n",
        "    nvd[n]=[]\n",
        "for n in tqdm(items):\n",
        "    nvd[n]=[]"
      ],
      "metadata": {
        "colab": {
          "base_uri": "https://localhost:8080/"
        },
        "id": "x7zCK7QuHPsk",
        "outputId": "9bc477c4-760d-42c4-ab78-b90c4ddff965"
      },
      "execution_count": 39,
      "outputs": [
        {
          "output_type": "stream",
          "name": "stderr",
          "text": [
            "100%|██████████| 914150/914150 [00:01<00:00, 730179.23it/s] \n",
            "100%|██████████| 131400/131400 [00:04<00:00, 28962.39it/s]\n"
          ]
        }
      ]
    },
    {
      "cell_type": "code",
      "source": [
        "for ind in tqdm(range(len(ui))):\n",
        "    row = ui.iloc[ind]\n",
        "    e1, e2 = row['asin'],row['reviewerID']\n",
        "    nvd[e1].append(e2)   \n",
        "    nvd[e2].append(e1)"
      ],
      "metadata": {
        "colab": {
          "base_uri": "https://localhost:8080/"
        },
        "id": "wgQhe4tjGg0Z",
        "outputId": "2d7d2e09-4ef0-4af8-dfe5-79e4ca6a7b7f"
      },
      "execution_count": 40,
      "outputs": [
        {
          "output_type": "stream",
          "name": "stderr",
          "text": [
            "100%|██████████| 1267323/1267323 [01:19<00:00, 15900.92it/s]\n"
          ]
        }
      ]
    },
    {
      "cell_type": "code",
      "source": [
        "import csv\n",
        "\n",
        "w = csv.writer(open(\"view0_edges_dict.csv\", \"w\"))\n",
        "\n",
        "for key, val in nvd.items():\n",
        "    w.writerow([key, val])"
      ],
      "metadata": {
        "id": "DKANDCz1HeEm"
      },
      "execution_count": 45,
      "outputs": []
    },
    {
      "cell_type": "code",
      "source": [],
      "metadata": {
        "id": "DtFDWEdRPvHW"
      },
      "execution_count": null,
      "outputs": []
    }
  ]
}