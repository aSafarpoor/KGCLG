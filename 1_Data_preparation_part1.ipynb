{
  "nbformat": 4,
  "nbformat_minor": 0,
  "metadata": {
    "colab": {
      "provenance": [],
      "collapsed_sections": [
        "9cdmkaWZTKnP"
      ],
      "authorship_tag": "ABX9TyMekkapmd8An6n8AgqanSqo",
      "include_colab_link": true
    },
    "kernelspec": {
      "name": "python3",
      "display_name": "Python 3"
    },
    "language_info": {
      "name": "python"
    },
    "gpuClass": "standard"
  },
  "cells": [
    {
      "cell_type": "markdown",
      "metadata": {
        "id": "view-in-github",
        "colab_type": "text"
      },
      "source": [
        "<a href=\"https://colab.research.google.com/github/aSafarpoor/KGCLG/blob/main/1_Data_preparation_part1.ipynb\" target=\"_parent\"><img src=\"https://colab.research.google.com/assets/colab-badge.svg\" alt=\"Open In Colab\"/></a>"
      ]
    },
    {
      "cell_type": "code",
      "execution_count": 69,
      "metadata": {
        "id": "k0Rn08VS8dlH"
      },
      "outputs": [],
      "source": [
        "import random\n",
        "import numpy as np\n",
        "from tqdm import tqdm \n",
        "import pandas as pd\n",
        "import json\n",
        "import pickle"
      ]
    },
    {
      "cell_type": "code",
      "source": [
        "from google.colab import drive\n",
        "drive.mount('/content/drive/')\n",
        "\n",
        "%cd /content/drive/My Drive/"
      ],
      "metadata": {
        "id": "hg2ueJWy9PPO",
        "colab": {
          "base_uri": "https://localhost:8080/"
        },
        "outputId": "3994fe15-caa4-4efd-e59b-c7cb1b84dd1c"
      },
      "execution_count": 70,
      "outputs": [
        {
          "output_type": "stream",
          "name": "stdout",
          "text": [
            "Drive already mounted at /content/drive/; to attempt to forcibly remount, call drive.mount(\"/content/drive/\", force_remount=True).\n",
            "/content/drive/My Drive\n"
          ]
        }
      ]
    },
    {
      "cell_type": "code",
      "source": [
        "# !mkdir KGCLG\n",
        "%cd KGCLG"
      ],
      "metadata": {
        "colab": {
          "base_uri": "https://localhost:8080/"
        },
        "id": "FZaNzQ4dTMoq",
        "outputId": "b7c4e1ca-ceb6-4d9d-e111-07a94c88fea8"
      },
      "execution_count": 71,
      "outputs": [
        {
          "output_type": "stream",
          "name": "stdout",
          "text": [
            "/content/drive/My Drive/KGCLG\n"
          ]
        }
      ]
    },
    {
      "cell_type": "markdown",
      "source": [
        "## download data"
      ],
      "metadata": {
        "id": "nznFBelJsiHk"
      }
    },
    {
      "cell_type": "code",
      "source": [
        "# with open('meta.pickle', 'wb') as handle:\n",
        "    # pickle.dump(meta, handle)\n",
        "\n",
        "with open('ui.pickle', 'rb') as handle:\n",
        "    ui = pickle.load(handle)\n",
        "\n",
        "with open('meta.pickle', 'rb') as handle:\n",
        "    meta = pickle.load(handle)\n",
        "\n",
        "# with open('filename.pickle', 'rb') as handle:\n",
        "    # b = pickle.load(handle)"
      ],
      "metadata": {
        "id": "nXnKSR5_x5X1"
      },
      "execution_count": 72,
      "outputs": []
    },
    {
      "cell_type": "markdown",
      "source": [
        "## create graph"
      ],
      "metadata": {
        "id": "IuEIpyRWnsdE"
      }
    },
    {
      "cell_type": "code",
      "source": [
        "def create_graph(df):\n",
        "    pass"
      ],
      "metadata": {
        "id": "FGBMFVzy0ZVi"
      },
      "execution_count": 73,
      "outputs": []
    },
    {
      "cell_type": "code",
      "source": [
        "ui.head(5)"
      ],
      "metadata": {
        "colab": {
          "base_uri": "https://localhost:8080/",
          "height": 206
        },
        "id": "T8gWOoI8oI5j",
        "outputId": "f9453447-886a-4275-9fd6-cba36935eb63"
      },
      "execution_count": 74,
      "outputs": [
        {
          "output_type": "execute_result",
          "data": {
            "text/plain": [
              "         asin      reviewerID\n",
              "0  0176496920  A3FANY5GOT5X0W\n",
              "1  0176496920   AT6HRPPYOPHMB\n",
              "2  0176496920   A4IX7B38LIN1E\n",
              "3  0176496920  A12Q4LR8N17AOZ\n",
              "6  0176496920  A1IFO0SYT4VYHQ"
            ],
            "text/html": [
              "\n",
              "  <div id=\"df-b0462a38-400b-4874-9745-0d70460814c9\">\n",
              "    <div class=\"colab-df-container\">\n",
              "      <div>\n",
              "<style scoped>\n",
              "    .dataframe tbody tr th:only-of-type {\n",
              "        vertical-align: middle;\n",
              "    }\n",
              "\n",
              "    .dataframe tbody tr th {\n",
              "        vertical-align: top;\n",
              "    }\n",
              "\n",
              "    .dataframe thead th {\n",
              "        text-align: right;\n",
              "    }\n",
              "</style>\n",
              "<table border=\"1\" class=\"dataframe\">\n",
              "  <thead>\n",
              "    <tr style=\"text-align: right;\">\n",
              "      <th></th>\n",
              "      <th>asin</th>\n",
              "      <th>reviewerID</th>\n",
              "    </tr>\n",
              "  </thead>\n",
              "  <tbody>\n",
              "    <tr>\n",
              "      <th>0</th>\n",
              "      <td>0176496920</td>\n",
              "      <td>A3FANY5GOT5X0W</td>\n",
              "    </tr>\n",
              "    <tr>\n",
              "      <th>1</th>\n",
              "      <td>0176496920</td>\n",
              "      <td>AT6HRPPYOPHMB</td>\n",
              "    </tr>\n",
              "    <tr>\n",
              "      <th>2</th>\n",
              "      <td>0176496920</td>\n",
              "      <td>A4IX7B38LIN1E</td>\n",
              "    </tr>\n",
              "    <tr>\n",
              "      <th>3</th>\n",
              "      <td>0176496920</td>\n",
              "      <td>A12Q4LR8N17AOZ</td>\n",
              "    </tr>\n",
              "    <tr>\n",
              "      <th>6</th>\n",
              "      <td>0176496920</td>\n",
              "      <td>A1IFO0SYT4VYHQ</td>\n",
              "    </tr>\n",
              "  </tbody>\n",
              "</table>\n",
              "</div>\n",
              "      <button class=\"colab-df-convert\" onclick=\"convertToInteractive('df-b0462a38-400b-4874-9745-0d70460814c9')\"\n",
              "              title=\"Convert this dataframe to an interactive table.\"\n",
              "              style=\"display:none;\">\n",
              "        \n",
              "  <svg xmlns=\"http://www.w3.org/2000/svg\" height=\"24px\"viewBox=\"0 0 24 24\"\n",
              "       width=\"24px\">\n",
              "    <path d=\"M0 0h24v24H0V0z\" fill=\"none\"/>\n",
              "    <path d=\"M18.56 5.44l.94 2.06.94-2.06 2.06-.94-2.06-.94-.94-2.06-.94 2.06-2.06.94zm-11 1L8.5 8.5l.94-2.06 2.06-.94-2.06-.94L8.5 2.5l-.94 2.06-2.06.94zm10 10l.94 2.06.94-2.06 2.06-.94-2.06-.94-.94-2.06-.94 2.06-2.06.94z\"/><path d=\"M17.41 7.96l-1.37-1.37c-.4-.4-.92-.59-1.43-.59-.52 0-1.04.2-1.43.59L10.3 9.45l-7.72 7.72c-.78.78-.78 2.05 0 2.83L4 21.41c.39.39.9.59 1.41.59.51 0 1.02-.2 1.41-.59l7.78-7.78 2.81-2.81c.8-.78.8-2.07 0-2.86zM5.41 20L4 18.59l7.72-7.72 1.47 1.35L5.41 20z\"/>\n",
              "  </svg>\n",
              "      </button>\n",
              "      \n",
              "  <style>\n",
              "    .colab-df-container {\n",
              "      display:flex;\n",
              "      flex-wrap:wrap;\n",
              "      gap: 12px;\n",
              "    }\n",
              "\n",
              "    .colab-df-convert {\n",
              "      background-color: #E8F0FE;\n",
              "      border: none;\n",
              "      border-radius: 50%;\n",
              "      cursor: pointer;\n",
              "      display: none;\n",
              "      fill: #1967D2;\n",
              "      height: 32px;\n",
              "      padding: 0 0 0 0;\n",
              "      width: 32px;\n",
              "    }\n",
              "\n",
              "    .colab-df-convert:hover {\n",
              "      background-color: #E2EBFA;\n",
              "      box-shadow: 0px 1px 2px rgba(60, 64, 67, 0.3), 0px 1px 3px 1px rgba(60, 64, 67, 0.15);\n",
              "      fill: #174EA6;\n",
              "    }\n",
              "\n",
              "    [theme=dark] .colab-df-convert {\n",
              "      background-color: #3B4455;\n",
              "      fill: #D2E3FC;\n",
              "    }\n",
              "\n",
              "    [theme=dark] .colab-df-convert:hover {\n",
              "      background-color: #434B5C;\n",
              "      box-shadow: 0px 1px 3px 1px rgba(0, 0, 0, 0.15);\n",
              "      filter: drop-shadow(0px 1px 2px rgba(0, 0, 0, 0.3));\n",
              "      fill: #FFFFFF;\n",
              "    }\n",
              "  </style>\n",
              "\n",
              "      <script>\n",
              "        const buttonEl =\n",
              "          document.querySelector('#df-b0462a38-400b-4874-9745-0d70460814c9 button.colab-df-convert');\n",
              "        buttonEl.style.display =\n",
              "          google.colab.kernel.accessAllowed ? 'block' : 'none';\n",
              "\n",
              "        async function convertToInteractive(key) {\n",
              "          const element = document.querySelector('#df-b0462a38-400b-4874-9745-0d70460814c9');\n",
              "          const dataTable =\n",
              "            await google.colab.kernel.invokeFunction('convertToInteractive',\n",
              "                                                     [key], {});\n",
              "          if (!dataTable) return;\n",
              "\n",
              "          const docLinkHtml = 'Like what you see? Visit the ' +\n",
              "            '<a target=\"_blank\" href=https://colab.research.google.com/notebooks/data_table.ipynb>data table notebook</a>'\n",
              "            + ' to learn more about interactive tables.';\n",
              "          element.innerHTML = '';\n",
              "          dataTable['output_type'] = 'display_data';\n",
              "          await google.colab.output.renderOutput(dataTable, element);\n",
              "          const docLink = document.createElement('div');\n",
              "          docLink.innerHTML = docLinkHtml;\n",
              "          element.appendChild(docLink);\n",
              "        }\n",
              "      </script>\n",
              "    </div>\n",
              "  </div>\n",
              "  "
            ]
          },
          "metadata": {},
          "execution_count": 74
        }
      ]
    },
    {
      "cell_type": "code",
      "source": [
        "meta.head(5)"
      ],
      "metadata": {
        "colab": {
          "base_uri": "https://localhost:8080/",
          "height": 319
        },
        "id": "G3guWD7boNJE",
        "outputId": "9c6fe24b-d080-4e6e-e293-9b14eeb07f1e"
      },
      "execution_count": 75,
      "outputs": [
        {
          "output_type": "execute_result",
          "data": {
            "text/plain": [
              "         asin                      brand  \\\n",
              "0  0176496920  [TurningTechnologies,LLC]   \n",
              "1  0781776848   [AnatomicalChartCompany]   \n",
              "2  0781786606   [AnatomicalChartCompany]   \n",
              "3  0840026080    [ResponsiveInnovations]   \n",
              "4  1587790319   [AnatomicalChartCompany]   \n",
              "\n",
              "                                            imageURL  \\\n",
              "0  https://images-na.ssl-images-amazon.com/images...   \n",
              "1                                                      \n",
              "2                                                      \n",
              "3  https://images-na.ssl-images-amazon.com/images...   \n",
              "4                                                      \n",
              "\n",
              "                                     imageURLHighRes  \\\n",
              "0  https://images-na.ssl-images-amazon.com/images...   \n",
              "1                                                      \n",
              "2                                                      \n",
              "3  https://images-na.ssl-images-amazon.com/images...   \n",
              "4                                                      \n",
              "\n",
              "                                            category  \\\n",
              "0  [Industrial & Scientific, Industrial Electrica...   \n",
              "1       [Industrial & Scientific, Science Education]   \n",
              "2  [Industrial & Scientific, Science Education, C...   \n",
              "3  [Industrial & Scientific, Industrial Electrica...   \n",
              "4  [Industrial & Scientific, Science Education, C...   \n",
              "\n",
              "                                                text  \n",
              "0  turning technologies response card rcrfrcrf wo...  \n",
              "1  anatomical chart companys illustrated pocket a...  \n",
              "2  joints lower extremities anatomical chartdiv d...  \n",
              "3  turning technologies responsecard xr rcxradvan...  \n",
              "4  male reproductive system anatomical chartdivth...  "
            ],
            "text/html": [
              "\n",
              "  <div id=\"df-ac476080-7c8c-4933-bf87-8907f8e212bb\">\n",
              "    <div class=\"colab-df-container\">\n",
              "      <div>\n",
              "<style scoped>\n",
              "    .dataframe tbody tr th:only-of-type {\n",
              "        vertical-align: middle;\n",
              "    }\n",
              "\n",
              "    .dataframe tbody tr th {\n",
              "        vertical-align: top;\n",
              "    }\n",
              "\n",
              "    .dataframe thead th {\n",
              "        text-align: right;\n",
              "    }\n",
              "</style>\n",
              "<table border=\"1\" class=\"dataframe\">\n",
              "  <thead>\n",
              "    <tr style=\"text-align: right;\">\n",
              "      <th></th>\n",
              "      <th>asin</th>\n",
              "      <th>brand</th>\n",
              "      <th>imageURL</th>\n",
              "      <th>imageURLHighRes</th>\n",
              "      <th>category</th>\n",
              "      <th>text</th>\n",
              "    </tr>\n",
              "  </thead>\n",
              "  <tbody>\n",
              "    <tr>\n",
              "      <th>0</th>\n",
              "      <td>0176496920</td>\n",
              "      <td>[TurningTechnologies,LLC]</td>\n",
              "      <td>https://images-na.ssl-images-amazon.com/images...</td>\n",
              "      <td>https://images-na.ssl-images-amazon.com/images...</td>\n",
              "      <td>[Industrial &amp; Scientific, Industrial Electrica...</td>\n",
              "      <td>turning technologies response card rcrfrcrf wo...</td>\n",
              "    </tr>\n",
              "    <tr>\n",
              "      <th>1</th>\n",
              "      <td>0781776848</td>\n",
              "      <td>[AnatomicalChartCompany]</td>\n",
              "      <td></td>\n",
              "      <td></td>\n",
              "      <td>[Industrial &amp; Scientific, Science Education]</td>\n",
              "      <td>anatomical chart companys illustrated pocket a...</td>\n",
              "    </tr>\n",
              "    <tr>\n",
              "      <th>2</th>\n",
              "      <td>0781786606</td>\n",
              "      <td>[AnatomicalChartCompany]</td>\n",
              "      <td></td>\n",
              "      <td></td>\n",
              "      <td>[Industrial &amp; Scientific, Science Education, C...</td>\n",
              "      <td>joints lower extremities anatomical chartdiv d...</td>\n",
              "    </tr>\n",
              "    <tr>\n",
              "      <th>3</th>\n",
              "      <td>0840026080</td>\n",
              "      <td>[ResponsiveInnovations]</td>\n",
              "      <td>https://images-na.ssl-images-amazon.com/images...</td>\n",
              "      <td>https://images-na.ssl-images-amazon.com/images...</td>\n",
              "      <td>[Industrial &amp; Scientific, Industrial Electrica...</td>\n",
              "      <td>turning technologies responsecard xr rcxradvan...</td>\n",
              "    </tr>\n",
              "    <tr>\n",
              "      <th>4</th>\n",
              "      <td>1587790319</td>\n",
              "      <td>[AnatomicalChartCompany]</td>\n",
              "      <td></td>\n",
              "      <td></td>\n",
              "      <td>[Industrial &amp; Scientific, Science Education, C...</td>\n",
              "      <td>male reproductive system anatomical chartdivth...</td>\n",
              "    </tr>\n",
              "  </tbody>\n",
              "</table>\n",
              "</div>\n",
              "      <button class=\"colab-df-convert\" onclick=\"convertToInteractive('df-ac476080-7c8c-4933-bf87-8907f8e212bb')\"\n",
              "              title=\"Convert this dataframe to an interactive table.\"\n",
              "              style=\"display:none;\">\n",
              "        \n",
              "  <svg xmlns=\"http://www.w3.org/2000/svg\" height=\"24px\"viewBox=\"0 0 24 24\"\n",
              "       width=\"24px\">\n",
              "    <path d=\"M0 0h24v24H0V0z\" fill=\"none\"/>\n",
              "    <path d=\"M18.56 5.44l.94 2.06.94-2.06 2.06-.94-2.06-.94-.94-2.06-.94 2.06-2.06.94zm-11 1L8.5 8.5l.94-2.06 2.06-.94-2.06-.94L8.5 2.5l-.94 2.06-2.06.94zm10 10l.94 2.06.94-2.06 2.06-.94-2.06-.94-.94-2.06-.94 2.06-2.06.94z\"/><path d=\"M17.41 7.96l-1.37-1.37c-.4-.4-.92-.59-1.43-.59-.52 0-1.04.2-1.43.59L10.3 9.45l-7.72 7.72c-.78.78-.78 2.05 0 2.83L4 21.41c.39.39.9.59 1.41.59.51 0 1.02-.2 1.41-.59l7.78-7.78 2.81-2.81c.8-.78.8-2.07 0-2.86zM5.41 20L4 18.59l7.72-7.72 1.47 1.35L5.41 20z\"/>\n",
              "  </svg>\n",
              "      </button>\n",
              "      \n",
              "  <style>\n",
              "    .colab-df-container {\n",
              "      display:flex;\n",
              "      flex-wrap:wrap;\n",
              "      gap: 12px;\n",
              "    }\n",
              "\n",
              "    .colab-df-convert {\n",
              "      background-color: #E8F0FE;\n",
              "      border: none;\n",
              "      border-radius: 50%;\n",
              "      cursor: pointer;\n",
              "      display: none;\n",
              "      fill: #1967D2;\n",
              "      height: 32px;\n",
              "      padding: 0 0 0 0;\n",
              "      width: 32px;\n",
              "    }\n",
              "\n",
              "    .colab-df-convert:hover {\n",
              "      background-color: #E2EBFA;\n",
              "      box-shadow: 0px 1px 2px rgba(60, 64, 67, 0.3), 0px 1px 3px 1px rgba(60, 64, 67, 0.15);\n",
              "      fill: #174EA6;\n",
              "    }\n",
              "\n",
              "    [theme=dark] .colab-df-convert {\n",
              "      background-color: #3B4455;\n",
              "      fill: #D2E3FC;\n",
              "    }\n",
              "\n",
              "    [theme=dark] .colab-df-convert:hover {\n",
              "      background-color: #434B5C;\n",
              "      box-shadow: 0px 1px 3px 1px rgba(0, 0, 0, 0.15);\n",
              "      filter: drop-shadow(0px 1px 2px rgba(0, 0, 0, 0.3));\n",
              "      fill: #FFFFFF;\n",
              "    }\n",
              "  </style>\n",
              "\n",
              "      <script>\n",
              "        const buttonEl =\n",
              "          document.querySelector('#df-ac476080-7c8c-4933-bf87-8907f8e212bb button.colab-df-convert');\n",
              "        buttonEl.style.display =\n",
              "          google.colab.kernel.accessAllowed ? 'block' : 'none';\n",
              "\n",
              "        async function convertToInteractive(key) {\n",
              "          const element = document.querySelector('#df-ac476080-7c8c-4933-bf87-8907f8e212bb');\n",
              "          const dataTable =\n",
              "            await google.colab.kernel.invokeFunction('convertToInteractive',\n",
              "                                                     [key], {});\n",
              "          if (!dataTable) return;\n",
              "\n",
              "          const docLinkHtml = 'Like what you see? Visit the ' +\n",
              "            '<a target=\"_blank\" href=https://colab.research.google.com/notebooks/data_table.ipynb>data table notebook</a>'\n",
              "            + ' to learn more about interactive tables.';\n",
              "          element.innerHTML = '';\n",
              "          dataTable['output_type'] = 'display_data';\n",
              "          await google.colab.output.renderOutput(dataTable, element);\n",
              "          const docLink = document.createElement('div');\n",
              "          docLink.innerHTML = docLinkHtml;\n",
              "          element.appendChild(docLink);\n",
              "        }\n",
              "      </script>\n",
              "    </div>\n",
              "  </div>\n",
              "  "
            ]
          },
          "metadata": {},
          "execution_count": 75
        }
      ]
    },
    {
      "cell_type": "code",
      "source": [
        "meta2 = meta.sort_values(by=['asin'], ascending=True)"
      ],
      "metadata": {
        "id": "ZfoE1-UEyo_q"
      },
      "execution_count": 76,
      "outputs": []
    },
    {
      "cell_type": "code",
      "source": [
        "l = []\n",
        "for i in tqdm(range(1,len(meta2))):\n",
        "    if meta2.iloc[i-1].asin == meta2.iloc[i].asin:\n",
        "        l.append(i)\n",
        "        # print(meta2.iloc[i-1])\n",
        "        # print(meta2.iloc[i])\n",
        "        # print(\"--------------------------------------------------------------\")\n",
        "print('\\n',len(l),len(meta))\n"
      ],
      "metadata": {
        "colab": {
          "base_uri": "https://localhost:8080/"
        },
        "id": "hXKMWV-BuMS9",
        "outputId": "32a074c7-d69f-4a00-d146-997104a19c89"
      },
      "execution_count": 77,
      "outputs": [
        {
          "output_type": "stream",
          "name": "stderr",
          "text": [
            "100%|██████████| 147328/147328 [00:20<00:00, 7144.59it/s]"
          ]
        },
        {
          "output_type": "stream",
          "name": "stdout",
          "text": [
            "\n",
            " 0 147329\n"
          ]
        },
        {
          "output_type": "stream",
          "name": "stderr",
          "text": [
            "\n"
          ]
        }
      ]
    },
    {
      "cell_type": "code",
      "source": [
        "len(list(set(list(meta2.asin)))),len(list(set(list(meta.asin)))),149027-1698"
      ],
      "metadata": {
        "colab": {
          "base_uri": "https://localhost:8080/"
        },
        "id": "nN06x1dxvQk3",
        "outputId": "d5762209-e29c-4550-d1fc-a3bc51d71e8b"
      },
      "execution_count": 78,
      "outputs": [
        {
          "output_type": "execute_result",
          "data": {
            "text/plain": [
              "(147329, 147329, 147329)"
            ]
          },
          "metadata": {},
          "execution_count": 78
        }
      ]
    },
    {
      "cell_type": "code",
      "source": [
        "meta3 = meta2.drop(meta2.index[l])"
      ],
      "metadata": {
        "id": "gm_7Ok88wxu-"
      },
      "execution_count": 79,
      "outputs": []
    },
    {
      "cell_type": "code",
      "source": [
        "meta = meta3"
      ],
      "metadata": {
        "id": "U1zyuUX1yjAa"
      },
      "execution_count": 80,
      "outputs": []
    },
    {
      "cell_type": "code",
      "source": [
        "meta = meta.reset_index()\n",
        "del meta['index']"
      ],
      "metadata": {
        "id": "RXNuzMqGyseC"
      },
      "execution_count": 81,
      "outputs": []
    },
    {
      "cell_type": "code",
      "source": [
        "with open('meta.pickle', 'wb') as handle:\n",
        "    pickle.dump(meta, handle)"
      ],
      "metadata": {
        "id": "DjRdR9SCwxxu"
      },
      "execution_count": 82,
      "outputs": []
    },
    {
      "cell_type": "code",
      "source": [
        "cats = list(meta.category)"
      ],
      "metadata": {
        "id": "wE8qVDRpoOW0"
      },
      "execution_count": 83,
      "outputs": []
    },
    {
      "cell_type": "code",
      "source": [
        "catlist = []\n",
        "for cat in cats:\n",
        "    for c in cat:\n",
        "        catlist.append(c)\n",
        "catlist = list(set(catlist))"
      ],
      "metadata": {
        "id": "ku1XFkopoU97"
      },
      "execution_count": 84,
      "outputs": []
    },
    {
      "cell_type": "code",
      "source": [
        "len(catlist)"
      ],
      "metadata": {
        "colab": {
          "base_uri": "https://localhost:8080/"
        },
        "id": "lagfvevmoX17",
        "outputId": "0f6bee26-9ff0-46bc-d92d-915f5712e511"
      },
      "execution_count": 85,
      "outputs": [
        {
          "output_type": "execute_result",
          "data": {
            "text/plain": [
              "3274"
            ]
          },
          "metadata": {},
          "execution_count": 85
        }
      ]
    },
    {
      "cell_type": "code",
      "source": [
        "len(meta)"
      ],
      "metadata": {
        "colab": {
          "base_uri": "https://localhost:8080/"
        },
        "id": "MvRneDpgzE2K",
        "outputId": "75c89b84-94fa-40b3-da93-e88c89c9b5b8"
      },
      "execution_count": 86,
      "outputs": [
        {
          "output_type": "execute_result",
          "data": {
            "text/plain": [
              "147329"
            ]
          },
          "metadata": {},
          "execution_count": 86
        }
      ]
    },
    {
      "cell_type": "code",
      "source": [
        "catedges = [[],[]]\n",
        "for i in tqdm(range(len(meta))):\n",
        "    row = meta.iloc[i]\n",
        "    cats = row.category\n",
        "    # catdi = catd[i]\n",
        "    catasin = row.asin\n",
        "    for cat in cats:\n",
        "        catedges[0].append(catasin)\n",
        "        catedges[1].append(cat)"
      ],
      "metadata": {
        "colab": {
          "base_uri": "https://localhost:8080/"
        },
        "id": "C3Xo15nnoqvD",
        "outputId": "08a22694-1972-45ee-aacc-9589f581ac85"
      },
      "execution_count": 87,
      "outputs": [
        {
          "output_type": "stream",
          "name": "stderr",
          "text": [
            "100%|██████████| 147329/147329 [00:12<00:00, 11780.07it/s]\n"
          ]
        }
      ]
    },
    {
      "cell_type": "code",
      "source": [],
      "metadata": {
        "id": "-8quiCXF0vX4"
      },
      "execution_count": 87,
      "outputs": []
    },
    {
      "cell_type": "code",
      "source": [
        "z = np.zeros(11)\n",
        "for i in tqdm(range(len(meta))):\n",
        "    row1 = meta.iloc[i].category \n",
        "    z[min(10,len(row1))]+=1\n",
        "\n"
      ],
      "metadata": {
        "colab": {
          "base_uri": "https://localhost:8080/"
        },
        "id": "VgjWSERN1JcP",
        "outputId": "fe1f8f45-2bfc-4e6d-cc5d-f843c12e974a"
      },
      "execution_count": 88,
      "outputs": [
        {
          "output_type": "stream",
          "name": "stderr",
          "text": [
            "100%|██████████| 147329/147329 [00:10<00:00, 13643.13it/s]\n"
          ]
        }
      ]
    },
    {
      "cell_type": "code",
      "source": [
        "for i in z:\n",
        "    print(i)"
      ],
      "metadata": {
        "colab": {
          "base_uri": "https://localhost:8080/"
        },
        "id": "KXKQXGyr1bka",
        "outputId": "3a0bc0d1-61e1-457a-83bc-eccbe3e7d4f4"
      },
      "execution_count": 89,
      "outputs": [
        {
          "output_type": "stream",
          "name": "stdout",
          "text": [
            "0.0\n",
            "0.0\n",
            "7897.0\n",
            "26218.0\n",
            "75530.0\n",
            "31841.0\n",
            "5720.0\n",
            "21.0\n",
            "20.0\n",
            "34.0\n",
            "48.0\n"
          ]
        }
      ]
    },
    {
      "cell_type": "code",
      "source": [
        "def sorter(s):\n",
        "    s.sort()\n",
        "    return s"
      ],
      "metadata": {
        "id": "oyV6yaIy5vxD"
      },
      "execution_count": 90,
      "outputs": []
    },
    {
      "cell_type": "code",
      "source": [
        "tqdm.pandas()"
      ],
      "metadata": {
        "id": "8i_3WIDD7Jpr"
      },
      "execution_count": 91,
      "outputs": []
    },
    {
      "cell_type": "code",
      "source": [
        "meta['category'] = meta['category'].progress_apply(sorter)"
      ],
      "metadata": {
        "colab": {
          "base_uri": "https://localhost:8080/"
        },
        "id": "JoAHdX6U6Upt",
        "outputId": "d318f6fe-2f95-4d7c-8cb5-c83aff56e824"
      },
      "execution_count": 92,
      "outputs": [
        {
          "output_type": "stream",
          "name": "stderr",
          "text": [
            "100%|██████████| 147329/147329 [00:00<00:00, 754297.78it/s]\n"
          ]
        }
      ]
    },
    {
      "cell_type": "code",
      "source": [
        "with open('catedges1.pickle', 'wb') as handle:\n",
        "    pickle.dump(catedges, handle)\n"
      ],
      "metadata": {
        "id": "nHYoWmqvxvmz"
      },
      "execution_count": 94,
      "outputs": []
    },
    {
      "cell_type": "code",
      "source": [],
      "metadata": {
        "id": "6yAtc05X7b6i"
      },
      "execution_count": 93,
      "outputs": []
    },
    {
      "cell_type": "code",
      "source": [],
      "metadata": {
        "id": "5en6udPBuMX_"
      },
      "execution_count": 93,
      "outputs": []
    },
    {
      "cell_type": "code",
      "source": [],
      "metadata": {
        "id": "WP4zII_K0qQo"
      },
      "execution_count": 93,
      "outputs": []
    },
    {
      "cell_type": "code",
      "source": [],
      "metadata": {
        "id": "tL-YgzYu7Q2q"
      },
      "execution_count": 93,
      "outputs": []
    }
  ]
}