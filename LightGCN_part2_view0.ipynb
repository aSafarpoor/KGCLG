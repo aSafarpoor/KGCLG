{
  "nbformat": 4,
  "nbformat_minor": 0,
  "metadata": {
    "colab": {
      "provenance": [],
      "authorship_tag": "ABX9TyPpnoYlMCFiwn2nf0QgpI+g",
      "include_colab_link": true
    },
    "kernelspec": {
      "name": "python3",
      "display_name": "Python 3"
    },
    "language_info": {
      "name": "python"
    }
  },
  "cells": [
    {
      "cell_type": "markdown",
      "metadata": {
        "id": "view-in-github",
        "colab_type": "text"
      },
      "source": [
        "<a href=\"https://colab.research.google.com/github/aSafarpoor/KGCLG/blob/main/LightGCN_part2_view0.ipynb\" target=\"_parent\"><img src=\"https://colab.research.google.com/assets/colab-badge.svg\" alt=\"Open In Colab\"/></a>"
      ]
    },
    {
      "cell_type": "code",
      "execution_count": 1,
      "metadata": {
        "id": "uLGNvXTh84tr"
      },
      "outputs": [],
      "source": [
        "import numpy as np\n",
        "from tqdm import tqdm \n",
        "import pandas as pd\n",
        "import pickle"
      ]
    },
    {
      "cell_type": "code",
      "source": [
        "from google.colab import drive\n",
        "drive.mount('/content/drive/')\n",
        "\n",
        "%cd /content/drive/My Drive/KGCLG"
      ],
      "metadata": {
        "id": "G7LrTYO19HHp",
        "colab": {
          "base_uri": "https://localhost:8080/"
        },
        "outputId": "5b9f8cd6-9ce4-44ce-f779-7316ade8a656"
      },
      "execution_count": 2,
      "outputs": [
        {
          "output_type": "stream",
          "name": "stdout",
          "text": [
            "Drive already mounted at /content/drive/; to attempt to forcibly remount, call drive.mount(\"/content/drive/\", force_remount=True).\n",
            "/content/drive/My Drive/KGCLG\n"
          ]
        }
      ]
    },
    {
      "cell_type": "code",
      "source": [
        "!ls "
      ],
      "metadata": {
        "id": "r8eG8NlO9ms7",
        "colab": {
          "base_uri": "https://localhost:8080/"
        },
        "outputId": "6b0e9536-88b2-4179-9e16-55f1b11ead75"
      },
      "execution_count": 3,
      "outputs": [
        {
          "output_type": "stream",
          "name": "stdout",
          "text": [
            "brands1.pickle\t\t\t     meta_justV.rar\n",
            "catedges1.pickle\t\t     meta.pickle\n",
            "iinits.pickle\t\t\t     n2brands.csv\n",
            "Industrial_and_Scientific.json\t     uinits.pickle\n",
            "meta128_2.csv\t\t\t     ui.pickle\n",
            "meta128.pickle\t\t\t     view0_edges_dict.csv\n",
            "meta_Industrial_and_Scientific.json  view0-embeddings.csv\n",
            "meta_justV\t\t\t     view0-embeddings.json\n"
          ]
        }
      ]
    },
    {
      "cell_type": "code",
      "source": [
        "def pickle_reader(name):\n",
        "    with open(name, 'rb') as handle:\n",
        "        b = pickle.load(handle)\n",
        "        return b\n",
        "ui = pickle_reader(\"ui.pickle\")\n",
        "users = list(set(list(ui.reviewerID)))\n",
        "items = list(set(list(ui.asin)))\n"
      ],
      "metadata": {
        "id": "Ewv9wgAI-70s"
      },
      "execution_count": 4,
      "outputs": []
    },
    {
      "cell_type": "code",
      "source": [
        "nvd = {}\n",
        "\n",
        "for n in tqdm(users):\n",
        "    nvd[n]=[]\n",
        "for n in tqdm(items):\n",
        "    nvd[n]=[]"
      ],
      "metadata": {
        "colab": {
          "base_uri": "https://localhost:8080/"
        },
        "id": "x7zCK7QuHPsk",
        "outputId": "19939eeb-de7a-4f11-e8d0-9ff7f2f7c1bf"
      },
      "execution_count": 5,
      "outputs": [
        {
          "output_type": "stream",
          "name": "stderr",
          "text": [
            "100%|██████████| 914150/914150 [00:02<00:00, 399996.47it/s]\n",
            "100%|██████████| 131400/131400 [00:00<00:00, 526239.37it/s]\n"
          ]
        }
      ]
    },
    {
      "cell_type": "code",
      "source": [
        "for ind in tqdm(range(len(ui))):\n",
        "    row = ui.iloc[ind]\n",
        "    e1, e2 = row['asin'],row['reviewerID']\n",
        "    nvd[e1].append(e2)   \n",
        "    nvd[e2].append(e1)"
      ],
      "metadata": {
        "colab": {
          "base_uri": "https://localhost:8080/"
        },
        "id": "wgQhe4tjGg0Z",
        "outputId": "194709d7-21ce-4d75-cfbf-60e934070b7b"
      },
      "execution_count": 6,
      "outputs": [
        {
          "output_type": "stream",
          "name": "stderr",
          "text": [
            "100%|██████████| 1267323/1267323 [01:45<00:00, 12051.00it/s]\n"
          ]
        }
      ]
    },
    {
      "cell_type": "code",
      "source": [
        "nv = np.array([list(nvd.keys()),list(nvd.values())]).T\n",
        "df2 = pd.DataFrame (nv, columns = ['neigh1','neigh2'])"
      ],
      "metadata": {
        "colab": {
          "base_uri": "https://localhost:8080/"
        },
        "id": "B3k9fGI4_izl",
        "outputId": "a07347b6-f11c-429e-ec38-876c5fce5b88"
      },
      "execution_count": 13,
      "outputs": [
        {
          "output_type": "stream",
          "name": "stderr",
          "text": [
            "/usr/local/lib/python3.7/dist-packages/ipykernel_launcher.py:1: VisibleDeprecationWarning: Creating an ndarray from ragged nested sequences (which is a list-or-tuple of lists-or-tuples-or ndarrays with different lengths or shapes) is deprecated. If you meant to do this, you must specify 'dtype=object' when creating the ndarray.\n",
            "  \"\"\"Entry point for launching an IPython kernel.\n"
          ]
        }
      ]
    },
    {
      "cell_type": "code",
      "source": [
        "df2.head(10)"
      ],
      "metadata": {
        "colab": {
          "base_uri": "https://localhost:8080/",
          "height": 363
        },
        "id": "bRF3_j2p__ck",
        "outputId": "2196ca9f-f7f1-4648-8ca2-ee4f0f9baee4"
      },
      "execution_count": 15,
      "outputs": [
        {
          "output_type": "execute_result",
          "data": {
            "text/plain": [
              "           neigh1                    neigh2\n",
              "0   APGT99CU2U8WG              [B00YMECNMI]\n",
              "1  A36QL1MDUKI5N5              [B00N582CBY]\n",
              "2   AVAG2D00E6ZDZ              [B015X9YH2O]\n",
              "3  A2WFFCSZJR84YU              [B001C7HKMG]\n",
              "4   AGT55D0FT0P03              [B001BSJ7FE]\n",
              "5  A1S7MMR58JKV7H              [B0002AYZUO]\n",
              "6   AAQKZ1606FH7M  [B000LDDOXG, B003VAY4SA]\n",
              "7  A2Z640C8Z4PCC4              [B00KZHP49K]\n",
              "8  A1DOXPQYM3X794              [B0026T7AZG]\n",
              "9   AZBDWES1296MV              [B000189RMS]"
            ],
            "text/html": [
              "\n",
              "  <div id=\"df-71719335-8b5c-4554-927d-9d437be48b49\">\n",
              "    <div class=\"colab-df-container\">\n",
              "      <div>\n",
              "<style scoped>\n",
              "    .dataframe tbody tr th:only-of-type {\n",
              "        vertical-align: middle;\n",
              "    }\n",
              "\n",
              "    .dataframe tbody tr th {\n",
              "        vertical-align: top;\n",
              "    }\n",
              "\n",
              "    .dataframe thead th {\n",
              "        text-align: right;\n",
              "    }\n",
              "</style>\n",
              "<table border=\"1\" class=\"dataframe\">\n",
              "  <thead>\n",
              "    <tr style=\"text-align: right;\">\n",
              "      <th></th>\n",
              "      <th>neigh1</th>\n",
              "      <th>neigh2</th>\n",
              "    </tr>\n",
              "  </thead>\n",
              "  <tbody>\n",
              "    <tr>\n",
              "      <th>0</th>\n",
              "      <td>APGT99CU2U8WG</td>\n",
              "      <td>[B00YMECNMI]</td>\n",
              "    </tr>\n",
              "    <tr>\n",
              "      <th>1</th>\n",
              "      <td>A36QL1MDUKI5N5</td>\n",
              "      <td>[B00N582CBY]</td>\n",
              "    </tr>\n",
              "    <tr>\n",
              "      <th>2</th>\n",
              "      <td>AVAG2D00E6ZDZ</td>\n",
              "      <td>[B015X9YH2O]</td>\n",
              "    </tr>\n",
              "    <tr>\n",
              "      <th>3</th>\n",
              "      <td>A2WFFCSZJR84YU</td>\n",
              "      <td>[B001C7HKMG]</td>\n",
              "    </tr>\n",
              "    <tr>\n",
              "      <th>4</th>\n",
              "      <td>AGT55D0FT0P03</td>\n",
              "      <td>[B001BSJ7FE]</td>\n",
              "    </tr>\n",
              "    <tr>\n",
              "      <th>5</th>\n",
              "      <td>A1S7MMR58JKV7H</td>\n",
              "      <td>[B0002AYZUO]</td>\n",
              "    </tr>\n",
              "    <tr>\n",
              "      <th>6</th>\n",
              "      <td>AAQKZ1606FH7M</td>\n",
              "      <td>[B000LDDOXG, B003VAY4SA]</td>\n",
              "    </tr>\n",
              "    <tr>\n",
              "      <th>7</th>\n",
              "      <td>A2Z640C8Z4PCC4</td>\n",
              "      <td>[B00KZHP49K]</td>\n",
              "    </tr>\n",
              "    <tr>\n",
              "      <th>8</th>\n",
              "      <td>A1DOXPQYM3X794</td>\n",
              "      <td>[B0026T7AZG]</td>\n",
              "    </tr>\n",
              "    <tr>\n",
              "      <th>9</th>\n",
              "      <td>AZBDWES1296MV</td>\n",
              "      <td>[B000189RMS]</td>\n",
              "    </tr>\n",
              "  </tbody>\n",
              "</table>\n",
              "</div>\n",
              "      <button class=\"colab-df-convert\" onclick=\"convertToInteractive('df-71719335-8b5c-4554-927d-9d437be48b49')\"\n",
              "              title=\"Convert this dataframe to an interactive table.\"\n",
              "              style=\"display:none;\">\n",
              "        \n",
              "  <svg xmlns=\"http://www.w3.org/2000/svg\" height=\"24px\"viewBox=\"0 0 24 24\"\n",
              "       width=\"24px\">\n",
              "    <path d=\"M0 0h24v24H0V0z\" fill=\"none\"/>\n",
              "    <path d=\"M18.56 5.44l.94 2.06.94-2.06 2.06-.94-2.06-.94-.94-2.06-.94 2.06-2.06.94zm-11 1L8.5 8.5l.94-2.06 2.06-.94-2.06-.94L8.5 2.5l-.94 2.06-2.06.94zm10 10l.94 2.06.94-2.06 2.06-.94-2.06-.94-.94-2.06-.94 2.06-2.06.94z\"/><path d=\"M17.41 7.96l-1.37-1.37c-.4-.4-.92-.59-1.43-.59-.52 0-1.04.2-1.43.59L10.3 9.45l-7.72 7.72c-.78.78-.78 2.05 0 2.83L4 21.41c.39.39.9.59 1.41.59.51 0 1.02-.2 1.41-.59l7.78-7.78 2.81-2.81c.8-.78.8-2.07 0-2.86zM5.41 20L4 18.59l7.72-7.72 1.47 1.35L5.41 20z\"/>\n",
              "  </svg>\n",
              "      </button>\n",
              "      \n",
              "  <style>\n",
              "    .colab-df-container {\n",
              "      display:flex;\n",
              "      flex-wrap:wrap;\n",
              "      gap: 12px;\n",
              "    }\n",
              "\n",
              "    .colab-df-convert {\n",
              "      background-color: #E8F0FE;\n",
              "      border: none;\n",
              "      border-radius: 50%;\n",
              "      cursor: pointer;\n",
              "      display: none;\n",
              "      fill: #1967D2;\n",
              "      height: 32px;\n",
              "      padding: 0 0 0 0;\n",
              "      width: 32px;\n",
              "    }\n",
              "\n",
              "    .colab-df-convert:hover {\n",
              "      background-color: #E2EBFA;\n",
              "      box-shadow: 0px 1px 2px rgba(60, 64, 67, 0.3), 0px 1px 3px 1px rgba(60, 64, 67, 0.15);\n",
              "      fill: #174EA6;\n",
              "    }\n",
              "\n",
              "    [theme=dark] .colab-df-convert {\n",
              "      background-color: #3B4455;\n",
              "      fill: #D2E3FC;\n",
              "    }\n",
              "\n",
              "    [theme=dark] .colab-df-convert:hover {\n",
              "      background-color: #434B5C;\n",
              "      box-shadow: 0px 1px 3px 1px rgba(0, 0, 0, 0.15);\n",
              "      filter: drop-shadow(0px 1px 2px rgba(0, 0, 0, 0.3));\n",
              "      fill: #FFFFFF;\n",
              "    }\n",
              "  </style>\n",
              "\n",
              "      <script>\n",
              "        const buttonEl =\n",
              "          document.querySelector('#df-71719335-8b5c-4554-927d-9d437be48b49 button.colab-df-convert');\n",
              "        buttonEl.style.display =\n",
              "          google.colab.kernel.accessAllowed ? 'block' : 'none';\n",
              "\n",
              "        async function convertToInteractive(key) {\n",
              "          const element = document.querySelector('#df-71719335-8b5c-4554-927d-9d437be48b49');\n",
              "          const dataTable =\n",
              "            await google.colab.kernel.invokeFunction('convertToInteractive',\n",
              "                                                     [key], {});\n",
              "          if (!dataTable) return;\n",
              "\n",
              "          const docLinkHtml = 'Like what you see? Visit the ' +\n",
              "            '<a target=\"_blank\" href=https://colab.research.google.com/notebooks/data_table.ipynb>data table notebook</a>'\n",
              "            + ' to learn more about interactive tables.';\n",
              "          element.innerHTML = '';\n",
              "          dataTable['output_type'] = 'display_data';\n",
              "          await google.colab.output.renderOutput(dataTable, element);\n",
              "          const docLink = document.createElement('div');\n",
              "          docLink.innerHTML = docLinkHtml;\n",
              "          element.appendChild(docLink);\n",
              "        }\n",
              "      </script>\n",
              "    </div>\n",
              "  </div>\n",
              "  "
            ]
          },
          "metadata": {},
          "execution_count": 15
        }
      ]
    },
    {
      "cell_type": "code",
      "source": [
        "df2.to_json('view0-edges.json', orient = 'split', compression = 'infer', index = 'true')"
      ],
      "metadata": {
        "id": "iVe2hv5_AArh"
      },
      "execution_count": 16,
      "outputs": []
    },
    {
      "cell_type": "code",
      "source": [],
      "metadata": {
        "id": "c7P4Cr5OBSnR"
      },
      "execution_count": null,
      "outputs": []
    }
  ]
}