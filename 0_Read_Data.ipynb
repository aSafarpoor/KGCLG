{
  "nbformat": 4,
  "nbformat_minor": 0,
  "metadata": {
    "colab": {
      "provenance": [],
      "collapsed_sections": [],
      "authorship_tag": "ABX9TyMvc3QssEk9qh8y1lktTEXl",
      "include_colab_link": true
    },
    "kernelspec": {
      "name": "python3",
      "display_name": "Python 3"
    },
    "language_info": {
      "name": "python"
    }
  },
  "cells": [
    {
      "cell_type": "markdown",
      "metadata": {
        "id": "view-in-github",
        "colab_type": "text"
      },
      "source": [
        "<a href=\"https://colab.research.google.com/github/aSafarpoor/KGCLG/blob/main/0_Read_Data.ipynb\" target=\"_parent\"><img src=\"https://colab.research.google.com/assets/colab-badge.svg\" alt=\"Open In Colab\"/></a>"
      ]
    },
    {
      "cell_type": "code",
      "execution_count": 53,
      "metadata": {
        "id": "k0Rn08VS8dlH"
      },
      "outputs": [],
      "source": [
        "import random\n",
        "import numpy as np\n",
        "from tqdm import tqdm \n",
        "import pandas as pd\n",
        "import json\n",
        "from collections import Counter\n",
        "import pandas as pd\n",
        "import pickle"
      ]
    },
    {
      "cell_type": "code",
      "source": [
        "from google.colab import drive\n",
        "drive.mount('/content/drive/')\n",
        "\n",
        "%cd /content/drive/My Drive/"
      ],
      "metadata": {
        "id": "hg2ueJWy9PPO",
        "colab": {
          "base_uri": "https://localhost:8080/"
        },
        "outputId": "4cd54cc4-e4e5-4439-cbd5-f4f16b3bb40c"
      },
      "execution_count": 3,
      "outputs": [
        {
          "output_type": "stream",
          "name": "stdout",
          "text": [
            "Drive already mounted at /content/drive/; to attempt to forcibly remount, call drive.mount(\"/content/drive/\", force_remount=True).\n",
            "/content/drive/My Drive\n"
          ]
        }
      ]
    },
    {
      "cell_type": "code",
      "source": [
        "# !mkdir KGCLG\n",
        "%cd KGCLG"
      ],
      "metadata": {
        "colab": {
          "base_uri": "https://localhost:8080/"
        },
        "id": "FZaNzQ4dTMoq",
        "outputId": "c49da109-0a34-49f1-8f9e-384e3bfbb639"
      },
      "execution_count": 4,
      "outputs": [
        {
          "output_type": "stream",
          "name": "stdout",
          "text": [
            "/content/drive/My Drive/KGCLG\n"
          ]
        }
      ]
    },
    {
      "cell_type": "markdown",
      "source": [
        "## read data"
      ],
      "metadata": {
        "id": "nznFBelJsiHk"
      }
    },
    {
      "cell_type": "code",
      "source": [
        "!wget https://jmcauley.ucsd.edu/data/amazon_v2/categoryFiles/Software.json.gz --no-check-certificate"
      ],
      "metadata": {
        "id": "zgSL0Ej4A8QO",
        "colab": {
          "base_uri": "https://localhost:8080/"
        },
        "outputId": "fe736138-67b2-44b8-bd81-e80161cb05c8"
      },
      "execution_count": 11,
      "outputs": [
        {
          "output_type": "stream",
          "name": "stdout",
          "text": [
            "--2022-10-31 15:19:06--  https://jmcauley.ucsd.edu/data/amazon_v2/categoryFiles/Software.json.gz\n",
            "Resolving jmcauley.ucsd.edu (jmcauley.ucsd.edu)... 137.110.160.73\n",
            "Connecting to jmcauley.ucsd.edu (jmcauley.ucsd.edu)|137.110.160.73|:443... connected.\n",
            "WARNING: cannot verify jmcauley.ucsd.edu's certificate, issued by ‘CN=InCommon RSA Server CA,OU=InCommon,O=Internet2,L=Ann Arbor,ST=MI,C=US’:\n",
            "  Unable to locally verify the issuer's authority.\n",
            "HTTP request sent, awaiting response... 200 OK\n",
            "Length: 98221392 (94M) [application/x-gzip]\n",
            "Saving to: ‘Software.json.gz’\n",
            "\n",
            "Software.json.gz    100%[===================>]  93.67M  60.8MB/s    in 1.5s    \n",
            "\n",
            "2022-10-31 15:19:08 (60.8 MB/s) - ‘Software.json.gz’ saved [98221392/98221392]\n",
            "\n"
          ]
        }
      ]
    },
    {
      "cell_type": "code",
      "source": [
        "!wget https://jmcauley.ucsd.edu/data/amazon_v2/metaFiles2/meta_Software.json.gz --no-check-certificate"
      ],
      "metadata": {
        "colab": {
          "base_uri": "https://localhost:8080/"
        },
        "id": "AaBjpc5QQi8I",
        "outputId": "29a0cb73-6549-4590-ae75-dd19323608c2"
      },
      "execution_count": 12,
      "outputs": [
        {
          "output_type": "stream",
          "name": "stdout",
          "text": [
            "--2022-10-31 15:19:11--  https://jmcauley.ucsd.edu/data/amazon_v2/metaFiles2/meta_Software.json.gz\n",
            "Resolving jmcauley.ucsd.edu (jmcauley.ucsd.edu)... 137.110.160.73\n",
            "Connecting to jmcauley.ucsd.edu (jmcauley.ucsd.edu)|137.110.160.73|:443... connected.\n",
            "WARNING: cannot verify jmcauley.ucsd.edu's certificate, issued by ‘CN=InCommon RSA Server CA,OU=InCommon,O=Internet2,L=Ann Arbor,ST=MI,C=US’:\n",
            "  Unable to locally verify the issuer's authority.\n",
            "HTTP request sent, awaiting response... 200 OK\n",
            "Length: 15240894 (15M) [application/x-gzip]\n",
            "Saving to: ‘meta_Software.json.gz’\n",
            "\n",
            "meta_Software.json. 100%[===================>]  14.53M  56.0MB/s    in 0.3s    \n",
            "\n",
            "2022-10-31 15:19:12 (56.0 MB/s) - ‘meta_Software.json.gz’ saved [15240894/15240894]\n",
            "\n"
          ]
        }
      ]
    },
    {
      "cell_type": "code",
      "source": [
        "!gunzip -k meta_Software.json.gz\n",
        "!gunzip -k Software.json.gz\n",
        "!rm meta_Software.json.gz\n",
        "!rm Software.json.gz"
      ],
      "metadata": {
        "colab": {
          "base_uri": "https://localhost:8080/"
        },
        "id": "LC3y062VTzXd",
        "outputId": "21fad21a-4210-47f5-e960-9598c2815e28"
      },
      "execution_count": 57,
      "outputs": [
        {
          "output_type": "stream",
          "name": "stdout",
          "text": [
            "gzip: meta_Software.json.gz: No such file or directory\n",
            "gzip: Software.json.gz: No such file or directory\n",
            "rm: cannot remove 'meta_Software.json.gz': No such file or directory\n",
            "rm: cannot remove 'Software.json.gz': No such file or directory\n"
          ]
        }
      ]
    },
    {
      "cell_type": "code",
      "source": [
        "!ls"
      ],
      "metadata": {
        "colab": {
          "base_uri": "https://localhost:8080/"
        },
        "id": "wroNooapVRmI",
        "outputId": "1f8f931c-72fb-4045-bd78-fa96d07fb678"
      },
      "execution_count": 58,
      "outputs": [
        {
          "output_type": "stream",
          "name": "stdout",
          "text": [
            "meta_Software.json  Software.json\n"
          ]
        }
      ]
    },
    {
      "cell_type": "code",
      "source": [
        "meta = pd.read_json('meta_Software.json', lines=True)\n",
        "ui = pd.read_json('Software.json', lines=True)"
      ],
      "metadata": {
        "id": "YsQq3FjqVSTJ"
      },
      "execution_count": 78,
      "outputs": []
    },
    {
      "cell_type": "code",
      "source": [
        "ui.columns"
      ],
      "metadata": {
        "colab": {
          "base_uri": "https://localhost:8080/"
        },
        "id": "51YNQlTaoNOS",
        "outputId": "bea71c16-5e9f-478e-8532-e5fb262af23c"
      },
      "execution_count": 79,
      "outputs": [
        {
          "output_type": "execute_result",
          "data": {
            "text/plain": [
              "Index(['overall', 'verified', 'reviewTime', 'reviewerID', 'asin', 'style',\n",
              "       'reviewerName', 'reviewText', 'summary', 'unixReviewTime', 'vote',\n",
              "       'image'],\n",
              "      dtype='object')"
            ]
          },
          "metadata": {},
          "execution_count": 79
        }
      ]
    },
    {
      "cell_type": "code",
      "source": [
        "print(len(ui))\n",
        "ui = ui[ui.overall>=4]\n",
        "ui = ui[['reviewerID','asin']]\n",
        "print(len(ui))\n"
      ],
      "metadata": {
        "colab": {
          "base_uri": "https://localhost:8080/"
        },
        "id": "6cYN8HlLa_Sd",
        "outputId": "ffa5a512-767b-4267-8245-f83f36060389"
      },
      "execution_count": 80,
      "outputs": [
        {
          "output_type": "stream",
          "name": "stdout",
          "text": [
            "459436\n",
            "286048\n"
          ]
        }
      ]
    },
    {
      "cell_type": "code",
      "source": [
        "ui = ui.dropna()\n",
        "ui = ui.drop_duplicates()\n",
        "print(len(ui))"
      ],
      "metadata": {
        "colab": {
          "base_uri": "https://localhost:8080/"
        },
        "id": "hGg2IkZxa_U3",
        "outputId": "7f89f050-521d-4c85-926d-cccdbabdfb9d"
      },
      "execution_count": 81,
      "outputs": [
        {
          "output_type": "stream",
          "name": "stdout",
          "text": [
            "280490\n"
          ]
        }
      ]
    },
    {
      "cell_type": "code",
      "source": [
        "ui = ui.reset_index()\n",
        "del ui['index']"
      ],
      "metadata": {
        "id": "cvcTeOv7feGF"
      },
      "execution_count": 82,
      "outputs": []
    },
    {
      "cell_type": "code",
      "source": [
        "ui.head(5)"
      ],
      "metadata": {
        "colab": {
          "base_uri": "https://localhost:8080/",
          "height": 206
        },
        "id": "_IrzMyIrc3o_",
        "outputId": "621fa949-e4f1-47be-e462-c7f3451241eb"
      },
      "execution_count": 83,
      "outputs": [
        {
          "output_type": "execute_result",
          "data": {
            "text/plain": [
              "       reviewerID        asin\n",
              "0  A240ORQ2LF9LUI  0077613252\n",
              "1  A1YCCU0YRLS0FE  0077613252\n",
              "2  A2JZTTBSLS1QXV  0077775473\n",
              "3   AGN3T5ERYJN5A  0132147556\n",
              "4  A35UC8LHA6TILH  0132147556"
            ],
            "text/html": [
              "\n",
              "  <div id=\"df-f42a32c7-cf86-499a-8711-7f7c98fafb9e\">\n",
              "    <div class=\"colab-df-container\">\n",
              "      <div>\n",
              "<style scoped>\n",
              "    .dataframe tbody tr th:only-of-type {\n",
              "        vertical-align: middle;\n",
              "    }\n",
              "\n",
              "    .dataframe tbody tr th {\n",
              "        vertical-align: top;\n",
              "    }\n",
              "\n",
              "    .dataframe thead th {\n",
              "        text-align: right;\n",
              "    }\n",
              "</style>\n",
              "<table border=\"1\" class=\"dataframe\">\n",
              "  <thead>\n",
              "    <tr style=\"text-align: right;\">\n",
              "      <th></th>\n",
              "      <th>reviewerID</th>\n",
              "      <th>asin</th>\n",
              "    </tr>\n",
              "  </thead>\n",
              "  <tbody>\n",
              "    <tr>\n",
              "      <th>0</th>\n",
              "      <td>A240ORQ2LF9LUI</td>\n",
              "      <td>0077613252</td>\n",
              "    </tr>\n",
              "    <tr>\n",
              "      <th>1</th>\n",
              "      <td>A1YCCU0YRLS0FE</td>\n",
              "      <td>0077613252</td>\n",
              "    </tr>\n",
              "    <tr>\n",
              "      <th>2</th>\n",
              "      <td>A2JZTTBSLS1QXV</td>\n",
              "      <td>0077775473</td>\n",
              "    </tr>\n",
              "    <tr>\n",
              "      <th>3</th>\n",
              "      <td>AGN3T5ERYJN5A</td>\n",
              "      <td>0132147556</td>\n",
              "    </tr>\n",
              "    <tr>\n",
              "      <th>4</th>\n",
              "      <td>A35UC8LHA6TILH</td>\n",
              "      <td>0132147556</td>\n",
              "    </tr>\n",
              "  </tbody>\n",
              "</table>\n",
              "</div>\n",
              "      <button class=\"colab-df-convert\" onclick=\"convertToInteractive('df-f42a32c7-cf86-499a-8711-7f7c98fafb9e')\"\n",
              "              title=\"Convert this dataframe to an interactive table.\"\n",
              "              style=\"display:none;\">\n",
              "        \n",
              "  <svg xmlns=\"http://www.w3.org/2000/svg\" height=\"24px\"viewBox=\"0 0 24 24\"\n",
              "       width=\"24px\">\n",
              "    <path d=\"M0 0h24v24H0V0z\" fill=\"none\"/>\n",
              "    <path d=\"M18.56 5.44l.94 2.06.94-2.06 2.06-.94-2.06-.94-.94-2.06-.94 2.06-2.06.94zm-11 1L8.5 8.5l.94-2.06 2.06-.94-2.06-.94L8.5 2.5l-.94 2.06-2.06.94zm10 10l.94 2.06.94-2.06 2.06-.94-2.06-.94-.94-2.06-.94 2.06-2.06.94z\"/><path d=\"M17.41 7.96l-1.37-1.37c-.4-.4-.92-.59-1.43-.59-.52 0-1.04.2-1.43.59L10.3 9.45l-7.72 7.72c-.78.78-.78 2.05 0 2.83L4 21.41c.39.39.9.59 1.41.59.51 0 1.02-.2 1.41-.59l7.78-7.78 2.81-2.81c.8-.78.8-2.07 0-2.86zM5.41 20L4 18.59l7.72-7.72 1.47 1.35L5.41 20z\"/>\n",
              "  </svg>\n",
              "      </button>\n",
              "      \n",
              "  <style>\n",
              "    .colab-df-container {\n",
              "      display:flex;\n",
              "      flex-wrap:wrap;\n",
              "      gap: 12px;\n",
              "    }\n",
              "\n",
              "    .colab-df-convert {\n",
              "      background-color: #E8F0FE;\n",
              "      border: none;\n",
              "      border-radius: 50%;\n",
              "      cursor: pointer;\n",
              "      display: none;\n",
              "      fill: #1967D2;\n",
              "      height: 32px;\n",
              "      padding: 0 0 0 0;\n",
              "      width: 32px;\n",
              "    }\n",
              "\n",
              "    .colab-df-convert:hover {\n",
              "      background-color: #E2EBFA;\n",
              "      box-shadow: 0px 1px 2px rgba(60, 64, 67, 0.3), 0px 1px 3px 1px rgba(60, 64, 67, 0.15);\n",
              "      fill: #174EA6;\n",
              "    }\n",
              "\n",
              "    [theme=dark] .colab-df-convert {\n",
              "      background-color: #3B4455;\n",
              "      fill: #D2E3FC;\n",
              "    }\n",
              "\n",
              "    [theme=dark] .colab-df-convert:hover {\n",
              "      background-color: #434B5C;\n",
              "      box-shadow: 0px 1px 3px 1px rgba(0, 0, 0, 0.15);\n",
              "      filter: drop-shadow(0px 1px 2px rgba(0, 0, 0, 0.3));\n",
              "      fill: #FFFFFF;\n",
              "    }\n",
              "  </style>\n",
              "\n",
              "      <script>\n",
              "        const buttonEl =\n",
              "          document.querySelector('#df-f42a32c7-cf86-499a-8711-7f7c98fafb9e button.colab-df-convert');\n",
              "        buttonEl.style.display =\n",
              "          google.colab.kernel.accessAllowed ? 'block' : 'none';\n",
              "\n",
              "        async function convertToInteractive(key) {\n",
              "          const element = document.querySelector('#df-f42a32c7-cf86-499a-8711-7f7c98fafb9e');\n",
              "          const dataTable =\n",
              "            await google.colab.kernel.invokeFunction('convertToInteractive',\n",
              "                                                     [key], {});\n",
              "          if (!dataTable) return;\n",
              "\n",
              "          const docLinkHtml = 'Like what you see? Visit the ' +\n",
              "            '<a target=\"_blank\" href=https://colab.research.google.com/notebooks/data_table.ipynb>data table notebook</a>'\n",
              "            + ' to learn more about interactive tables.';\n",
              "          element.innerHTML = '';\n",
              "          dataTable['output_type'] = 'display_data';\n",
              "          await google.colab.output.renderOutput(dataTable, element);\n",
              "          const docLink = document.createElement('div');\n",
              "          docLink.innerHTML = docLinkHtml;\n",
              "          element.appendChild(docLink);\n",
              "        }\n",
              "      </script>\n",
              "    </div>\n",
              "  </div>\n",
              "  "
            ]
          },
          "metadata": {},
          "execution_count": 83
        }
      ]
    },
    {
      "cell_type": "code",
      "source": [
        "meta.head(3)"
      ],
      "metadata": {
        "colab": {
          "base_uri": "https://localhost:8080/",
          "height": 381
        },
        "id": "cgF4Jbipdd1Z",
        "outputId": "bd2f8c54-f52f-4a37-e5e9-524426470089"
      },
      "execution_count": 84,
      "outputs": [
        {
          "output_type": "execute_result",
          "data": {
            "text/plain": [
              "  category tech1                                        description fit  \\\n",
              "0       []                                                       []       \n",
              "1       []        [, <b>Latin rhythms that will get your kids si...       \n",
              "2       []        [<b>Connect is the only integrated learning sy...       \n",
              "\n",
              "                                               title also_buy tech2  \\\n",
              "0  HOLT PHYSICS LESSON PRESENTATION CD-ROM QUICK ...       []         \n",
              "1  Sing, Watch, &amp; Learn Spanish (DVD + Guide)...       []         \n",
              "2  Connect with LearnSmart Access Card for Microb...       []         \n",
              "\n",
              "                                  brand feature                  rank  \\\n",
              "0            HOLT. RINEHART AND WINSTON      []  25,550 in Software (   \n",
              "1                           McGraw Hill      []  15,792 in Software (   \n",
              "2  McGraw-Hill Science/Engineering/Math      []  16,900 in Software (   \n",
              "\n",
              "  also_view  main_cat similar_item    date  \\\n",
              "0        []  Software               </div>   \n",
              "1        []  Software               </div>   \n",
              "2        []  Software               </div>   \n",
              "\n",
              "                                               price        asin  \\\n",
              "0  .a-box-inner{background-color:#fff}#alohaBuyBo...  0030672120   \n",
              "1                                                     0071480935   \n",
              "2                                                     007329506X   \n",
              "\n",
              "                                            imageURL  \\\n",
              "0                                                 []   \n",
              "1  [https://images-na.ssl-images-amazon.com/image...   \n",
              "2  [https://images-na.ssl-images-amazon.com/image...   \n",
              "\n",
              "                                     imageURLHighRes details  \n",
              "0                                                 []     NaN  \n",
              "1  [https://images-na.ssl-images-amazon.com/image...     NaN  \n",
              "2  [https://images-na.ssl-images-amazon.com/image...     NaN  "
            ],
            "text/html": [
              "\n",
              "  <div id=\"df-3d94fbe4-6b90-42e9-bbcf-d18542fbbc27\">\n",
              "    <div class=\"colab-df-container\">\n",
              "      <div>\n",
              "<style scoped>\n",
              "    .dataframe tbody tr th:only-of-type {\n",
              "        vertical-align: middle;\n",
              "    }\n",
              "\n",
              "    .dataframe tbody tr th {\n",
              "        vertical-align: top;\n",
              "    }\n",
              "\n",
              "    .dataframe thead th {\n",
              "        text-align: right;\n",
              "    }\n",
              "</style>\n",
              "<table border=\"1\" class=\"dataframe\">\n",
              "  <thead>\n",
              "    <tr style=\"text-align: right;\">\n",
              "      <th></th>\n",
              "      <th>category</th>\n",
              "      <th>tech1</th>\n",
              "      <th>description</th>\n",
              "      <th>fit</th>\n",
              "      <th>title</th>\n",
              "      <th>also_buy</th>\n",
              "      <th>tech2</th>\n",
              "      <th>brand</th>\n",
              "      <th>feature</th>\n",
              "      <th>rank</th>\n",
              "      <th>also_view</th>\n",
              "      <th>main_cat</th>\n",
              "      <th>similar_item</th>\n",
              "      <th>date</th>\n",
              "      <th>price</th>\n",
              "      <th>asin</th>\n",
              "      <th>imageURL</th>\n",
              "      <th>imageURLHighRes</th>\n",
              "      <th>details</th>\n",
              "    </tr>\n",
              "  </thead>\n",
              "  <tbody>\n",
              "    <tr>\n",
              "      <th>0</th>\n",
              "      <td>[]</td>\n",
              "      <td></td>\n",
              "      <td>[]</td>\n",
              "      <td></td>\n",
              "      <td>HOLT PHYSICS LESSON PRESENTATION CD-ROM QUICK ...</td>\n",
              "      <td>[]</td>\n",
              "      <td></td>\n",
              "      <td>HOLT. RINEHART AND WINSTON</td>\n",
              "      <td>[]</td>\n",
              "      <td>25,550 in Software (</td>\n",
              "      <td>[]</td>\n",
              "      <td>Software</td>\n",
              "      <td></td>\n",
              "      <td>&lt;/div&gt;</td>\n",
              "      <td>.a-box-inner{background-color:#fff}#alohaBuyBo...</td>\n",
              "      <td>0030672120</td>\n",
              "      <td>[]</td>\n",
              "      <td>[]</td>\n",
              "      <td>NaN</td>\n",
              "    </tr>\n",
              "    <tr>\n",
              "      <th>1</th>\n",
              "      <td>[]</td>\n",
              "      <td></td>\n",
              "      <td>[, &lt;b&gt;Latin rhythms that will get your kids si...</td>\n",
              "      <td></td>\n",
              "      <td>Sing, Watch, &amp;amp; Learn Spanish (DVD + Guide)...</td>\n",
              "      <td>[]</td>\n",
              "      <td></td>\n",
              "      <td>McGraw Hill</td>\n",
              "      <td>[]</td>\n",
              "      <td>15,792 in Software (</td>\n",
              "      <td>[]</td>\n",
              "      <td>Software</td>\n",
              "      <td></td>\n",
              "      <td>&lt;/div&gt;</td>\n",
              "      <td></td>\n",
              "      <td>0071480935</td>\n",
              "      <td>[https://images-na.ssl-images-amazon.com/image...</td>\n",
              "      <td>[https://images-na.ssl-images-amazon.com/image...</td>\n",
              "      <td>NaN</td>\n",
              "    </tr>\n",
              "    <tr>\n",
              "      <th>2</th>\n",
              "      <td>[]</td>\n",
              "      <td></td>\n",
              "      <td>[&lt;b&gt;Connect is the only integrated learning sy...</td>\n",
              "      <td></td>\n",
              "      <td>Connect with LearnSmart Access Card for Microb...</td>\n",
              "      <td>[]</td>\n",
              "      <td></td>\n",
              "      <td>McGraw-Hill Science/Engineering/Math</td>\n",
              "      <td>[]</td>\n",
              "      <td>16,900 in Software (</td>\n",
              "      <td>[]</td>\n",
              "      <td>Software</td>\n",
              "      <td></td>\n",
              "      <td>&lt;/div&gt;</td>\n",
              "      <td></td>\n",
              "      <td>007329506X</td>\n",
              "      <td>[https://images-na.ssl-images-amazon.com/image...</td>\n",
              "      <td>[https://images-na.ssl-images-amazon.com/image...</td>\n",
              "      <td>NaN</td>\n",
              "    </tr>\n",
              "  </tbody>\n",
              "</table>\n",
              "</div>\n",
              "      <button class=\"colab-df-convert\" onclick=\"convertToInteractive('df-3d94fbe4-6b90-42e9-bbcf-d18542fbbc27')\"\n",
              "              title=\"Convert this dataframe to an interactive table.\"\n",
              "              style=\"display:none;\">\n",
              "        \n",
              "  <svg xmlns=\"http://www.w3.org/2000/svg\" height=\"24px\"viewBox=\"0 0 24 24\"\n",
              "       width=\"24px\">\n",
              "    <path d=\"M0 0h24v24H0V0z\" fill=\"none\"/>\n",
              "    <path d=\"M18.56 5.44l.94 2.06.94-2.06 2.06-.94-2.06-.94-.94-2.06-.94 2.06-2.06.94zm-11 1L8.5 8.5l.94-2.06 2.06-.94-2.06-.94L8.5 2.5l-.94 2.06-2.06.94zm10 10l.94 2.06.94-2.06 2.06-.94-2.06-.94-.94-2.06-.94 2.06-2.06.94z\"/><path d=\"M17.41 7.96l-1.37-1.37c-.4-.4-.92-.59-1.43-.59-.52 0-1.04.2-1.43.59L10.3 9.45l-7.72 7.72c-.78.78-.78 2.05 0 2.83L4 21.41c.39.39.9.59 1.41.59.51 0 1.02-.2 1.41-.59l7.78-7.78 2.81-2.81c.8-.78.8-2.07 0-2.86zM5.41 20L4 18.59l7.72-7.72 1.47 1.35L5.41 20z\"/>\n",
              "  </svg>\n",
              "      </button>\n",
              "      \n",
              "  <style>\n",
              "    .colab-df-container {\n",
              "      display:flex;\n",
              "      flex-wrap:wrap;\n",
              "      gap: 12px;\n",
              "    }\n",
              "\n",
              "    .colab-df-convert {\n",
              "      background-color: #E8F0FE;\n",
              "      border: none;\n",
              "      border-radius: 50%;\n",
              "      cursor: pointer;\n",
              "      display: none;\n",
              "      fill: #1967D2;\n",
              "      height: 32px;\n",
              "      padding: 0 0 0 0;\n",
              "      width: 32px;\n",
              "    }\n",
              "\n",
              "    .colab-df-convert:hover {\n",
              "      background-color: #E2EBFA;\n",
              "      box-shadow: 0px 1px 2px rgba(60, 64, 67, 0.3), 0px 1px 3px 1px rgba(60, 64, 67, 0.15);\n",
              "      fill: #174EA6;\n",
              "    }\n",
              "\n",
              "    [theme=dark] .colab-df-convert {\n",
              "      background-color: #3B4455;\n",
              "      fill: #D2E3FC;\n",
              "    }\n",
              "\n",
              "    [theme=dark] .colab-df-convert:hover {\n",
              "      background-color: #434B5C;\n",
              "      box-shadow: 0px 1px 3px 1px rgba(0, 0, 0, 0.15);\n",
              "      filter: drop-shadow(0px 1px 2px rgba(0, 0, 0, 0.3));\n",
              "      fill: #FFFFFF;\n",
              "    }\n",
              "  </style>\n",
              "\n",
              "      <script>\n",
              "        const buttonEl =\n",
              "          document.querySelector('#df-3d94fbe4-6b90-42e9-bbcf-d18542fbbc27 button.colab-df-convert');\n",
              "        buttonEl.style.display =\n",
              "          google.colab.kernel.accessAllowed ? 'block' : 'none';\n",
              "\n",
              "        async function convertToInteractive(key) {\n",
              "          const element = document.querySelector('#df-3d94fbe4-6b90-42e9-bbcf-d18542fbbc27');\n",
              "          const dataTable =\n",
              "            await google.colab.kernel.invokeFunction('convertToInteractive',\n",
              "                                                     [key], {});\n",
              "          if (!dataTable) return;\n",
              "\n",
              "          const docLinkHtml = 'Like what you see? Visit the ' +\n",
              "            '<a target=\"_blank\" href=https://colab.research.google.com/notebooks/data_table.ipynb>data table notebook</a>'\n",
              "            + ' to learn more about interactive tables.';\n",
              "          element.innerHTML = '';\n",
              "          dataTable['output_type'] = 'display_data';\n",
              "          await google.colab.output.renderOutput(dataTable, element);\n",
              "          const docLink = document.createElement('div');\n",
              "          docLink.innerHTML = docLinkHtml;\n",
              "          element.appendChild(docLink);\n",
              "        }\n",
              "      </script>\n",
              "    </div>\n",
              "  </div>\n",
              "  "
            ]
          },
          "metadata": {},
          "execution_count": 84
        }
      ]
    },
    {
      "cell_type": "code",
      "source": [
        "meta.columns"
      ],
      "metadata": {
        "colab": {
          "base_uri": "https://localhost:8080/"
        },
        "id": "Ezjlj0pSeHiW",
        "outputId": "c93e71ab-a21b-4f58-933e-aa2c092eea14"
      },
      "execution_count": 85,
      "outputs": [
        {
          "output_type": "execute_result",
          "data": {
            "text/plain": [
              "Index(['category', 'tech1', 'description', 'fit', 'title', 'also_buy', 'tech2',\n",
              "       'brand', 'feature', 'rank', 'also_view', 'main_cat', 'similar_item',\n",
              "       'date', 'price', 'asin', 'imageURL', 'imageURLHighRes', 'details'],\n",
              "      dtype='object')"
            ]
          },
          "metadata": {},
          "execution_count": 85
        }
      ]
    },
    {
      "cell_type": "code",
      "source": [
        "meta = meta[['asin','description','title','brand',\"imageURL\",\"imageURLHighRes\"]]"
      ],
      "metadata": {
        "id": "6clIKyAMc6nX"
      },
      "execution_count": 86,
      "outputs": []
    },
    {
      "cell_type": "code",
      "source": [
        "meta = meta.dropna()"
      ],
      "metadata": {
        "id": "TacFsHc5dleP"
      },
      "execution_count": 87,
      "outputs": []
    },
    {
      "cell_type": "code",
      "source": [
        "meta = meta.reset_index()\n",
        "del meta['index']"
      ],
      "metadata": {
        "id": "Wnav2l_2e0Ol"
      },
      "execution_count": 88,
      "outputs": []
    },
    {
      "cell_type": "code",
      "source": [
        "meta.head(5)"
      ],
      "metadata": {
        "colab": {
          "base_uri": "https://localhost:8080/",
          "height": 337
        },
        "id": "ZlFNuFWAdFa3",
        "outputId": "512f11ec-a9df-431c-9c76-3a65c1870a29"
      },
      "execution_count": 89,
      "outputs": [
        {
          "output_type": "execute_result",
          "data": {
            "text/plain": [
              "         asin                                        description  \\\n",
              "0  0030672120                                                 []   \n",
              "1  0071480935  [, <b>Latin rhythms that will get your kids si...   \n",
              "2  007329506X  [<b>Connect is the only integrated learning sy...   \n",
              "3  0073513458                                                 []   \n",
              "4  0073525758  [<i>Anatomy &amp; Physiology Revealed Cat</i> ...   \n",
              "\n",
              "                                               title  \\\n",
              "0  HOLT PHYSICS LESSON PRESENTATION CD-ROM QUICK ...   \n",
              "1  Sing, Watch, &amp; Learn Spanish (DVD + Guide)...   \n",
              "2  Connect with LearnSmart Access Card for Microb...   \n",
              "3  LearnSmart Standalone Access Card for Prescott...   \n",
              "4  Anatomy &amp; Physiology Revealed Student Acce...   \n",
              "\n",
              "                                  brand  \\\n",
              "0            HOLT. RINEHART AND WINSTON   \n",
              "1                           McGraw Hill   \n",
              "2  McGraw-Hill Science/Engineering/Math   \n",
              "3                 McGraw-Hill Education   \n",
              "4                 McGraw-Hill Education   \n",
              "\n",
              "                                            imageURL  \\\n",
              "0                                                 []   \n",
              "1  [https://images-na.ssl-images-amazon.com/image...   \n",
              "2  [https://images-na.ssl-images-amazon.com/image...   \n",
              "3  [https://images-na.ssl-images-amazon.com/image...   \n",
              "4  [https://images-na.ssl-images-amazon.com/image...   \n",
              "\n",
              "                                     imageURLHighRes  \n",
              "0                                                 []  \n",
              "1  [https://images-na.ssl-images-amazon.com/image...  \n",
              "2  [https://images-na.ssl-images-amazon.com/image...  \n",
              "3  [https://images-na.ssl-images-amazon.com/image...  \n",
              "4  [https://images-na.ssl-images-amazon.com/image...  "
            ],
            "text/html": [
              "\n",
              "  <div id=\"df-a82c0edb-ffce-4bd2-b659-075894628aa0\">\n",
              "    <div class=\"colab-df-container\">\n",
              "      <div>\n",
              "<style scoped>\n",
              "    .dataframe tbody tr th:only-of-type {\n",
              "        vertical-align: middle;\n",
              "    }\n",
              "\n",
              "    .dataframe tbody tr th {\n",
              "        vertical-align: top;\n",
              "    }\n",
              "\n",
              "    .dataframe thead th {\n",
              "        text-align: right;\n",
              "    }\n",
              "</style>\n",
              "<table border=\"1\" class=\"dataframe\">\n",
              "  <thead>\n",
              "    <tr style=\"text-align: right;\">\n",
              "      <th></th>\n",
              "      <th>asin</th>\n",
              "      <th>description</th>\n",
              "      <th>title</th>\n",
              "      <th>brand</th>\n",
              "      <th>imageURL</th>\n",
              "      <th>imageURLHighRes</th>\n",
              "    </tr>\n",
              "  </thead>\n",
              "  <tbody>\n",
              "    <tr>\n",
              "      <th>0</th>\n",
              "      <td>0030672120</td>\n",
              "      <td>[]</td>\n",
              "      <td>HOLT PHYSICS LESSON PRESENTATION CD-ROM QUICK ...</td>\n",
              "      <td>HOLT. RINEHART AND WINSTON</td>\n",
              "      <td>[]</td>\n",
              "      <td>[]</td>\n",
              "    </tr>\n",
              "    <tr>\n",
              "      <th>1</th>\n",
              "      <td>0071480935</td>\n",
              "      <td>[, &lt;b&gt;Latin rhythms that will get your kids si...</td>\n",
              "      <td>Sing, Watch, &amp;amp; Learn Spanish (DVD + Guide)...</td>\n",
              "      <td>McGraw Hill</td>\n",
              "      <td>[https://images-na.ssl-images-amazon.com/image...</td>\n",
              "      <td>[https://images-na.ssl-images-amazon.com/image...</td>\n",
              "    </tr>\n",
              "    <tr>\n",
              "      <th>2</th>\n",
              "      <td>007329506X</td>\n",
              "      <td>[&lt;b&gt;Connect is the only integrated learning sy...</td>\n",
              "      <td>Connect with LearnSmart Access Card for Microb...</td>\n",
              "      <td>McGraw-Hill Science/Engineering/Math</td>\n",
              "      <td>[https://images-na.ssl-images-amazon.com/image...</td>\n",
              "      <td>[https://images-na.ssl-images-amazon.com/image...</td>\n",
              "    </tr>\n",
              "    <tr>\n",
              "      <th>3</th>\n",
              "      <td>0073513458</td>\n",
              "      <td>[]</td>\n",
              "      <td>LearnSmart Standalone Access Card for Prescott...</td>\n",
              "      <td>McGraw-Hill Education</td>\n",
              "      <td>[https://images-na.ssl-images-amazon.com/image...</td>\n",
              "      <td>[https://images-na.ssl-images-amazon.com/image...</td>\n",
              "    </tr>\n",
              "    <tr>\n",
              "      <th>4</th>\n",
              "      <td>0073525758</td>\n",
              "      <td>[&lt;i&gt;Anatomy &amp;amp; Physiology Revealed Cat&lt;/i&gt; ...</td>\n",
              "      <td>Anatomy &amp;amp; Physiology Revealed Student Acce...</td>\n",
              "      <td>McGraw-Hill Education</td>\n",
              "      <td>[https://images-na.ssl-images-amazon.com/image...</td>\n",
              "      <td>[https://images-na.ssl-images-amazon.com/image...</td>\n",
              "    </tr>\n",
              "  </tbody>\n",
              "</table>\n",
              "</div>\n",
              "      <button class=\"colab-df-convert\" onclick=\"convertToInteractive('df-a82c0edb-ffce-4bd2-b659-075894628aa0')\"\n",
              "              title=\"Convert this dataframe to an interactive table.\"\n",
              "              style=\"display:none;\">\n",
              "        \n",
              "  <svg xmlns=\"http://www.w3.org/2000/svg\" height=\"24px\"viewBox=\"0 0 24 24\"\n",
              "       width=\"24px\">\n",
              "    <path d=\"M0 0h24v24H0V0z\" fill=\"none\"/>\n",
              "    <path d=\"M18.56 5.44l.94 2.06.94-2.06 2.06-.94-2.06-.94-.94-2.06-.94 2.06-2.06.94zm-11 1L8.5 8.5l.94-2.06 2.06-.94-2.06-.94L8.5 2.5l-.94 2.06-2.06.94zm10 10l.94 2.06.94-2.06 2.06-.94-2.06-.94-.94-2.06-.94 2.06-2.06.94z\"/><path d=\"M17.41 7.96l-1.37-1.37c-.4-.4-.92-.59-1.43-.59-.52 0-1.04.2-1.43.59L10.3 9.45l-7.72 7.72c-.78.78-.78 2.05 0 2.83L4 21.41c.39.39.9.59 1.41.59.51 0 1.02-.2 1.41-.59l7.78-7.78 2.81-2.81c.8-.78.8-2.07 0-2.86zM5.41 20L4 18.59l7.72-7.72 1.47 1.35L5.41 20z\"/>\n",
              "  </svg>\n",
              "      </button>\n",
              "      \n",
              "  <style>\n",
              "    .colab-df-container {\n",
              "      display:flex;\n",
              "      flex-wrap:wrap;\n",
              "      gap: 12px;\n",
              "    }\n",
              "\n",
              "    .colab-df-convert {\n",
              "      background-color: #E8F0FE;\n",
              "      border: none;\n",
              "      border-radius: 50%;\n",
              "      cursor: pointer;\n",
              "      display: none;\n",
              "      fill: #1967D2;\n",
              "      height: 32px;\n",
              "      padding: 0 0 0 0;\n",
              "      width: 32px;\n",
              "    }\n",
              "\n",
              "    .colab-df-convert:hover {\n",
              "      background-color: #E2EBFA;\n",
              "      box-shadow: 0px 1px 2px rgba(60, 64, 67, 0.3), 0px 1px 3px 1px rgba(60, 64, 67, 0.15);\n",
              "      fill: #174EA6;\n",
              "    }\n",
              "\n",
              "    [theme=dark] .colab-df-convert {\n",
              "      background-color: #3B4455;\n",
              "      fill: #D2E3FC;\n",
              "    }\n",
              "\n",
              "    [theme=dark] .colab-df-convert:hover {\n",
              "      background-color: #434B5C;\n",
              "      box-shadow: 0px 1px 3px 1px rgba(0, 0, 0, 0.15);\n",
              "      filter: drop-shadow(0px 1px 2px rgba(0, 0, 0, 0.3));\n",
              "      fill: #FFFFFF;\n",
              "    }\n",
              "  </style>\n",
              "\n",
              "      <script>\n",
              "        const buttonEl =\n",
              "          document.querySelector('#df-a82c0edb-ffce-4bd2-b659-075894628aa0 button.colab-df-convert');\n",
              "        buttonEl.style.display =\n",
              "          google.colab.kernel.accessAllowed ? 'block' : 'none';\n",
              "\n",
              "        async function convertToInteractive(key) {\n",
              "          const element = document.querySelector('#df-a82c0edb-ffce-4bd2-b659-075894628aa0');\n",
              "          const dataTable =\n",
              "            await google.colab.kernel.invokeFunction('convertToInteractive',\n",
              "                                                     [key], {});\n",
              "          if (!dataTable) return;\n",
              "\n",
              "          const docLinkHtml = 'Like what you see? Visit the ' +\n",
              "            '<a target=\"_blank\" href=https://colab.research.google.com/notebooks/data_table.ipynb>data table notebook</a>'\n",
              "            + ' to learn more about interactive tables.';\n",
              "          element.innerHTML = '';\n",
              "          dataTable['output_type'] = 'display_data';\n",
              "          await google.colab.output.renderOutput(dataTable, element);\n",
              "          const docLink = document.createElement('div');\n",
              "          docLink.innerHTML = docLinkHtml;\n",
              "          element.appendChild(docLink);\n",
              "        }\n",
              "      </script>\n",
              "    </div>\n",
              "  </div>\n",
              "  "
            ]
          },
          "metadata": {},
          "execution_count": 89
        }
      ]
    },
    {
      "cell_type": "code",
      "source": [
        "print(len(meta))\n",
        "meta = meta[meta['description'].map(lambda d: len(d)) > 0]\n",
        "meta = meta[meta['title'].map(lambda d: len(d)) > 0]\n",
        "meta = meta[meta['asin'].map(lambda d: len(d)) > 0]\n",
        "meta = meta[meta['brand'].map(lambda d: len(d)) > 0]\n",
        "meta = meta[meta['imageURL'].map(lambda d: len(d)) > 0]\n",
        "meta = meta[meta['imageURLHighRes'].map(lambda d: len(d)) > 0]\n",
        "print(len(meta))\n",
        "meta.head(5)"
      ],
      "metadata": {
        "colab": {
          "base_uri": "https://localhost:8080/",
          "height": 372
        },
        "id": "E4hivrIfdrrm",
        "outputId": "a2482a95-e24b-470f-e823-47dc99a6b1de"
      },
      "execution_count": 90,
      "outputs": [
        {
          "output_type": "stream",
          "name": "stdout",
          "text": [
            "26790\n",
            "10279\n"
          ]
        },
        {
          "output_type": "execute_result",
          "data": {
            "text/plain": [
              "         asin                                        description  \\\n",
              "1  0071480935  [, <b>Latin rhythms that will get your kids si...   \n",
              "2  007329506X  [<b>Connect is the only integrated learning sy...   \n",
              "4  0073525758  [<i>Anatomy &amp; Physiology Revealed Cat</i> ...   \n",
              "5  0077340701  [John Coburn grew up in the Hawaiian Islands, ...   \n",
              "6  0077369823  [<b>Connect is the only integrated learning sy...   \n",
              "\n",
              "                                               title  \\\n",
              "1  Sing, Watch, &amp; Learn Spanish (DVD + Guide)...   \n",
              "2  Connect with LearnSmart Access Card for Microb...   \n",
              "4  Anatomy &amp; Physiology Revealed Student Acce...   \n",
              "5  Connect Math by ALEKS Access Card 52 Weeks for...   \n",
              "6  Connect Access Card for Microbiology Fundament...   \n",
              "\n",
              "                                         brand  \\\n",
              "1                                  McGraw Hill   \n",
              "2         McGraw-Hill Science/Engineering/Math   \n",
              "4                        McGraw-Hill Education   \n",
              "5         McGraw-Hill Science/Engineering/Math   \n",
              "6  Brand: McGraw-Hill Science/Engineering/Math   \n",
              "\n",
              "                                            imageURL  \\\n",
              "1  [https://images-na.ssl-images-amazon.com/image...   \n",
              "2  [https://images-na.ssl-images-amazon.com/image...   \n",
              "4  [https://images-na.ssl-images-amazon.com/image...   \n",
              "5  [https://images-na.ssl-images-amazon.com/image...   \n",
              "6  [https://images-na.ssl-images-amazon.com/image...   \n",
              "\n",
              "                                     imageURLHighRes  \n",
              "1  [https://images-na.ssl-images-amazon.com/image...  \n",
              "2  [https://images-na.ssl-images-amazon.com/image...  \n",
              "4  [https://images-na.ssl-images-amazon.com/image...  \n",
              "5  [https://images-na.ssl-images-amazon.com/image...  \n",
              "6  [https://images-na.ssl-images-amazon.com/image...  "
            ],
            "text/html": [
              "\n",
              "  <div id=\"df-db1b0cca-610d-4c7e-adef-8b53b1389299\">\n",
              "    <div class=\"colab-df-container\">\n",
              "      <div>\n",
              "<style scoped>\n",
              "    .dataframe tbody tr th:only-of-type {\n",
              "        vertical-align: middle;\n",
              "    }\n",
              "\n",
              "    .dataframe tbody tr th {\n",
              "        vertical-align: top;\n",
              "    }\n",
              "\n",
              "    .dataframe thead th {\n",
              "        text-align: right;\n",
              "    }\n",
              "</style>\n",
              "<table border=\"1\" class=\"dataframe\">\n",
              "  <thead>\n",
              "    <tr style=\"text-align: right;\">\n",
              "      <th></th>\n",
              "      <th>asin</th>\n",
              "      <th>description</th>\n",
              "      <th>title</th>\n",
              "      <th>brand</th>\n",
              "      <th>imageURL</th>\n",
              "      <th>imageURLHighRes</th>\n",
              "    </tr>\n",
              "  </thead>\n",
              "  <tbody>\n",
              "    <tr>\n",
              "      <th>1</th>\n",
              "      <td>0071480935</td>\n",
              "      <td>[, &lt;b&gt;Latin rhythms that will get your kids si...</td>\n",
              "      <td>Sing, Watch, &amp;amp; Learn Spanish (DVD + Guide)...</td>\n",
              "      <td>McGraw Hill</td>\n",
              "      <td>[https://images-na.ssl-images-amazon.com/image...</td>\n",
              "      <td>[https://images-na.ssl-images-amazon.com/image...</td>\n",
              "    </tr>\n",
              "    <tr>\n",
              "      <th>2</th>\n",
              "      <td>007329506X</td>\n",
              "      <td>[&lt;b&gt;Connect is the only integrated learning sy...</td>\n",
              "      <td>Connect with LearnSmart Access Card for Microb...</td>\n",
              "      <td>McGraw-Hill Science/Engineering/Math</td>\n",
              "      <td>[https://images-na.ssl-images-amazon.com/image...</td>\n",
              "      <td>[https://images-na.ssl-images-amazon.com/image...</td>\n",
              "    </tr>\n",
              "    <tr>\n",
              "      <th>4</th>\n",
              "      <td>0073525758</td>\n",
              "      <td>[&lt;i&gt;Anatomy &amp;amp; Physiology Revealed Cat&lt;/i&gt; ...</td>\n",
              "      <td>Anatomy &amp;amp; Physiology Revealed Student Acce...</td>\n",
              "      <td>McGraw-Hill Education</td>\n",
              "      <td>[https://images-na.ssl-images-amazon.com/image...</td>\n",
              "      <td>[https://images-na.ssl-images-amazon.com/image...</td>\n",
              "    </tr>\n",
              "    <tr>\n",
              "      <th>5</th>\n",
              "      <td>0077340701</td>\n",
              "      <td>[John Coburn grew up in the Hawaiian Islands, ...</td>\n",
              "      <td>Connect Math by ALEKS Access Card 52 Weeks for...</td>\n",
              "      <td>McGraw-Hill Science/Engineering/Math</td>\n",
              "      <td>[https://images-na.ssl-images-amazon.com/image...</td>\n",
              "      <td>[https://images-na.ssl-images-amazon.com/image...</td>\n",
              "    </tr>\n",
              "    <tr>\n",
              "      <th>6</th>\n",
              "      <td>0077369823</td>\n",
              "      <td>[&lt;b&gt;Connect is the only integrated learning sy...</td>\n",
              "      <td>Connect Access Card for Microbiology Fundament...</td>\n",
              "      <td>Brand: McGraw-Hill Science/Engineering/Math</td>\n",
              "      <td>[https://images-na.ssl-images-amazon.com/image...</td>\n",
              "      <td>[https://images-na.ssl-images-amazon.com/image...</td>\n",
              "    </tr>\n",
              "  </tbody>\n",
              "</table>\n",
              "</div>\n",
              "      <button class=\"colab-df-convert\" onclick=\"convertToInteractive('df-db1b0cca-610d-4c7e-adef-8b53b1389299')\"\n",
              "              title=\"Convert this dataframe to an interactive table.\"\n",
              "              style=\"display:none;\">\n",
              "        \n",
              "  <svg xmlns=\"http://www.w3.org/2000/svg\" height=\"24px\"viewBox=\"0 0 24 24\"\n",
              "       width=\"24px\">\n",
              "    <path d=\"M0 0h24v24H0V0z\" fill=\"none\"/>\n",
              "    <path d=\"M18.56 5.44l.94 2.06.94-2.06 2.06-.94-2.06-.94-.94-2.06-.94 2.06-2.06.94zm-11 1L8.5 8.5l.94-2.06 2.06-.94-2.06-.94L8.5 2.5l-.94 2.06-2.06.94zm10 10l.94 2.06.94-2.06 2.06-.94-2.06-.94-.94-2.06-.94 2.06-2.06.94z\"/><path d=\"M17.41 7.96l-1.37-1.37c-.4-.4-.92-.59-1.43-.59-.52 0-1.04.2-1.43.59L10.3 9.45l-7.72 7.72c-.78.78-.78 2.05 0 2.83L4 21.41c.39.39.9.59 1.41.59.51 0 1.02-.2 1.41-.59l7.78-7.78 2.81-2.81c.8-.78.8-2.07 0-2.86zM5.41 20L4 18.59l7.72-7.72 1.47 1.35L5.41 20z\"/>\n",
              "  </svg>\n",
              "      </button>\n",
              "      \n",
              "  <style>\n",
              "    .colab-df-container {\n",
              "      display:flex;\n",
              "      flex-wrap:wrap;\n",
              "      gap: 12px;\n",
              "    }\n",
              "\n",
              "    .colab-df-convert {\n",
              "      background-color: #E8F0FE;\n",
              "      border: none;\n",
              "      border-radius: 50%;\n",
              "      cursor: pointer;\n",
              "      display: none;\n",
              "      fill: #1967D2;\n",
              "      height: 32px;\n",
              "      padding: 0 0 0 0;\n",
              "      width: 32px;\n",
              "    }\n",
              "\n",
              "    .colab-df-convert:hover {\n",
              "      background-color: #E2EBFA;\n",
              "      box-shadow: 0px 1px 2px rgba(60, 64, 67, 0.3), 0px 1px 3px 1px rgba(60, 64, 67, 0.15);\n",
              "      fill: #174EA6;\n",
              "    }\n",
              "\n",
              "    [theme=dark] .colab-df-convert {\n",
              "      background-color: #3B4455;\n",
              "      fill: #D2E3FC;\n",
              "    }\n",
              "\n",
              "    [theme=dark] .colab-df-convert:hover {\n",
              "      background-color: #434B5C;\n",
              "      box-shadow: 0px 1px 3px 1px rgba(0, 0, 0, 0.15);\n",
              "      filter: drop-shadow(0px 1px 2px rgba(0, 0, 0, 0.3));\n",
              "      fill: #FFFFFF;\n",
              "    }\n",
              "  </style>\n",
              "\n",
              "      <script>\n",
              "        const buttonEl =\n",
              "          document.querySelector('#df-db1b0cca-610d-4c7e-adef-8b53b1389299 button.colab-df-convert');\n",
              "        buttonEl.style.display =\n",
              "          google.colab.kernel.accessAllowed ? 'block' : 'none';\n",
              "\n",
              "        async function convertToInteractive(key) {\n",
              "          const element = document.querySelector('#df-db1b0cca-610d-4c7e-adef-8b53b1389299');\n",
              "          const dataTable =\n",
              "            await google.colab.kernel.invokeFunction('convertToInteractive',\n",
              "                                                     [key], {});\n",
              "          if (!dataTable) return;\n",
              "\n",
              "          const docLinkHtml = 'Like what you see? Visit the ' +\n",
              "            '<a target=\"_blank\" href=https://colab.research.google.com/notebooks/data_table.ipynb>data table notebook</a>'\n",
              "            + ' to learn more about interactive tables.';\n",
              "          element.innerHTML = '';\n",
              "          dataTable['output_type'] = 'display_data';\n",
              "          await google.colab.output.renderOutput(dataTable, element);\n",
              "          const docLink = document.createElement('div');\n",
              "          docLink.innerHTML = docLinkHtml;\n",
              "          element.appendChild(docLink);\n",
              "        }\n",
              "      </script>\n",
              "    </div>\n",
              "  </div>\n",
              "  "
            ]
          },
          "metadata": {},
          "execution_count": 90
        }
      ]
    },
    {
      "cell_type": "markdown",
      "source": [
        "## meta clearance"
      ],
      "metadata": {
        "id": "sXxG30Hvsn5r"
      }
    },
    {
      "cell_type": "code",
      "source": [
        "len(meta),len(ui)"
      ],
      "metadata": {
        "colab": {
          "base_uri": "https://localhost:8080/"
        },
        "id": "zKWzfjXcoxp5",
        "outputId": "2b543f53-9e2a-4148-bf57-a34f27ed4415"
      },
      "execution_count": 91,
      "outputs": [
        {
          "output_type": "execute_result",
          "data": {
            "text/plain": [
              "(10279, 280490)"
            ]
          },
          "metadata": {},
          "execution_count": 91
        }
      ]
    },
    {
      "cell_type": "code",
      "source": [
        "def description_improvement(l):\n",
        "    s = ' '.join(l)\n",
        "    return(s)\n",
        "meta['description'] = meta['description'].apply(description_improvement) "
      ],
      "metadata": {
        "id": "uXbw-vjvp9Dv"
      },
      "execution_count": 92,
      "outputs": []
    },
    {
      "cell_type": "code",
      "source": [
        "import re\n",
        "import nltk\n",
        "nltk.download('stopwords')\n",
        "from nltk.corpus import stopwords\n",
        "\n",
        "class Normalizer:\n",
        "    # based on https://www.geeksforgeeks.org/normalizing-textual-data-with-python/\n",
        "    def __init__(self):\n",
        "        # import regex\n",
        "        self.stop_words = set(stopwords.words('english'))\n",
        "\n",
        "    def text_normalizer(self,text):\n",
        "        if type(text) == type([]):\n",
        "            text = text[0]\n",
        "        text = str(text)\n",
        "        # convert to lower case\n",
        "        lower_string = text.lower()\n",
        "        # remove numbers\n",
        "        no_number_string = re.sub(r'\\d+','',lower_string)\n",
        "        # remove all punctuation except words and space\n",
        "        no_punc_string = re.sub(r'[^\\w\\s]','', no_number_string)\n",
        "        # remove white spaces\n",
        "        no_wspace_string = no_punc_string.strip()\n",
        "        # convert string to list of words\n",
        "        lst_string = [no_wspace_string][0].split()\n",
        "        # remove stopwords\n",
        "        no_stpwords_string=\"\"\n",
        "        for i in lst_string:\n",
        "            if not i in self.stop_words:\n",
        "                no_stpwords_string += i+' '\n",
        "        # removing last space\n",
        "        no_stpwords_string = no_stpwords_string[:-1]\n",
        "        output = no_stpwords_string\n",
        "        return output"
      ],
      "metadata": {
        "colab": {
          "base_uri": "https://localhost:8080/"
        },
        "id": "5imeoROyqgnX",
        "outputId": "a1a26f7a-7fe0-40c6-e396-6bfb06373402"
      },
      "execution_count": 93,
      "outputs": [
        {
          "output_type": "stream",
          "name": "stderr",
          "text": [
            "[nltk_data] Downloading package stopwords to /root/nltk_data...\n",
            "[nltk_data]   Package stopwords is already up-to-date!\n"
          ]
        }
      ]
    },
    {
      "cell_type": "code",
      "source": [
        "normalizer = Normalizer()"
      ],
      "metadata": {
        "id": "S6SVAhrysYCk"
      },
      "execution_count": 94,
      "outputs": []
    },
    {
      "cell_type": "code",
      "source": [
        "meta[\"description\"] = meta[\"description\"].apply(normalizer.text_normalizer)\n",
        "meta[\"title\"] = meta[\"title\"].apply(normalizer.text_normalizer)"
      ],
      "metadata": {
        "id": "gB_dK-ans_hs"
      },
      "execution_count": 95,
      "outputs": []
    },
    {
      "cell_type": "code",
      "source": [
        "def brand_normalizer(s):\n",
        "    s = s.replace(\"Brand:\",\"\")\n",
        "    s = s.replace(\" \",\"\")\n",
        "    s = s.split(\"/\")\n",
        "    return s"
      ],
      "metadata": {
        "id": "dHgmFL-_tPg6"
      },
      "execution_count": 97,
      "outputs": []
    },
    {
      "cell_type": "code",
      "source": [
        "meta[\"brand\"] = meta[\"brand\"].apply(brand_normalizer)"
      ],
      "metadata": {
        "id": "56ZTNfKKuHGp"
      },
      "execution_count": 98,
      "outputs": []
    },
    {
      "cell_type": "code",
      "source": [
        "def url_normalizer(s):\n",
        "    return s[0]"
      ],
      "metadata": {
        "id": "gyYdwMEhuNQi"
      },
      "execution_count": 101,
      "outputs": []
    },
    {
      "cell_type": "code",
      "source": [
        "meta[\"imageURL\"] = meta[\"imageURL\"].apply(url_normalizer)\n",
        "meta[\"imageURLHighRes\"] = meta[\"imageURLHighRes\"].apply(url_normalizer)"
      ],
      "metadata": {
        "id": "NprX7PFguZxa"
      },
      "execution_count": 103,
      "outputs": []
    },
    {
      "cell_type": "code",
      "source": [
        "meta['text'] = meta[['title', 'description','title']].apply(lambda x: ''.join(x), axis=1)"
      ],
      "metadata": {
        "id": "CV3oEmHluqp5"
      },
      "execution_count": 105,
      "outputs": []
    },
    {
      "cell_type": "code",
      "source": [
        "meta.head(5)"
      ],
      "metadata": {
        "colab": {
          "base_uri": "https://localhost:8080/",
          "height": 337
        },
        "id": "XzjBaetUtE-z",
        "outputId": "7cc4e244-71df-4124-c210-c72d07b96278"
      },
      "execution_count": 106,
      "outputs": [
        {
          "output_type": "execute_result",
          "data": {
            "text/plain": [
              "         asin                                        description  \\\n",
              "1  0071480935  blatin rhythms get kids singing spanishb ising...   \n",
              "2  007329506X  bconnect integrated learning system empowers s...   \n",
              "4  0073525758  ianatomy amp physiology revealed cati ultimate...   \n",
              "5  0077340701  john coburn grew hawaiian islands seventh sixt...   \n",
              "6  0077369823  bconnect integrated learning system empowers s...   \n",
              "\n",
              "                                               title  \\\n",
              "1  sing watch amp learn spanish dvd guide fun mus...   \n",
              "2  connect learnsmart access card microbiology fu...   \n",
              "4  anatomy amp physiology revealed student access...   \n",
              "5  connect math aleks access card weeks college a...   \n",
              "6  connect access card microbiology fundamentals ...   \n",
              "\n",
              "                                     brand  \\\n",
              "1                             [McGrawHill]   \n",
              "2  [McGraw-HillScience, Engineering, Math]   \n",
              "4                   [McGraw-HillEducation]   \n",
              "5  [McGraw-HillScience, Engineering, Math]   \n",
              "6  [McGraw-HillScience, Engineering, Math]   \n",
              "\n",
              "                                            imageURL  \\\n",
              "1  https://images-na.ssl-images-amazon.com/images...   \n",
              "2  https://images-na.ssl-images-amazon.com/images...   \n",
              "4  https://images-na.ssl-images-amazon.com/images...   \n",
              "5  https://images-na.ssl-images-amazon.com/images...   \n",
              "6  https://images-na.ssl-images-amazon.com/images...   \n",
              "\n",
              "                                     imageURLHighRes  \\\n",
              "1  https://images-na.ssl-images-amazon.com/images...   \n",
              "2  https://images-na.ssl-images-amazon.com/images...   \n",
              "4  https://images-na.ssl-images-amazon.com/images...   \n",
              "5  https://images-na.ssl-images-amazon.com/images...   \n",
              "6  https://images-na.ssl-images-amazon.com/images...   \n",
              "\n",
              "                                                text  \n",
              "1  sing watch amp learn spanish dvd guide fun mus...  \n",
              "2  connect learnsmart access card microbiology fu...  \n",
              "4  anatomy amp physiology revealed student access...  \n",
              "5  connect math aleks access card weeks college a...  \n",
              "6  connect access card microbiology fundamentals ...  "
            ],
            "text/html": [
              "\n",
              "  <div id=\"df-d48add0e-68f8-46fb-a119-31ac6e90f19e\">\n",
              "    <div class=\"colab-df-container\">\n",
              "      <div>\n",
              "<style scoped>\n",
              "    .dataframe tbody tr th:only-of-type {\n",
              "        vertical-align: middle;\n",
              "    }\n",
              "\n",
              "    .dataframe tbody tr th {\n",
              "        vertical-align: top;\n",
              "    }\n",
              "\n",
              "    .dataframe thead th {\n",
              "        text-align: right;\n",
              "    }\n",
              "</style>\n",
              "<table border=\"1\" class=\"dataframe\">\n",
              "  <thead>\n",
              "    <tr style=\"text-align: right;\">\n",
              "      <th></th>\n",
              "      <th>asin</th>\n",
              "      <th>description</th>\n",
              "      <th>title</th>\n",
              "      <th>brand</th>\n",
              "      <th>imageURL</th>\n",
              "      <th>imageURLHighRes</th>\n",
              "      <th>text</th>\n",
              "    </tr>\n",
              "  </thead>\n",
              "  <tbody>\n",
              "    <tr>\n",
              "      <th>1</th>\n",
              "      <td>0071480935</td>\n",
              "      <td>blatin rhythms get kids singing spanishb ising...</td>\n",
              "      <td>sing watch amp learn spanish dvd guide fun mus...</td>\n",
              "      <td>[McGrawHill]</td>\n",
              "      <td>https://images-na.ssl-images-amazon.com/images...</td>\n",
              "      <td>https://images-na.ssl-images-amazon.com/images...</td>\n",
              "      <td>sing watch amp learn spanish dvd guide fun mus...</td>\n",
              "    </tr>\n",
              "    <tr>\n",
              "      <th>2</th>\n",
              "      <td>007329506X</td>\n",
              "      <td>bconnect integrated learning system empowers s...</td>\n",
              "      <td>connect learnsmart access card microbiology fu...</td>\n",
              "      <td>[McGraw-HillScience, Engineering, Math]</td>\n",
              "      <td>https://images-na.ssl-images-amazon.com/images...</td>\n",
              "      <td>https://images-na.ssl-images-amazon.com/images...</td>\n",
              "      <td>connect learnsmart access card microbiology fu...</td>\n",
              "    </tr>\n",
              "    <tr>\n",
              "      <th>4</th>\n",
              "      <td>0073525758</td>\n",
              "      <td>ianatomy amp physiology revealed cati ultimate...</td>\n",
              "      <td>anatomy amp physiology revealed student access...</td>\n",
              "      <td>[McGraw-HillEducation]</td>\n",
              "      <td>https://images-na.ssl-images-amazon.com/images...</td>\n",
              "      <td>https://images-na.ssl-images-amazon.com/images...</td>\n",
              "      <td>anatomy amp physiology revealed student access...</td>\n",
              "    </tr>\n",
              "    <tr>\n",
              "      <th>5</th>\n",
              "      <td>0077340701</td>\n",
              "      <td>john coburn grew hawaiian islands seventh sixt...</td>\n",
              "      <td>connect math aleks access card weeks college a...</td>\n",
              "      <td>[McGraw-HillScience, Engineering, Math]</td>\n",
              "      <td>https://images-na.ssl-images-amazon.com/images...</td>\n",
              "      <td>https://images-na.ssl-images-amazon.com/images...</td>\n",
              "      <td>connect math aleks access card weeks college a...</td>\n",
              "    </tr>\n",
              "    <tr>\n",
              "      <th>6</th>\n",
              "      <td>0077369823</td>\n",
              "      <td>bconnect integrated learning system empowers s...</td>\n",
              "      <td>connect access card microbiology fundamentals ...</td>\n",
              "      <td>[McGraw-HillScience, Engineering, Math]</td>\n",
              "      <td>https://images-na.ssl-images-amazon.com/images...</td>\n",
              "      <td>https://images-na.ssl-images-amazon.com/images...</td>\n",
              "      <td>connect access card microbiology fundamentals ...</td>\n",
              "    </tr>\n",
              "  </tbody>\n",
              "</table>\n",
              "</div>\n",
              "      <button class=\"colab-df-convert\" onclick=\"convertToInteractive('df-d48add0e-68f8-46fb-a119-31ac6e90f19e')\"\n",
              "              title=\"Convert this dataframe to an interactive table.\"\n",
              "              style=\"display:none;\">\n",
              "        \n",
              "  <svg xmlns=\"http://www.w3.org/2000/svg\" height=\"24px\"viewBox=\"0 0 24 24\"\n",
              "       width=\"24px\">\n",
              "    <path d=\"M0 0h24v24H0V0z\" fill=\"none\"/>\n",
              "    <path d=\"M18.56 5.44l.94 2.06.94-2.06 2.06-.94-2.06-.94-.94-2.06-.94 2.06-2.06.94zm-11 1L8.5 8.5l.94-2.06 2.06-.94-2.06-.94L8.5 2.5l-.94 2.06-2.06.94zm10 10l.94 2.06.94-2.06 2.06-.94-2.06-.94-.94-2.06-.94 2.06-2.06.94z\"/><path d=\"M17.41 7.96l-1.37-1.37c-.4-.4-.92-.59-1.43-.59-.52 0-1.04.2-1.43.59L10.3 9.45l-7.72 7.72c-.78.78-.78 2.05 0 2.83L4 21.41c.39.39.9.59 1.41.59.51 0 1.02-.2 1.41-.59l7.78-7.78 2.81-2.81c.8-.78.8-2.07 0-2.86zM5.41 20L4 18.59l7.72-7.72 1.47 1.35L5.41 20z\"/>\n",
              "  </svg>\n",
              "      </button>\n",
              "      \n",
              "  <style>\n",
              "    .colab-df-container {\n",
              "      display:flex;\n",
              "      flex-wrap:wrap;\n",
              "      gap: 12px;\n",
              "    }\n",
              "\n",
              "    .colab-df-convert {\n",
              "      background-color: #E8F0FE;\n",
              "      border: none;\n",
              "      border-radius: 50%;\n",
              "      cursor: pointer;\n",
              "      display: none;\n",
              "      fill: #1967D2;\n",
              "      height: 32px;\n",
              "      padding: 0 0 0 0;\n",
              "      width: 32px;\n",
              "    }\n",
              "\n",
              "    .colab-df-convert:hover {\n",
              "      background-color: #E2EBFA;\n",
              "      box-shadow: 0px 1px 2px rgba(60, 64, 67, 0.3), 0px 1px 3px 1px rgba(60, 64, 67, 0.15);\n",
              "      fill: #174EA6;\n",
              "    }\n",
              "\n",
              "    [theme=dark] .colab-df-convert {\n",
              "      background-color: #3B4455;\n",
              "      fill: #D2E3FC;\n",
              "    }\n",
              "\n",
              "    [theme=dark] .colab-df-convert:hover {\n",
              "      background-color: #434B5C;\n",
              "      box-shadow: 0px 1px 3px 1px rgba(0, 0, 0, 0.15);\n",
              "      filter: drop-shadow(0px 1px 2px rgba(0, 0, 0, 0.3));\n",
              "      fill: #FFFFFF;\n",
              "    }\n",
              "  </style>\n",
              "\n",
              "      <script>\n",
              "        const buttonEl =\n",
              "          document.querySelector('#df-d48add0e-68f8-46fb-a119-31ac6e90f19e button.colab-df-convert');\n",
              "        buttonEl.style.display =\n",
              "          google.colab.kernel.accessAllowed ? 'block' : 'none';\n",
              "\n",
              "        async function convertToInteractive(key) {\n",
              "          const element = document.querySelector('#df-d48add0e-68f8-46fb-a119-31ac6e90f19e');\n",
              "          const dataTable =\n",
              "            await google.colab.kernel.invokeFunction('convertToInteractive',\n",
              "                                                     [key], {});\n",
              "          if (!dataTable) return;\n",
              "\n",
              "          const docLinkHtml = 'Like what you see? Visit the ' +\n",
              "            '<a target=\"_blank\" href=https://colab.research.google.com/notebooks/data_table.ipynb>data table notebook</a>'\n",
              "            + ' to learn more about interactive tables.';\n",
              "          element.innerHTML = '';\n",
              "          dataTable['output_type'] = 'display_data';\n",
              "          await google.colab.output.renderOutput(dataTable, element);\n",
              "          const docLink = document.createElement('div');\n",
              "          docLink.innerHTML = docLinkHtml;\n",
              "          element.appendChild(docLink);\n",
              "        }\n",
              "      </script>\n",
              "    </div>\n",
              "  </div>\n",
              "  "
            ]
          },
          "metadata": {},
          "execution_count": 106
        }
      ]
    },
    {
      "cell_type": "code",
      "source": [
        "meta = meta.reset_index()\n",
        "del meta['index']"
      ],
      "metadata": {
        "id": "5FwcVsDtvgfQ"
      },
      "execution_count": 108,
      "outputs": []
    },
    {
      "cell_type": "code",
      "source": [
        "for i in meta.iloc[1]:\n",
        "    print(i)"
      ],
      "metadata": {
        "colab": {
          "base_uri": "https://localhost:8080/"
        },
        "id": "U2nCW1lAvaY4",
        "outputId": "816a0764-cab7-4e51-df63-1fb9d416f6ad"
      },
      "execution_count": 111,
      "outputs": [
        {
          "output_type": "stream",
          "name": "stdout",
          "text": [
            "007329506X\n",
            "bconnect integrated learning system empowers students continuously adapting deliver precisely need need need class time engaging effectivebbr kelly cowan celebrated th anniversary miami university middletown open admissions campus ohio received phd university louisville later worked university maryland university groningen netherlands specializes teaching microbiology nonmajors especially prenursing allied health students fell love microbiology pursuing undergraduate degree dental hygiene made personal mission hear nurses dental hygienists encounters everyday situations exclaim loved microbiology class\n",
            "connect learnsmart access card microbiology fundamentals clinical approach\n",
            "['McGraw-HillScience', 'Engineering', 'Math']\n",
            "https://images-na.ssl-images-amazon.com/images/I/51z1MKLSD3L._SX38_SY50_CR,0,0,38,50_.jpg\n",
            "https://images-na.ssl-images-amazon.com/images/I/51z1MKLSD3L.jpg\n",
            "connect learnsmart access card microbiology fundamentals clinical approachbconnect integrated learning system empowers students continuously adapting deliver precisely need need need class time engaging effectivebbr kelly cowan celebrated th anniversary miami university middletown open admissions campus ohio received phd university louisville later worked university maryland university groningen netherlands specializes teaching microbiology nonmajors especially prenursing allied health students fell love microbiology pursuing undergraduate degree dental hygiene made personal mission hear nurses dental hygienists encounters everyday situations exclaim loved microbiology classconnect learnsmart access card microbiology fundamentals clinical approach\n"
          ]
        }
      ]
    },
    {
      "cell_type": "code",
      "source": [],
      "metadata": {
        "id": "pW5siPMQvuLy"
      },
      "execution_count": null,
      "outputs": []
    }
  ]
}