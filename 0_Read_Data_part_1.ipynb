{
  "nbformat": 4,
  "nbformat_minor": 0,
  "metadata": {
    "colab": {
      "provenance": [],
      "collapsed_sections": [],
      "authorship_tag": "ABX9TyNu/0zBpqLll0tPaJJJ4Ick",
      "include_colab_link": true
    },
    "kernelspec": {
      "name": "python3",
      "display_name": "Python 3"
    },
    "language_info": {
      "name": "python"
    }
  },
  "cells": [
    {
      "cell_type": "markdown",
      "metadata": {
        "id": "view-in-github",
        "colab_type": "text"
      },
      "source": [
        "<a href=\"https://colab.research.google.com/github/aSafarpoor/KGCLG/blob/main/0_Read_Data_part_1.ipynb\" target=\"_parent\"><img src=\"https://colab.research.google.com/assets/colab-badge.svg\" alt=\"Open In Colab\"/></a>"
      ]
    },
    {
      "cell_type": "code",
      "execution_count": 53,
      "metadata": {
        "id": "k0Rn08VS8dlH"
      },
      "outputs": [],
      "source": [
        "import random\n",
        "import numpy as np\n",
        "from tqdm import tqdm \n",
        "import pandas as pd\n",
        "import json\n",
        "from collections import Counter\n",
        "import pandas as pd\n",
        "import pickle"
      ]
    },
    {
      "cell_type": "code",
      "source": [
        "from google.colab import drive\n",
        "drive.mount('/content/drive/')\n",
        "\n",
        "%cd /content/drive/My Drive/"
      ],
      "metadata": {
        "id": "hg2ueJWy9PPO",
        "colab": {
          "base_uri": "https://localhost:8080/"
        },
        "outputId": "4cd54cc4-e4e5-4439-cbd5-f4f16b3bb40c"
      },
      "execution_count": 3,
      "outputs": [
        {
          "output_type": "stream",
          "name": "stdout",
          "text": [
            "Drive already mounted at /content/drive/; to attempt to forcibly remount, call drive.mount(\"/content/drive/\", force_remount=True).\n",
            "/content/drive/My Drive\n"
          ]
        }
      ]
    },
    {
      "cell_type": "code",
      "source": [
        "# !mkdir KGCLG\n",
        "%cd KGCLG"
      ],
      "metadata": {
        "colab": {
          "base_uri": "https://localhost:8080/"
        },
        "id": "FZaNzQ4dTMoq",
        "outputId": "c49da109-0a34-49f1-8f9e-384e3bfbb639"
      },
      "execution_count": 4,
      "outputs": [
        {
          "output_type": "stream",
          "name": "stdout",
          "text": [
            "/content/drive/My Drive/KGCLG\n"
          ]
        }
      ]
    },
    {
      "cell_type": "markdown",
      "source": [
        "## read data"
      ],
      "metadata": {
        "id": "nznFBelJsiHk"
      }
    },
    {
      "cell_type": "code",
      "source": [
        "!wget https://jmcauley.ucsd.edu/data/amazon_v2/categoryFiles/AMAZON_FASHION.json.gz --no-check-certificate"
      ],
      "metadata": {
        "id": "zgSL0Ej4A8QO",
        "colab": {
          "base_uri": "https://localhost:8080/"
        },
        "outputId": "c8ddd5d8-21bc-4225-e202-a3f07bf7df87"
      },
      "execution_count": 112,
      "outputs": [
        {
          "output_type": "stream",
          "name": "stdout",
          "text": [
            "--2022-10-31 15:54:50--  https://jmcauley.ucsd.edu/data/amazon_v2/categoryFiles/AMAZON_FASHION.json.gz\n",
            "Resolving jmcauley.ucsd.edu (jmcauley.ucsd.edu)... 137.110.160.73\n",
            "Connecting to jmcauley.ucsd.edu (jmcauley.ucsd.edu)|137.110.160.73|:443... connected.\n",
            "WARNING: cannot verify jmcauley.ucsd.edu's certificate, issued by ‘CN=InCommon RSA Server CA,OU=InCommon,O=Internet2,L=Ann Arbor,ST=MI,C=US’:\n",
            "  Unable to locally verify the issuer's authority.\n",
            "HTTP request sent, awaiting response... 200 OK\n",
            "Length: 93185167 (89M) [application/x-gzip]\n",
            "Saving to: ‘AMAZON_FASHION.json.gz’\n",
            "\n",
            "AMAZON_FASHION.json 100%[===================>]  88.87M  60.3MB/s    in 1.5s    \n",
            "\n",
            "2022-10-31 15:54:52 (60.3 MB/s) - ‘AMAZON_FASHION.json.gz’ saved [93185167/93185167]\n",
            "\n"
          ]
        }
      ]
    },
    {
      "cell_type": "code",
      "source": [
        "!wget https://jmcauley.ucsd.edu/data/amazon_v2/metaFiles2/meta_AMAZON_FASHION.json.gz --no-check-certificate"
      ],
      "metadata": {
        "colab": {
          "base_uri": "https://localhost:8080/"
        },
        "id": "AaBjpc5QQi8I",
        "outputId": "34d67d73-cd28-4a5b-ba65-38451d0329b9"
      },
      "execution_count": 117,
      "outputs": [
        {
          "output_type": "stream",
          "name": "stdout",
          "text": [
            "--2022-10-31 15:56:07--  https://jmcauley.ucsd.edu/data/amazon_v2/metaFiles2/meta_AMAZON_FASHION.json.gz\n",
            "Resolving jmcauley.ucsd.edu (jmcauley.ucsd.edu)... 137.110.160.73\n",
            "Connecting to jmcauley.ucsd.edu (jmcauley.ucsd.edu)|137.110.160.73|:443... connected.\n",
            "WARNING: cannot verify jmcauley.ucsd.edu's certificate, issued by ‘CN=InCommon RSA Server CA,OU=InCommon,O=Internet2,L=Ann Arbor,ST=MI,C=US’:\n",
            "  Unable to locally verify the issuer's authority.\n",
            "HTTP request sent, awaiting response... 200 OK\n",
            "Length: 33023658 (31M) [application/x-gzip]\n",
            "Saving to: ‘meta_AMAZON_FASHION.json.gz’\n",
            "\n",
            "meta_AMAZON_FASHION 100%[===================>]  31.49M  44.3MB/s    in 0.7s    \n",
            "\n",
            "2022-10-31 15:56:08 (44.3 MB/s) - ‘meta_AMAZON_FASHION.json.gz’ saved [33023658/33023658]\n",
            "\n"
          ]
        }
      ]
    },
    {
      "cell_type": "code",
      "source": [
        "!gunzip -k meta_AMAZON_FASHION.json.gz\n",
        "!gunzip -k AMAZON_FASHION.json.gz\n",
        "!rm meta_AMAZON_FASHION.json.gz\n",
        "!rm AMAZON_FASHION.json.gz"
      ],
      "metadata": {
        "colab": {
          "base_uri": "https://localhost:8080/"
        },
        "id": "LC3y062VTzXd",
        "outputId": "7e340397-1335-4437-c3d3-f078d2d1efb5"
      },
      "execution_count": 118,
      "outputs": [
        {
          "output_type": "stream",
          "name": "stdout",
          "text": [
            "gzip: AMAZON_FASHION.json.gz: No such file or directory\n",
            "rm: cannot remove 'AMAZON_FASHION.json.gz': No such file or directory\n"
          ]
        }
      ]
    },
    {
      "cell_type": "code",
      "source": [
        "!ls"
      ],
      "metadata": {
        "colab": {
          "base_uri": "https://localhost:8080/"
        },
        "id": "wroNooapVRmI",
        "outputId": "4a563621-18c9-4051-bb6b-4b55e9de02f0"
      },
      "execution_count": 119,
      "outputs": [
        {
          "output_type": "stream",
          "name": "stdout",
          "text": [
            "AMAZON_FASHION.json\t  meta_Software.json\n",
            "meta_AMAZON_FASHION.json  Software.json\n"
          ]
        }
      ]
    },
    {
      "cell_type": "code",
      "source": [
        "meta = pd.read_json('meta_AMAZON_FASHION.json', lines=True)\n",
        "ui = pd.read_json('AMAZON_FASHION.json', lines=True)"
      ],
      "metadata": {
        "id": "YsQq3FjqVSTJ"
      },
      "execution_count": 154,
      "outputs": []
    },
    {
      "cell_type": "code",
      "source": [
        "ui.columns"
      ],
      "metadata": {
        "colab": {
          "base_uri": "https://localhost:8080/"
        },
        "id": "51YNQlTaoNOS",
        "outputId": "4e165f47-06ea-4d57-f404-81f8554f8590"
      },
      "execution_count": 155,
      "outputs": [
        {
          "output_type": "execute_result",
          "data": {
            "text/plain": [
              "Index(['overall', 'verified', 'reviewTime', 'reviewerID', 'asin',\n",
              "       'reviewerName', 'reviewText', 'summary', 'unixReviewTime', 'vote',\n",
              "       'style', 'image'],\n",
              "      dtype='object')"
            ]
          },
          "metadata": {},
          "execution_count": 155
        }
      ]
    },
    {
      "cell_type": "code",
      "source": [
        "print(len(ui))\n",
        "ui = ui[ui.overall>=4]\n",
        "ui = ui[['reviewerID','asin']]\n",
        "print(len(ui))\n"
      ],
      "metadata": {
        "colab": {
          "base_uri": "https://localhost:8080/"
        },
        "id": "6cYN8HlLa_Sd",
        "outputId": "ecec2b40-4514-48e7-a122-59a735339000"
      },
      "execution_count": 156,
      "outputs": [
        {
          "output_type": "stream",
          "name": "stdout",
          "text": [
            "883636\n",
            "614807\n"
          ]
        }
      ]
    },
    {
      "cell_type": "code",
      "source": [
        "ui = ui.dropna()\n",
        "ui = ui.drop_duplicates()\n",
        "print(len(ui))"
      ],
      "metadata": {
        "colab": {
          "base_uri": "https://localhost:8080/"
        },
        "id": "hGg2IkZxa_U3",
        "outputId": "40831a3c-bcfe-4e62-bb3b-dd11e408bc0c"
      },
      "execution_count": 157,
      "outputs": [
        {
          "output_type": "stream",
          "name": "stdout",
          "text": [
            "608474\n"
          ]
        }
      ]
    },
    {
      "cell_type": "code",
      "source": [
        "ui = ui.reset_index()\n",
        "del ui['index']"
      ],
      "metadata": {
        "id": "cvcTeOv7feGF"
      },
      "execution_count": 158,
      "outputs": []
    },
    {
      "cell_type": "code",
      "source": [
        "ui.head(5)"
      ],
      "metadata": {
        "colab": {
          "base_uri": "https://localhost:8080/",
          "height": 206
        },
        "id": "_IrzMyIrc3o_",
        "outputId": "cdbed6c6-52c6-4816-cfa9-f8d8dc4f58f0"
      },
      "execution_count": 159,
      "outputs": [
        {
          "output_type": "execute_result",
          "data": {
            "text/plain": [
              "       reviewerID        asin\n",
              "0  A1D4G1SNUZWQOT  7106116521\n",
              "1  A2MWC41EW7XL15  7106116521\n",
              "2  A29HLOUW0NS0EH  7106116521\n",
              "3   A7QS961ROI6E0  7106116521\n",
              "4   A38NS6NF6WPXS  B00007GDFV"
            ],
            "text/html": [
              "\n",
              "  <div id=\"df-38c03113-19dc-4875-b799-69241fa60f45\">\n",
              "    <div class=\"colab-df-container\">\n",
              "      <div>\n",
              "<style scoped>\n",
              "    .dataframe tbody tr th:only-of-type {\n",
              "        vertical-align: middle;\n",
              "    }\n",
              "\n",
              "    .dataframe tbody tr th {\n",
              "        vertical-align: top;\n",
              "    }\n",
              "\n",
              "    .dataframe thead th {\n",
              "        text-align: right;\n",
              "    }\n",
              "</style>\n",
              "<table border=\"1\" class=\"dataframe\">\n",
              "  <thead>\n",
              "    <tr style=\"text-align: right;\">\n",
              "      <th></th>\n",
              "      <th>reviewerID</th>\n",
              "      <th>asin</th>\n",
              "    </tr>\n",
              "  </thead>\n",
              "  <tbody>\n",
              "    <tr>\n",
              "      <th>0</th>\n",
              "      <td>A1D4G1SNUZWQOT</td>\n",
              "      <td>7106116521</td>\n",
              "    </tr>\n",
              "    <tr>\n",
              "      <th>1</th>\n",
              "      <td>A2MWC41EW7XL15</td>\n",
              "      <td>7106116521</td>\n",
              "    </tr>\n",
              "    <tr>\n",
              "      <th>2</th>\n",
              "      <td>A29HLOUW0NS0EH</td>\n",
              "      <td>7106116521</td>\n",
              "    </tr>\n",
              "    <tr>\n",
              "      <th>3</th>\n",
              "      <td>A7QS961ROI6E0</td>\n",
              "      <td>7106116521</td>\n",
              "    </tr>\n",
              "    <tr>\n",
              "      <th>4</th>\n",
              "      <td>A38NS6NF6WPXS</td>\n",
              "      <td>B00007GDFV</td>\n",
              "    </tr>\n",
              "  </tbody>\n",
              "</table>\n",
              "</div>\n",
              "      <button class=\"colab-df-convert\" onclick=\"convertToInteractive('df-38c03113-19dc-4875-b799-69241fa60f45')\"\n",
              "              title=\"Convert this dataframe to an interactive table.\"\n",
              "              style=\"display:none;\">\n",
              "        \n",
              "  <svg xmlns=\"http://www.w3.org/2000/svg\" height=\"24px\"viewBox=\"0 0 24 24\"\n",
              "       width=\"24px\">\n",
              "    <path d=\"M0 0h24v24H0V0z\" fill=\"none\"/>\n",
              "    <path d=\"M18.56 5.44l.94 2.06.94-2.06 2.06-.94-2.06-.94-.94-2.06-.94 2.06-2.06.94zm-11 1L8.5 8.5l.94-2.06 2.06-.94-2.06-.94L8.5 2.5l-.94 2.06-2.06.94zm10 10l.94 2.06.94-2.06 2.06-.94-2.06-.94-.94-2.06-.94 2.06-2.06.94z\"/><path d=\"M17.41 7.96l-1.37-1.37c-.4-.4-.92-.59-1.43-.59-.52 0-1.04.2-1.43.59L10.3 9.45l-7.72 7.72c-.78.78-.78 2.05 0 2.83L4 21.41c.39.39.9.59 1.41.59.51 0 1.02-.2 1.41-.59l7.78-7.78 2.81-2.81c.8-.78.8-2.07 0-2.86zM5.41 20L4 18.59l7.72-7.72 1.47 1.35L5.41 20z\"/>\n",
              "  </svg>\n",
              "      </button>\n",
              "      \n",
              "  <style>\n",
              "    .colab-df-container {\n",
              "      display:flex;\n",
              "      flex-wrap:wrap;\n",
              "      gap: 12px;\n",
              "    }\n",
              "\n",
              "    .colab-df-convert {\n",
              "      background-color: #E8F0FE;\n",
              "      border: none;\n",
              "      border-radius: 50%;\n",
              "      cursor: pointer;\n",
              "      display: none;\n",
              "      fill: #1967D2;\n",
              "      height: 32px;\n",
              "      padding: 0 0 0 0;\n",
              "      width: 32px;\n",
              "    }\n",
              "\n",
              "    .colab-df-convert:hover {\n",
              "      background-color: #E2EBFA;\n",
              "      box-shadow: 0px 1px 2px rgba(60, 64, 67, 0.3), 0px 1px 3px 1px rgba(60, 64, 67, 0.15);\n",
              "      fill: #174EA6;\n",
              "    }\n",
              "\n",
              "    [theme=dark] .colab-df-convert {\n",
              "      background-color: #3B4455;\n",
              "      fill: #D2E3FC;\n",
              "    }\n",
              "\n",
              "    [theme=dark] .colab-df-convert:hover {\n",
              "      background-color: #434B5C;\n",
              "      box-shadow: 0px 1px 3px 1px rgba(0, 0, 0, 0.15);\n",
              "      filter: drop-shadow(0px 1px 2px rgba(0, 0, 0, 0.3));\n",
              "      fill: #FFFFFF;\n",
              "    }\n",
              "  </style>\n",
              "\n",
              "      <script>\n",
              "        const buttonEl =\n",
              "          document.querySelector('#df-38c03113-19dc-4875-b799-69241fa60f45 button.colab-df-convert');\n",
              "        buttonEl.style.display =\n",
              "          google.colab.kernel.accessAllowed ? 'block' : 'none';\n",
              "\n",
              "        async function convertToInteractive(key) {\n",
              "          const element = document.querySelector('#df-38c03113-19dc-4875-b799-69241fa60f45');\n",
              "          const dataTable =\n",
              "            await google.colab.kernel.invokeFunction('convertToInteractive',\n",
              "                                                     [key], {});\n",
              "          if (!dataTable) return;\n",
              "\n",
              "          const docLinkHtml = 'Like what you see? Visit the ' +\n",
              "            '<a target=\"_blank\" href=https://colab.research.google.com/notebooks/data_table.ipynb>data table notebook</a>'\n",
              "            + ' to learn more about interactive tables.';\n",
              "          element.innerHTML = '';\n",
              "          dataTable['output_type'] = 'display_data';\n",
              "          await google.colab.output.renderOutput(dataTable, element);\n",
              "          const docLink = document.createElement('div');\n",
              "          docLink.innerHTML = docLinkHtml;\n",
              "          element.appendChild(docLink);\n",
              "        }\n",
              "      </script>\n",
              "    </div>\n",
              "  </div>\n",
              "  "
            ]
          },
          "metadata": {},
          "execution_count": 159
        }
      ]
    },
    {
      "cell_type": "code",
      "source": [
        "meta.head(3)"
      ],
      "metadata": {
        "colab": {
          "base_uri": "https://localhost:8080/",
          "height": 430
        },
        "id": "cgF4Jbipdd1Z",
        "outputId": "b6617694-408d-416e-eaf3-fd495c48573d"
      },
      "execution_count": 160,
      "outputs": [
        {
          "output_type": "execute_result",
          "data": {
            "text/plain": [
              "                                               title                  brand  \\\n",
              "0  Slime Time Fall Fest [With CDROM and Collector...  Group Publishing (CO)   \n",
              "1  XCC Qi promise new spider snake preparing men'...                    NaN   \n",
              "2                 Magical Things I Really Do Do Too!      Christopher Manos   \n",
              "\n",
              "                                             feature  \\\n",
              "0  [Product Dimensions:\\n                    \\n8....   \n",
              "1                                                NaN   \n",
              "2  [Package Dimensions:\\n                    \\n8....   \n",
              "\n",
              "                                     rank         date        asin  \\\n",
              "0  13,052,976inClothing,Shoesamp;Jewelry(  8.70 inches  0764443682   \n",
              "1  11,654,581inClothing,Shoesamp;Jewelry(       5 star  1291691480   \n",
              "2      19,308,073inClothing,ShoesJewelry(       5 star  1940280001   \n",
              "\n",
              "                                            imageURL  \\\n",
              "0  [https://images-na.ssl-images-amazon.com/image...   \n",
              "1  [https://images-na.ssl-images-amazon.com/image...   \n",
              "2  [https://images-na.ssl-images-amazon.com/image...   \n",
              "\n",
              "                                     imageURLHighRes  \\\n",
              "0  [https://images-na.ssl-images-amazon.com/image...   \n",
              "1  [https://images-na.ssl-images-amazon.com/image...   \n",
              "2  [https://images-na.ssl-images-amazon.com/image...   \n",
              "\n",
              "                                         description price also_view also_buy  \\\n",
              "0                                                NaN   NaN       NaN      NaN   \n",
              "1                                                NaN   NaN       NaN      NaN   \n",
              "2  [For the professional or amateur magician.  Ro...   NaN       NaN      NaN   \n",
              "\n",
              "   fit details similar_item tech1  \n",
              "0  NaN     NaN          NaN   NaN  \n",
              "1  NaN     NaN          NaN   NaN  \n",
              "2  NaN     NaN          NaN   NaN  "
            ],
            "text/html": [
              "\n",
              "  <div id=\"df-2a28b16a-a1aa-43d9-b2a4-e501b700a769\">\n",
              "    <div class=\"colab-df-container\">\n",
              "      <div>\n",
              "<style scoped>\n",
              "    .dataframe tbody tr th:only-of-type {\n",
              "        vertical-align: middle;\n",
              "    }\n",
              "\n",
              "    .dataframe tbody tr th {\n",
              "        vertical-align: top;\n",
              "    }\n",
              "\n",
              "    .dataframe thead th {\n",
              "        text-align: right;\n",
              "    }\n",
              "</style>\n",
              "<table border=\"1\" class=\"dataframe\">\n",
              "  <thead>\n",
              "    <tr style=\"text-align: right;\">\n",
              "      <th></th>\n",
              "      <th>title</th>\n",
              "      <th>brand</th>\n",
              "      <th>feature</th>\n",
              "      <th>rank</th>\n",
              "      <th>date</th>\n",
              "      <th>asin</th>\n",
              "      <th>imageURL</th>\n",
              "      <th>imageURLHighRes</th>\n",
              "      <th>description</th>\n",
              "      <th>price</th>\n",
              "      <th>also_view</th>\n",
              "      <th>also_buy</th>\n",
              "      <th>fit</th>\n",
              "      <th>details</th>\n",
              "      <th>similar_item</th>\n",
              "      <th>tech1</th>\n",
              "    </tr>\n",
              "  </thead>\n",
              "  <tbody>\n",
              "    <tr>\n",
              "      <th>0</th>\n",
              "      <td>Slime Time Fall Fest [With CDROM and Collector...</td>\n",
              "      <td>Group Publishing (CO)</td>\n",
              "      <td>[Product Dimensions:\\n                    \\n8....</td>\n",
              "      <td>13,052,976inClothing,Shoesamp;Jewelry(</td>\n",
              "      <td>8.70 inches</td>\n",
              "      <td>0764443682</td>\n",
              "      <td>[https://images-na.ssl-images-amazon.com/image...</td>\n",
              "      <td>[https://images-na.ssl-images-amazon.com/image...</td>\n",
              "      <td>NaN</td>\n",
              "      <td>NaN</td>\n",
              "      <td>NaN</td>\n",
              "      <td>NaN</td>\n",
              "      <td>NaN</td>\n",
              "      <td>NaN</td>\n",
              "      <td>NaN</td>\n",
              "      <td>NaN</td>\n",
              "    </tr>\n",
              "    <tr>\n",
              "      <th>1</th>\n",
              "      <td>XCC Qi promise new spider snake preparing men'...</td>\n",
              "      <td>NaN</td>\n",
              "      <td>NaN</td>\n",
              "      <td>11,654,581inClothing,Shoesamp;Jewelry(</td>\n",
              "      <td>5 star</td>\n",
              "      <td>1291691480</td>\n",
              "      <td>[https://images-na.ssl-images-amazon.com/image...</td>\n",
              "      <td>[https://images-na.ssl-images-amazon.com/image...</td>\n",
              "      <td>NaN</td>\n",
              "      <td>NaN</td>\n",
              "      <td>NaN</td>\n",
              "      <td>NaN</td>\n",
              "      <td>NaN</td>\n",
              "      <td>NaN</td>\n",
              "      <td>NaN</td>\n",
              "      <td>NaN</td>\n",
              "    </tr>\n",
              "    <tr>\n",
              "      <th>2</th>\n",
              "      <td>Magical Things I Really Do Do Too!</td>\n",
              "      <td>Christopher Manos</td>\n",
              "      <td>[Package Dimensions:\\n                    \\n8....</td>\n",
              "      <td>19,308,073inClothing,ShoesJewelry(</td>\n",
              "      <td>5 star</td>\n",
              "      <td>1940280001</td>\n",
              "      <td>[https://images-na.ssl-images-amazon.com/image...</td>\n",
              "      <td>[https://images-na.ssl-images-amazon.com/image...</td>\n",
              "      <td>[For the professional or amateur magician.  Ro...</td>\n",
              "      <td>NaN</td>\n",
              "      <td>NaN</td>\n",
              "      <td>NaN</td>\n",
              "      <td>NaN</td>\n",
              "      <td>NaN</td>\n",
              "      <td>NaN</td>\n",
              "      <td>NaN</td>\n",
              "    </tr>\n",
              "  </tbody>\n",
              "</table>\n",
              "</div>\n",
              "      <button class=\"colab-df-convert\" onclick=\"convertToInteractive('df-2a28b16a-a1aa-43d9-b2a4-e501b700a769')\"\n",
              "              title=\"Convert this dataframe to an interactive table.\"\n",
              "              style=\"display:none;\">\n",
              "        \n",
              "  <svg xmlns=\"http://www.w3.org/2000/svg\" height=\"24px\"viewBox=\"0 0 24 24\"\n",
              "       width=\"24px\">\n",
              "    <path d=\"M0 0h24v24H0V0z\" fill=\"none\"/>\n",
              "    <path d=\"M18.56 5.44l.94 2.06.94-2.06 2.06-.94-2.06-.94-.94-2.06-.94 2.06-2.06.94zm-11 1L8.5 8.5l.94-2.06 2.06-.94-2.06-.94L8.5 2.5l-.94 2.06-2.06.94zm10 10l.94 2.06.94-2.06 2.06-.94-2.06-.94-.94-2.06-.94 2.06-2.06.94z\"/><path d=\"M17.41 7.96l-1.37-1.37c-.4-.4-.92-.59-1.43-.59-.52 0-1.04.2-1.43.59L10.3 9.45l-7.72 7.72c-.78.78-.78 2.05 0 2.83L4 21.41c.39.39.9.59 1.41.59.51 0 1.02-.2 1.41-.59l7.78-7.78 2.81-2.81c.8-.78.8-2.07 0-2.86zM5.41 20L4 18.59l7.72-7.72 1.47 1.35L5.41 20z\"/>\n",
              "  </svg>\n",
              "      </button>\n",
              "      \n",
              "  <style>\n",
              "    .colab-df-container {\n",
              "      display:flex;\n",
              "      flex-wrap:wrap;\n",
              "      gap: 12px;\n",
              "    }\n",
              "\n",
              "    .colab-df-convert {\n",
              "      background-color: #E8F0FE;\n",
              "      border: none;\n",
              "      border-radius: 50%;\n",
              "      cursor: pointer;\n",
              "      display: none;\n",
              "      fill: #1967D2;\n",
              "      height: 32px;\n",
              "      padding: 0 0 0 0;\n",
              "      width: 32px;\n",
              "    }\n",
              "\n",
              "    .colab-df-convert:hover {\n",
              "      background-color: #E2EBFA;\n",
              "      box-shadow: 0px 1px 2px rgba(60, 64, 67, 0.3), 0px 1px 3px 1px rgba(60, 64, 67, 0.15);\n",
              "      fill: #174EA6;\n",
              "    }\n",
              "\n",
              "    [theme=dark] .colab-df-convert {\n",
              "      background-color: #3B4455;\n",
              "      fill: #D2E3FC;\n",
              "    }\n",
              "\n",
              "    [theme=dark] .colab-df-convert:hover {\n",
              "      background-color: #434B5C;\n",
              "      box-shadow: 0px 1px 3px 1px rgba(0, 0, 0, 0.15);\n",
              "      filter: drop-shadow(0px 1px 2px rgba(0, 0, 0, 0.3));\n",
              "      fill: #FFFFFF;\n",
              "    }\n",
              "  </style>\n",
              "\n",
              "      <script>\n",
              "        const buttonEl =\n",
              "          document.querySelector('#df-2a28b16a-a1aa-43d9-b2a4-e501b700a769 button.colab-df-convert');\n",
              "        buttonEl.style.display =\n",
              "          google.colab.kernel.accessAllowed ? 'block' : 'none';\n",
              "\n",
              "        async function convertToInteractive(key) {\n",
              "          const element = document.querySelector('#df-2a28b16a-a1aa-43d9-b2a4-e501b700a769');\n",
              "          const dataTable =\n",
              "            await google.colab.kernel.invokeFunction('convertToInteractive',\n",
              "                                                     [key], {});\n",
              "          if (!dataTable) return;\n",
              "\n",
              "          const docLinkHtml = 'Like what you see? Visit the ' +\n",
              "            '<a target=\"_blank\" href=https://colab.research.google.com/notebooks/data_table.ipynb>data table notebook</a>'\n",
              "            + ' to learn more about interactive tables.';\n",
              "          element.innerHTML = '';\n",
              "          dataTable['output_type'] = 'display_data';\n",
              "          await google.colab.output.renderOutput(dataTable, element);\n",
              "          const docLink = document.createElement('div');\n",
              "          docLink.innerHTML = docLinkHtml;\n",
              "          element.appendChild(docLink);\n",
              "        }\n",
              "      </script>\n",
              "    </div>\n",
              "  </div>\n",
              "  "
            ]
          },
          "metadata": {},
          "execution_count": 160
        }
      ]
    },
    {
      "cell_type": "code",
      "source": [
        "meta.columns"
      ],
      "metadata": {
        "colab": {
          "base_uri": "https://localhost:8080/"
        },
        "id": "Ezjlj0pSeHiW",
        "outputId": "8b428d33-202b-4cac-c9d7-68ef77eb1bed"
      },
      "execution_count": 161,
      "outputs": [
        {
          "output_type": "execute_result",
          "data": {
            "text/plain": [
              "Index(['title', 'brand', 'feature', 'rank', 'date', 'asin', 'imageURL',\n",
              "       'imageURLHighRes', 'description', 'price', 'also_view', 'also_buy',\n",
              "       'fit', 'details', 'similar_item', 'tech1'],\n",
              "      dtype='object')"
            ]
          },
          "metadata": {},
          "execution_count": 161
        }
      ]
    },
    {
      "cell_type": "code",
      "source": [
        "meta = meta[['asin','description','title','brand',\"imageURL\",\"imageURLHighRes\"]]"
      ],
      "metadata": {
        "id": "6clIKyAMc6nX"
      },
      "execution_count": 162,
      "outputs": []
    },
    {
      "cell_type": "code",
      "source": [
        "meta = meta.dropna()"
      ],
      "metadata": {
        "id": "TacFsHc5dleP"
      },
      "execution_count": 163,
      "outputs": []
    },
    {
      "cell_type": "code",
      "source": [
        "meta = meta.reset_index()\n",
        "del meta['index']"
      ],
      "metadata": {
        "id": "Wnav2l_2e0Ol"
      },
      "execution_count": 164,
      "outputs": []
    },
    {
      "cell_type": "code",
      "source": [
        "meta.head(5)"
      ],
      "metadata": {
        "colab": {
          "base_uri": "https://localhost:8080/",
          "height": 250
        },
        "id": "ZlFNuFWAdFa3",
        "outputId": "e8b23fea-ba85-42e1-fc8f-36af45ea8240"
      },
      "execution_count": 165,
      "outputs": [
        {
          "output_type": "execute_result",
          "data": {
            "text/plain": [
              "         asin                                        description  \\\n",
              "0  1940280001  [For the professional or amateur magician.  Ro...   \n",
              "1  9654263246  [When you pull out your extra large carbon fib...   \n",
              "2  B00004T3SN  [A fun addition to any costume party, play, or...   \n",
              "3  B00007GDFV  [Authentic crunch leather with rich floral emb...   \n",
              "4  B0000AWRIF  [With its smooth surface and high polish, this...   \n",
              "\n",
              "                                               title               brand  \\\n",
              "0                 Magical Things I Really Do Do Too!   Christopher Manos   \n",
              "1     X. L. Carbon Fiber Money Clip, made in the USA         Roar Carbon   \n",
              "2  Shimmer Anne Shine Clip On Costume/Halloween C...  Shimmer Anne Shine   \n",
              "3               Buxton Heiress Pik-Me-Up Framed Case              Buxton   \n",
              "4        Platinum 4mm Comfort Fit Plain Wedding Band   Amazon Collection   \n",
              "\n",
              "                                            imageURL  \\\n",
              "0  [https://images-na.ssl-images-amazon.com/image...   \n",
              "1  [https://images-na.ssl-images-amazon.com/image...   \n",
              "2  [https://images-na.ssl-images-amazon.com/image...   \n",
              "3  [https://images-na.ssl-images-amazon.com/image...   \n",
              "4  [https://images-na.ssl-images-amazon.com/image...   \n",
              "\n",
              "                                     imageURLHighRes  \n",
              "0  [https://images-na.ssl-images-amazon.com/image...  \n",
              "1  [https://images-na.ssl-images-amazon.com/image...  \n",
              "2  [https://images-na.ssl-images-amazon.com/image...  \n",
              "3  [https://images-na.ssl-images-amazon.com/image...  \n",
              "4  [https://images-na.ssl-images-amazon.com/image...  "
            ],
            "text/html": [
              "\n",
              "  <div id=\"df-5ecd023c-413d-41cd-abb5-133ab102bbbc\">\n",
              "    <div class=\"colab-df-container\">\n",
              "      <div>\n",
              "<style scoped>\n",
              "    .dataframe tbody tr th:only-of-type {\n",
              "        vertical-align: middle;\n",
              "    }\n",
              "\n",
              "    .dataframe tbody tr th {\n",
              "        vertical-align: top;\n",
              "    }\n",
              "\n",
              "    .dataframe thead th {\n",
              "        text-align: right;\n",
              "    }\n",
              "</style>\n",
              "<table border=\"1\" class=\"dataframe\">\n",
              "  <thead>\n",
              "    <tr style=\"text-align: right;\">\n",
              "      <th></th>\n",
              "      <th>asin</th>\n",
              "      <th>description</th>\n",
              "      <th>title</th>\n",
              "      <th>brand</th>\n",
              "      <th>imageURL</th>\n",
              "      <th>imageURLHighRes</th>\n",
              "    </tr>\n",
              "  </thead>\n",
              "  <tbody>\n",
              "    <tr>\n",
              "      <th>0</th>\n",
              "      <td>1940280001</td>\n",
              "      <td>[For the professional or amateur magician.  Ro...</td>\n",
              "      <td>Magical Things I Really Do Do Too!</td>\n",
              "      <td>Christopher Manos</td>\n",
              "      <td>[https://images-na.ssl-images-amazon.com/image...</td>\n",
              "      <td>[https://images-na.ssl-images-amazon.com/image...</td>\n",
              "    </tr>\n",
              "    <tr>\n",
              "      <th>1</th>\n",
              "      <td>9654263246</td>\n",
              "      <td>[When you pull out your extra large carbon fib...</td>\n",
              "      <td>X. L. Carbon Fiber Money Clip, made in the USA</td>\n",
              "      <td>Roar Carbon</td>\n",
              "      <td>[https://images-na.ssl-images-amazon.com/image...</td>\n",
              "      <td>[https://images-na.ssl-images-amazon.com/image...</td>\n",
              "    </tr>\n",
              "    <tr>\n",
              "      <th>2</th>\n",
              "      <td>B00004T3SN</td>\n",
              "      <td>[A fun addition to any costume party, play, or...</td>\n",
              "      <td>Shimmer Anne Shine Clip On Costume/Halloween C...</td>\n",
              "      <td>Shimmer Anne Shine</td>\n",
              "      <td>[https://images-na.ssl-images-amazon.com/image...</td>\n",
              "      <td>[https://images-na.ssl-images-amazon.com/image...</td>\n",
              "    </tr>\n",
              "    <tr>\n",
              "      <th>3</th>\n",
              "      <td>B00007GDFV</td>\n",
              "      <td>[Authentic crunch leather with rich floral emb...</td>\n",
              "      <td>Buxton Heiress Pik-Me-Up Framed Case</td>\n",
              "      <td>Buxton</td>\n",
              "      <td>[https://images-na.ssl-images-amazon.com/image...</td>\n",
              "      <td>[https://images-na.ssl-images-amazon.com/image...</td>\n",
              "    </tr>\n",
              "    <tr>\n",
              "      <th>4</th>\n",
              "      <td>B0000AWRIF</td>\n",
              "      <td>[With its smooth surface and high polish, this...</td>\n",
              "      <td>Platinum 4mm Comfort Fit Plain Wedding Band</td>\n",
              "      <td>Amazon Collection</td>\n",
              "      <td>[https://images-na.ssl-images-amazon.com/image...</td>\n",
              "      <td>[https://images-na.ssl-images-amazon.com/image...</td>\n",
              "    </tr>\n",
              "  </tbody>\n",
              "</table>\n",
              "</div>\n",
              "      <button class=\"colab-df-convert\" onclick=\"convertToInteractive('df-5ecd023c-413d-41cd-abb5-133ab102bbbc')\"\n",
              "              title=\"Convert this dataframe to an interactive table.\"\n",
              "              style=\"display:none;\">\n",
              "        \n",
              "  <svg xmlns=\"http://www.w3.org/2000/svg\" height=\"24px\"viewBox=\"0 0 24 24\"\n",
              "       width=\"24px\">\n",
              "    <path d=\"M0 0h24v24H0V0z\" fill=\"none\"/>\n",
              "    <path d=\"M18.56 5.44l.94 2.06.94-2.06 2.06-.94-2.06-.94-.94-2.06-.94 2.06-2.06.94zm-11 1L8.5 8.5l.94-2.06 2.06-.94-2.06-.94L8.5 2.5l-.94 2.06-2.06.94zm10 10l.94 2.06.94-2.06 2.06-.94-2.06-.94-.94-2.06-.94 2.06-2.06.94z\"/><path d=\"M17.41 7.96l-1.37-1.37c-.4-.4-.92-.59-1.43-.59-.52 0-1.04.2-1.43.59L10.3 9.45l-7.72 7.72c-.78.78-.78 2.05 0 2.83L4 21.41c.39.39.9.59 1.41.59.51 0 1.02-.2 1.41-.59l7.78-7.78 2.81-2.81c.8-.78.8-2.07 0-2.86zM5.41 20L4 18.59l7.72-7.72 1.47 1.35L5.41 20z\"/>\n",
              "  </svg>\n",
              "      </button>\n",
              "      \n",
              "  <style>\n",
              "    .colab-df-container {\n",
              "      display:flex;\n",
              "      flex-wrap:wrap;\n",
              "      gap: 12px;\n",
              "    }\n",
              "\n",
              "    .colab-df-convert {\n",
              "      background-color: #E8F0FE;\n",
              "      border: none;\n",
              "      border-radius: 50%;\n",
              "      cursor: pointer;\n",
              "      display: none;\n",
              "      fill: #1967D2;\n",
              "      height: 32px;\n",
              "      padding: 0 0 0 0;\n",
              "      width: 32px;\n",
              "    }\n",
              "\n",
              "    .colab-df-convert:hover {\n",
              "      background-color: #E2EBFA;\n",
              "      box-shadow: 0px 1px 2px rgba(60, 64, 67, 0.3), 0px 1px 3px 1px rgba(60, 64, 67, 0.15);\n",
              "      fill: #174EA6;\n",
              "    }\n",
              "\n",
              "    [theme=dark] .colab-df-convert {\n",
              "      background-color: #3B4455;\n",
              "      fill: #D2E3FC;\n",
              "    }\n",
              "\n",
              "    [theme=dark] .colab-df-convert:hover {\n",
              "      background-color: #434B5C;\n",
              "      box-shadow: 0px 1px 3px 1px rgba(0, 0, 0, 0.15);\n",
              "      filter: drop-shadow(0px 1px 2px rgba(0, 0, 0, 0.3));\n",
              "      fill: #FFFFFF;\n",
              "    }\n",
              "  </style>\n",
              "\n",
              "      <script>\n",
              "        const buttonEl =\n",
              "          document.querySelector('#df-5ecd023c-413d-41cd-abb5-133ab102bbbc button.colab-df-convert');\n",
              "        buttonEl.style.display =\n",
              "          google.colab.kernel.accessAllowed ? 'block' : 'none';\n",
              "\n",
              "        async function convertToInteractive(key) {\n",
              "          const element = document.querySelector('#df-5ecd023c-413d-41cd-abb5-133ab102bbbc');\n",
              "          const dataTable =\n",
              "            await google.colab.kernel.invokeFunction('convertToInteractive',\n",
              "                                                     [key], {});\n",
              "          if (!dataTable) return;\n",
              "\n",
              "          const docLinkHtml = 'Like what you see? Visit the ' +\n",
              "            '<a target=\"_blank\" href=https://colab.research.google.com/notebooks/data_table.ipynb>data table notebook</a>'\n",
              "            + ' to learn more about interactive tables.';\n",
              "          element.innerHTML = '';\n",
              "          dataTable['output_type'] = 'display_data';\n",
              "          await google.colab.output.renderOutput(dataTable, element);\n",
              "          const docLink = document.createElement('div');\n",
              "          docLink.innerHTML = docLinkHtml;\n",
              "          element.appendChild(docLink);\n",
              "        }\n",
              "      </script>\n",
              "    </div>\n",
              "  </div>\n",
              "  "
            ]
          },
          "metadata": {},
          "execution_count": 165
        }
      ]
    },
    {
      "cell_type": "code",
      "source": [
        "print(len(meta))\n",
        "meta = meta[meta['description'].map(lambda d: len(d)) > 0]\n",
        "meta = meta[meta['title'].map(lambda d: len(d)) > 0]\n",
        "meta = meta[meta['asin'].map(lambda d: len(d)) > 0]\n",
        "meta = meta[meta['brand'].map(lambda d: len(d)) > 0]\n",
        "meta = meta[meta['imageURL'].map(lambda d: len(d)) > 0]\n",
        "meta = meta[meta['imageURLHighRes'].map(lambda d: len(d)) > 0]\n",
        "print(len(meta))\n",
        "meta.head(5)"
      ],
      "metadata": {
        "colab": {
          "base_uri": "https://localhost:8080/",
          "height": 285
        },
        "id": "E4hivrIfdrrm",
        "outputId": "c31f9cfb-0ddb-46cb-ccba-fe637b3134d1"
      },
      "execution_count": 166,
      "outputs": [
        {
          "output_type": "stream",
          "name": "stdout",
          "text": [
            "8067\n",
            "8067\n"
          ]
        },
        {
          "output_type": "execute_result",
          "data": {
            "text/plain": [
              "         asin                                        description  \\\n",
              "0  1940280001  [For the professional or amateur magician.  Ro...   \n",
              "1  9654263246  [When you pull out your extra large carbon fib...   \n",
              "2  B00004T3SN  [A fun addition to any costume party, play, or...   \n",
              "3  B00007GDFV  [Authentic crunch leather with rich floral emb...   \n",
              "4  B0000AWRIF  [With its smooth surface and high polish, this...   \n",
              "\n",
              "                                               title               brand  \\\n",
              "0                 Magical Things I Really Do Do Too!   Christopher Manos   \n",
              "1     X. L. Carbon Fiber Money Clip, made in the USA         Roar Carbon   \n",
              "2  Shimmer Anne Shine Clip On Costume/Halloween C...  Shimmer Anne Shine   \n",
              "3               Buxton Heiress Pik-Me-Up Framed Case              Buxton   \n",
              "4        Platinum 4mm Comfort Fit Plain Wedding Band   Amazon Collection   \n",
              "\n",
              "                                            imageURL  \\\n",
              "0  [https://images-na.ssl-images-amazon.com/image...   \n",
              "1  [https://images-na.ssl-images-amazon.com/image...   \n",
              "2  [https://images-na.ssl-images-amazon.com/image...   \n",
              "3  [https://images-na.ssl-images-amazon.com/image...   \n",
              "4  [https://images-na.ssl-images-amazon.com/image...   \n",
              "\n",
              "                                     imageURLHighRes  \n",
              "0  [https://images-na.ssl-images-amazon.com/image...  \n",
              "1  [https://images-na.ssl-images-amazon.com/image...  \n",
              "2  [https://images-na.ssl-images-amazon.com/image...  \n",
              "3  [https://images-na.ssl-images-amazon.com/image...  \n",
              "4  [https://images-na.ssl-images-amazon.com/image...  "
            ],
            "text/html": [
              "\n",
              "  <div id=\"df-c5826eec-165e-4af8-b389-573de6e609ec\">\n",
              "    <div class=\"colab-df-container\">\n",
              "      <div>\n",
              "<style scoped>\n",
              "    .dataframe tbody tr th:only-of-type {\n",
              "        vertical-align: middle;\n",
              "    }\n",
              "\n",
              "    .dataframe tbody tr th {\n",
              "        vertical-align: top;\n",
              "    }\n",
              "\n",
              "    .dataframe thead th {\n",
              "        text-align: right;\n",
              "    }\n",
              "</style>\n",
              "<table border=\"1\" class=\"dataframe\">\n",
              "  <thead>\n",
              "    <tr style=\"text-align: right;\">\n",
              "      <th></th>\n",
              "      <th>asin</th>\n",
              "      <th>description</th>\n",
              "      <th>title</th>\n",
              "      <th>brand</th>\n",
              "      <th>imageURL</th>\n",
              "      <th>imageURLHighRes</th>\n",
              "    </tr>\n",
              "  </thead>\n",
              "  <tbody>\n",
              "    <tr>\n",
              "      <th>0</th>\n",
              "      <td>1940280001</td>\n",
              "      <td>[For the professional or amateur magician.  Ro...</td>\n",
              "      <td>Magical Things I Really Do Do Too!</td>\n",
              "      <td>Christopher Manos</td>\n",
              "      <td>[https://images-na.ssl-images-amazon.com/image...</td>\n",
              "      <td>[https://images-na.ssl-images-amazon.com/image...</td>\n",
              "    </tr>\n",
              "    <tr>\n",
              "      <th>1</th>\n",
              "      <td>9654263246</td>\n",
              "      <td>[When you pull out your extra large carbon fib...</td>\n",
              "      <td>X. L. Carbon Fiber Money Clip, made in the USA</td>\n",
              "      <td>Roar Carbon</td>\n",
              "      <td>[https://images-na.ssl-images-amazon.com/image...</td>\n",
              "      <td>[https://images-na.ssl-images-amazon.com/image...</td>\n",
              "    </tr>\n",
              "    <tr>\n",
              "      <th>2</th>\n",
              "      <td>B00004T3SN</td>\n",
              "      <td>[A fun addition to any costume party, play, or...</td>\n",
              "      <td>Shimmer Anne Shine Clip On Costume/Halloween C...</td>\n",
              "      <td>Shimmer Anne Shine</td>\n",
              "      <td>[https://images-na.ssl-images-amazon.com/image...</td>\n",
              "      <td>[https://images-na.ssl-images-amazon.com/image...</td>\n",
              "    </tr>\n",
              "    <tr>\n",
              "      <th>3</th>\n",
              "      <td>B00007GDFV</td>\n",
              "      <td>[Authentic crunch leather with rich floral emb...</td>\n",
              "      <td>Buxton Heiress Pik-Me-Up Framed Case</td>\n",
              "      <td>Buxton</td>\n",
              "      <td>[https://images-na.ssl-images-amazon.com/image...</td>\n",
              "      <td>[https://images-na.ssl-images-amazon.com/image...</td>\n",
              "    </tr>\n",
              "    <tr>\n",
              "      <th>4</th>\n",
              "      <td>B0000AWRIF</td>\n",
              "      <td>[With its smooth surface and high polish, this...</td>\n",
              "      <td>Platinum 4mm Comfort Fit Plain Wedding Band</td>\n",
              "      <td>Amazon Collection</td>\n",
              "      <td>[https://images-na.ssl-images-amazon.com/image...</td>\n",
              "      <td>[https://images-na.ssl-images-amazon.com/image...</td>\n",
              "    </tr>\n",
              "  </tbody>\n",
              "</table>\n",
              "</div>\n",
              "      <button class=\"colab-df-convert\" onclick=\"convertToInteractive('df-c5826eec-165e-4af8-b389-573de6e609ec')\"\n",
              "              title=\"Convert this dataframe to an interactive table.\"\n",
              "              style=\"display:none;\">\n",
              "        \n",
              "  <svg xmlns=\"http://www.w3.org/2000/svg\" height=\"24px\"viewBox=\"0 0 24 24\"\n",
              "       width=\"24px\">\n",
              "    <path d=\"M0 0h24v24H0V0z\" fill=\"none\"/>\n",
              "    <path d=\"M18.56 5.44l.94 2.06.94-2.06 2.06-.94-2.06-.94-.94-2.06-.94 2.06-2.06.94zm-11 1L8.5 8.5l.94-2.06 2.06-.94-2.06-.94L8.5 2.5l-.94 2.06-2.06.94zm10 10l.94 2.06.94-2.06 2.06-.94-2.06-.94-.94-2.06-.94 2.06-2.06.94z\"/><path d=\"M17.41 7.96l-1.37-1.37c-.4-.4-.92-.59-1.43-.59-.52 0-1.04.2-1.43.59L10.3 9.45l-7.72 7.72c-.78.78-.78 2.05 0 2.83L4 21.41c.39.39.9.59 1.41.59.51 0 1.02-.2 1.41-.59l7.78-7.78 2.81-2.81c.8-.78.8-2.07 0-2.86zM5.41 20L4 18.59l7.72-7.72 1.47 1.35L5.41 20z\"/>\n",
              "  </svg>\n",
              "      </button>\n",
              "      \n",
              "  <style>\n",
              "    .colab-df-container {\n",
              "      display:flex;\n",
              "      flex-wrap:wrap;\n",
              "      gap: 12px;\n",
              "    }\n",
              "\n",
              "    .colab-df-convert {\n",
              "      background-color: #E8F0FE;\n",
              "      border: none;\n",
              "      border-radius: 50%;\n",
              "      cursor: pointer;\n",
              "      display: none;\n",
              "      fill: #1967D2;\n",
              "      height: 32px;\n",
              "      padding: 0 0 0 0;\n",
              "      width: 32px;\n",
              "    }\n",
              "\n",
              "    .colab-df-convert:hover {\n",
              "      background-color: #E2EBFA;\n",
              "      box-shadow: 0px 1px 2px rgba(60, 64, 67, 0.3), 0px 1px 3px 1px rgba(60, 64, 67, 0.15);\n",
              "      fill: #174EA6;\n",
              "    }\n",
              "\n",
              "    [theme=dark] .colab-df-convert {\n",
              "      background-color: #3B4455;\n",
              "      fill: #D2E3FC;\n",
              "    }\n",
              "\n",
              "    [theme=dark] .colab-df-convert:hover {\n",
              "      background-color: #434B5C;\n",
              "      box-shadow: 0px 1px 3px 1px rgba(0, 0, 0, 0.15);\n",
              "      filter: drop-shadow(0px 1px 2px rgba(0, 0, 0, 0.3));\n",
              "      fill: #FFFFFF;\n",
              "    }\n",
              "  </style>\n",
              "\n",
              "      <script>\n",
              "        const buttonEl =\n",
              "          document.querySelector('#df-c5826eec-165e-4af8-b389-573de6e609ec button.colab-df-convert');\n",
              "        buttonEl.style.display =\n",
              "          google.colab.kernel.accessAllowed ? 'block' : 'none';\n",
              "\n",
              "        async function convertToInteractive(key) {\n",
              "          const element = document.querySelector('#df-c5826eec-165e-4af8-b389-573de6e609ec');\n",
              "          const dataTable =\n",
              "            await google.colab.kernel.invokeFunction('convertToInteractive',\n",
              "                                                     [key], {});\n",
              "          if (!dataTable) return;\n",
              "\n",
              "          const docLinkHtml = 'Like what you see? Visit the ' +\n",
              "            '<a target=\"_blank\" href=https://colab.research.google.com/notebooks/data_table.ipynb>data table notebook</a>'\n",
              "            + ' to learn more about interactive tables.';\n",
              "          element.innerHTML = '';\n",
              "          dataTable['output_type'] = 'display_data';\n",
              "          await google.colab.output.renderOutput(dataTable, element);\n",
              "          const docLink = document.createElement('div');\n",
              "          docLink.innerHTML = docLinkHtml;\n",
              "          element.appendChild(docLink);\n",
              "        }\n",
              "      </script>\n",
              "    </div>\n",
              "  </div>\n",
              "  "
            ]
          },
          "metadata": {},
          "execution_count": 166
        }
      ]
    },
    {
      "cell_type": "markdown",
      "source": [
        "## meta clearance"
      ],
      "metadata": {
        "id": "sXxG30Hvsn5r"
      }
    },
    {
      "cell_type": "code",
      "source": [
        "len(meta),len(ui)"
      ],
      "metadata": {
        "colab": {
          "base_uri": "https://localhost:8080/"
        },
        "id": "zKWzfjXcoxp5",
        "outputId": "3f31390f-9d3b-4e56-dbe9-3d30dd7f6d8c"
      },
      "execution_count": 167,
      "outputs": [
        {
          "output_type": "execute_result",
          "data": {
            "text/plain": [
              "(8067, 608474)"
            ]
          },
          "metadata": {},
          "execution_count": 167
        }
      ]
    },
    {
      "cell_type": "code",
      "source": [
        "def description_improvement(l):\n",
        "    s = ' '.join(l)\n",
        "    return(s)\n",
        "meta['description'] = meta['description'].apply(description_improvement) "
      ],
      "metadata": {
        "id": "uXbw-vjvp9Dv"
      },
      "execution_count": 168,
      "outputs": []
    },
    {
      "cell_type": "code",
      "source": [
        "import re\n",
        "import nltk\n",
        "nltk.download('stopwords')\n",
        "from nltk.corpus import stopwords\n",
        "\n",
        "class Normalizer:\n",
        "    # based on https://www.geeksforgeeks.org/normalizing-textual-data-with-python/\n",
        "    def __init__(self):\n",
        "        # import regex\n",
        "        self.stop_words = set(stopwords.words('english'))\n",
        "\n",
        "    def text_normalizer(self,text):\n",
        "        if type(text) == type([]):\n",
        "            text = text[0]\n",
        "        text = str(text)\n",
        "        # convert to lower case\n",
        "        lower_string = text.lower()\n",
        "        # remove numbers\n",
        "        no_number_string = re.sub(r'\\d+','',lower_string)\n",
        "        # remove all punctuation except words and space\n",
        "        no_punc_string = re.sub(r'[^\\w\\s]','', no_number_string)\n",
        "        # remove white spaces\n",
        "        no_wspace_string = no_punc_string.strip()\n",
        "        # convert string to list of words\n",
        "        lst_string = [no_wspace_string][0].split()\n",
        "        # remove stopwords\n",
        "        no_stpwords_string=\"\"\n",
        "        for i in lst_string:\n",
        "            if not i in self.stop_words:\n",
        "                no_stpwords_string += i+' '\n",
        "        # removing last space\n",
        "        no_stpwords_string = no_stpwords_string[:-1]\n",
        "        output = no_stpwords_string\n",
        "        return output"
      ],
      "metadata": {
        "colab": {
          "base_uri": "https://localhost:8080/"
        },
        "id": "5imeoROyqgnX",
        "outputId": "db6369ba-1cd1-4992-ab51-a3b1f7b828b0"
      },
      "execution_count": 169,
      "outputs": [
        {
          "output_type": "stream",
          "name": "stderr",
          "text": [
            "[nltk_data] Downloading package stopwords to /root/nltk_data...\n",
            "[nltk_data]   Package stopwords is already up-to-date!\n"
          ]
        }
      ]
    },
    {
      "cell_type": "code",
      "source": [
        "normalizer = Normalizer()"
      ],
      "metadata": {
        "id": "S6SVAhrysYCk"
      },
      "execution_count": 170,
      "outputs": []
    },
    {
      "cell_type": "code",
      "source": [
        "meta[\"description\"] = meta[\"description\"].apply(normalizer.text_normalizer)\n",
        "meta[\"title\"] = meta[\"title\"].apply(normalizer.text_normalizer)"
      ],
      "metadata": {
        "id": "gB_dK-ans_hs"
      },
      "execution_count": 171,
      "outputs": []
    },
    {
      "cell_type": "code",
      "source": [
        "def brand_normalizer(s):\n",
        "    s = s.replace(\"Brand:\",\"\")\n",
        "    s = s.replace(\" \",\"\")\n",
        "    s = s.split(\"/\")\n",
        "    return s"
      ],
      "metadata": {
        "id": "dHgmFL-_tPg6"
      },
      "execution_count": 172,
      "outputs": []
    },
    {
      "cell_type": "code",
      "source": [
        "meta[\"brand\"] = meta[\"brand\"].apply(brand_normalizer)"
      ],
      "metadata": {
        "id": "56ZTNfKKuHGp"
      },
      "execution_count": 173,
      "outputs": []
    },
    {
      "cell_type": "code",
      "source": [
        "def url_normalizer(s):\n",
        "    return s[0]"
      ],
      "metadata": {
        "id": "gyYdwMEhuNQi"
      },
      "execution_count": 174,
      "outputs": []
    },
    {
      "cell_type": "code",
      "source": [
        "meta[\"imageURL\"] = meta[\"imageURL\"].apply(url_normalizer)\n",
        "meta[\"imageURLHighRes\"] = meta[\"imageURLHighRes\"].apply(url_normalizer)"
      ],
      "metadata": {
        "id": "NprX7PFguZxa"
      },
      "execution_count": 175,
      "outputs": []
    },
    {
      "cell_type": "code",
      "source": [
        "meta['text'] = meta[['title', 'description','title']].apply(lambda x: ''.join(x), axis=1)"
      ],
      "metadata": {
        "id": "CV3oEmHluqp5"
      },
      "execution_count": 176,
      "outputs": []
    },
    {
      "cell_type": "code",
      "source": [
        "meta.head(5)"
      ],
      "metadata": {
        "colab": {
          "base_uri": "https://localhost:8080/",
          "height": 337
        },
        "id": "XzjBaetUtE-z",
        "outputId": "400a54ac-5385-4be3-99e5-d343c4d825a5"
      },
      "execution_count": 177,
      "outputs": [
        {
          "output_type": "execute_result",
          "data": {
            "text/plain": [
              "         asin                                        description  \\\n",
              "0  1940280001  professional amateur magician routines include...   \n",
              "1  9654263246  pull extra large carbon fiber money clip gives...   \n",
              "2  B00004T3SN  fun addition costume party play halloween even...   \n",
              "3  B00007GDFV  authentic crunch leather rich floral embossed ...   \n",
              "4  B0000AWRIF  smooth surface high polish platinum wedding ba...   \n",
              "\n",
              "                                               title               brand  \\\n",
              "0                              magical things really  [ChristopherManos]   \n",
              "1               x l carbon fiber money clip made usa        [RoarCarbon]   \n",
              "2  shimmer anne shine clip costumehalloween cat ears  [ShimmerAnneShine]   \n",
              "3                 buxton heiress pikmeup framed case            [Buxton]   \n",
              "4         platinum mm comfort fit plain wedding band  [AmazonCollection]   \n",
              "\n",
              "                                            imageURL  \\\n",
              "0  https://images-na.ssl-images-amazon.com/images...   \n",
              "1  https://images-na.ssl-images-amazon.com/images...   \n",
              "2  https://images-na.ssl-images-amazon.com/images...   \n",
              "3  https://images-na.ssl-images-amazon.com/images...   \n",
              "4  https://images-na.ssl-images-amazon.com/images...   \n",
              "\n",
              "                                     imageURLHighRes  \\\n",
              "0  https://images-na.ssl-images-amazon.com/images...   \n",
              "1  https://images-na.ssl-images-amazon.com/images...   \n",
              "2  https://images-na.ssl-images-amazon.com/images...   \n",
              "3  https://images-na.ssl-images-amazon.com/images...   \n",
              "4  https://images-na.ssl-images-amazon.com/images...   \n",
              "\n",
              "                                                text  \n",
              "0  magical things reallyprofessional amateur magi...  \n",
              "1  x l carbon fiber money clip made usapull extra...  \n",
              "2  shimmer anne shine clip costumehalloween cat e...  \n",
              "3  buxton heiress pikmeup framed caseauthentic cr...  \n",
              "4  platinum mm comfort fit plain wedding bandsmoo...  "
            ],
            "text/html": [
              "\n",
              "  <div id=\"df-fa1b800f-d4ba-4f92-b09e-89761df2f510\">\n",
              "    <div class=\"colab-df-container\">\n",
              "      <div>\n",
              "<style scoped>\n",
              "    .dataframe tbody tr th:only-of-type {\n",
              "        vertical-align: middle;\n",
              "    }\n",
              "\n",
              "    .dataframe tbody tr th {\n",
              "        vertical-align: top;\n",
              "    }\n",
              "\n",
              "    .dataframe thead th {\n",
              "        text-align: right;\n",
              "    }\n",
              "</style>\n",
              "<table border=\"1\" class=\"dataframe\">\n",
              "  <thead>\n",
              "    <tr style=\"text-align: right;\">\n",
              "      <th></th>\n",
              "      <th>asin</th>\n",
              "      <th>description</th>\n",
              "      <th>title</th>\n",
              "      <th>brand</th>\n",
              "      <th>imageURL</th>\n",
              "      <th>imageURLHighRes</th>\n",
              "      <th>text</th>\n",
              "    </tr>\n",
              "  </thead>\n",
              "  <tbody>\n",
              "    <tr>\n",
              "      <th>0</th>\n",
              "      <td>1940280001</td>\n",
              "      <td>professional amateur magician routines include...</td>\n",
              "      <td>magical things really</td>\n",
              "      <td>[ChristopherManos]</td>\n",
              "      <td>https://images-na.ssl-images-amazon.com/images...</td>\n",
              "      <td>https://images-na.ssl-images-amazon.com/images...</td>\n",
              "      <td>magical things reallyprofessional amateur magi...</td>\n",
              "    </tr>\n",
              "    <tr>\n",
              "      <th>1</th>\n",
              "      <td>9654263246</td>\n",
              "      <td>pull extra large carbon fiber money clip gives...</td>\n",
              "      <td>x l carbon fiber money clip made usa</td>\n",
              "      <td>[RoarCarbon]</td>\n",
              "      <td>https://images-na.ssl-images-amazon.com/images...</td>\n",
              "      <td>https://images-na.ssl-images-amazon.com/images...</td>\n",
              "      <td>x l carbon fiber money clip made usapull extra...</td>\n",
              "    </tr>\n",
              "    <tr>\n",
              "      <th>2</th>\n",
              "      <td>B00004T3SN</td>\n",
              "      <td>fun addition costume party play halloween even...</td>\n",
              "      <td>shimmer anne shine clip costumehalloween cat ears</td>\n",
              "      <td>[ShimmerAnneShine]</td>\n",
              "      <td>https://images-na.ssl-images-amazon.com/images...</td>\n",
              "      <td>https://images-na.ssl-images-amazon.com/images...</td>\n",
              "      <td>shimmer anne shine clip costumehalloween cat e...</td>\n",
              "    </tr>\n",
              "    <tr>\n",
              "      <th>3</th>\n",
              "      <td>B00007GDFV</td>\n",
              "      <td>authentic crunch leather rich floral embossed ...</td>\n",
              "      <td>buxton heiress pikmeup framed case</td>\n",
              "      <td>[Buxton]</td>\n",
              "      <td>https://images-na.ssl-images-amazon.com/images...</td>\n",
              "      <td>https://images-na.ssl-images-amazon.com/images...</td>\n",
              "      <td>buxton heiress pikmeup framed caseauthentic cr...</td>\n",
              "    </tr>\n",
              "    <tr>\n",
              "      <th>4</th>\n",
              "      <td>B0000AWRIF</td>\n",
              "      <td>smooth surface high polish platinum wedding ba...</td>\n",
              "      <td>platinum mm comfort fit plain wedding band</td>\n",
              "      <td>[AmazonCollection]</td>\n",
              "      <td>https://images-na.ssl-images-amazon.com/images...</td>\n",
              "      <td>https://images-na.ssl-images-amazon.com/images...</td>\n",
              "      <td>platinum mm comfort fit plain wedding bandsmoo...</td>\n",
              "    </tr>\n",
              "  </tbody>\n",
              "</table>\n",
              "</div>\n",
              "      <button class=\"colab-df-convert\" onclick=\"convertToInteractive('df-fa1b800f-d4ba-4f92-b09e-89761df2f510')\"\n",
              "              title=\"Convert this dataframe to an interactive table.\"\n",
              "              style=\"display:none;\">\n",
              "        \n",
              "  <svg xmlns=\"http://www.w3.org/2000/svg\" height=\"24px\"viewBox=\"0 0 24 24\"\n",
              "       width=\"24px\">\n",
              "    <path d=\"M0 0h24v24H0V0z\" fill=\"none\"/>\n",
              "    <path d=\"M18.56 5.44l.94 2.06.94-2.06 2.06-.94-2.06-.94-.94-2.06-.94 2.06-2.06.94zm-11 1L8.5 8.5l.94-2.06 2.06-.94-2.06-.94L8.5 2.5l-.94 2.06-2.06.94zm10 10l.94 2.06.94-2.06 2.06-.94-2.06-.94-.94-2.06-.94 2.06-2.06.94z\"/><path d=\"M17.41 7.96l-1.37-1.37c-.4-.4-.92-.59-1.43-.59-.52 0-1.04.2-1.43.59L10.3 9.45l-7.72 7.72c-.78.78-.78 2.05 0 2.83L4 21.41c.39.39.9.59 1.41.59.51 0 1.02-.2 1.41-.59l7.78-7.78 2.81-2.81c.8-.78.8-2.07 0-2.86zM5.41 20L4 18.59l7.72-7.72 1.47 1.35L5.41 20z\"/>\n",
              "  </svg>\n",
              "      </button>\n",
              "      \n",
              "  <style>\n",
              "    .colab-df-container {\n",
              "      display:flex;\n",
              "      flex-wrap:wrap;\n",
              "      gap: 12px;\n",
              "    }\n",
              "\n",
              "    .colab-df-convert {\n",
              "      background-color: #E8F0FE;\n",
              "      border: none;\n",
              "      border-radius: 50%;\n",
              "      cursor: pointer;\n",
              "      display: none;\n",
              "      fill: #1967D2;\n",
              "      height: 32px;\n",
              "      padding: 0 0 0 0;\n",
              "      width: 32px;\n",
              "    }\n",
              "\n",
              "    .colab-df-convert:hover {\n",
              "      background-color: #E2EBFA;\n",
              "      box-shadow: 0px 1px 2px rgba(60, 64, 67, 0.3), 0px 1px 3px 1px rgba(60, 64, 67, 0.15);\n",
              "      fill: #174EA6;\n",
              "    }\n",
              "\n",
              "    [theme=dark] .colab-df-convert {\n",
              "      background-color: #3B4455;\n",
              "      fill: #D2E3FC;\n",
              "    }\n",
              "\n",
              "    [theme=dark] .colab-df-convert:hover {\n",
              "      background-color: #434B5C;\n",
              "      box-shadow: 0px 1px 3px 1px rgba(0, 0, 0, 0.15);\n",
              "      filter: drop-shadow(0px 1px 2px rgba(0, 0, 0, 0.3));\n",
              "      fill: #FFFFFF;\n",
              "    }\n",
              "  </style>\n",
              "\n",
              "      <script>\n",
              "        const buttonEl =\n",
              "          document.querySelector('#df-fa1b800f-d4ba-4f92-b09e-89761df2f510 button.colab-df-convert');\n",
              "        buttonEl.style.display =\n",
              "          google.colab.kernel.accessAllowed ? 'block' : 'none';\n",
              "\n",
              "        async function convertToInteractive(key) {\n",
              "          const element = document.querySelector('#df-fa1b800f-d4ba-4f92-b09e-89761df2f510');\n",
              "          const dataTable =\n",
              "            await google.colab.kernel.invokeFunction('convertToInteractive',\n",
              "                                                     [key], {});\n",
              "          if (!dataTable) return;\n",
              "\n",
              "          const docLinkHtml = 'Like what you see? Visit the ' +\n",
              "            '<a target=\"_blank\" href=https://colab.research.google.com/notebooks/data_table.ipynb>data table notebook</a>'\n",
              "            + ' to learn more about interactive tables.';\n",
              "          element.innerHTML = '';\n",
              "          dataTable['output_type'] = 'display_data';\n",
              "          await google.colab.output.renderOutput(dataTable, element);\n",
              "          const docLink = document.createElement('div');\n",
              "          docLink.innerHTML = docLinkHtml;\n",
              "          element.appendChild(docLink);\n",
              "        }\n",
              "      </script>\n",
              "    </div>\n",
              "  </div>\n",
              "  "
            ]
          },
          "metadata": {},
          "execution_count": 177
        }
      ]
    },
    {
      "cell_type": "code",
      "source": [
        "meta = meta.reset_index()\n",
        "del meta['index']"
      ],
      "metadata": {
        "id": "5FwcVsDtvgfQ"
      },
      "execution_count": 178,
      "outputs": []
    },
    {
      "cell_type": "code",
      "source": [
        "for i in meta.iloc[1]:\n",
        "    print(i)"
      ],
      "metadata": {
        "colab": {
          "base_uri": "https://localhost:8080/"
        },
        "id": "U2nCW1lAvaY4",
        "outputId": "b0eb76f3-f7e7-4fb2-87f8-b0fcd8542d89"
      },
      "execution_count": 179,
      "outputs": [
        {
          "output_type": "stream",
          "name": "stdout",
          "text": [
            "9654263246\n",
            "pull extra large carbon fiber money clip gives status know whats new people asking get carbon fiber money clip made highest quality carbon fiber america money clip infused epoxy resin giving strong light weight money clip gives ability walk airport detectors put money plastic tray money clip comes year warranty delamination carbon fiber money clips similar sell times buy reason price exceptional number money clips manufactured time\n",
            "x l carbon fiber money clip made usa\n",
            "['RoarCarbon']\n",
            "https://images-na.ssl-images-amazon.com/images/I/41U3SgbuxwL._SR38,50_.jpg\n",
            "https://images-na.ssl-images-amazon.com/images/I/41U3SgbuxwL.jpg\n",
            "x l carbon fiber money clip made usapull extra large carbon fiber money clip gives status know whats new people asking get carbon fiber money clip made highest quality carbon fiber america money clip infused epoxy resin giving strong light weight money clip gives ability walk airport detectors put money plastic tray money clip comes year warranty delamination carbon fiber money clips similar sell times buy reason price exceptional number money clips manufactured timex l carbon fiber money clip made usa\n"
          ]
        }
      ]
    },
    {
      "cell_type": "code",
      "source": [
        "len(ui)"
      ],
      "metadata": {
        "colab": {
          "base_uri": "https://localhost:8080/"
        },
        "id": "pW5siPMQvuLy",
        "outputId": "76deac64-83a8-4845-954d-47000480e42e"
      },
      "execution_count": 146,
      "outputs": [
        {
          "output_type": "execute_result",
          "data": {
            "text/plain": [
              "608474"
            ]
          },
          "metadata": {},
          "execution_count": 146
        }
      ]
    },
    {
      "cell_type": "code",
      "source": [
        "listmetaasin = list(meta.asin)\n",
        "def dropextrausers(s):\n",
        "    if s in listmetaasin:\n",
        "        return True\n",
        "    return False"
      ],
      "metadata": {
        "id": "XtPk5xntxW6e"
      },
      "execution_count": 191,
      "outputs": []
    },
    {
      "cell_type": "code",
      "source": [
        "tqdm.pandas()"
      ],
      "metadata": {
        "id": "DSiUAiADz0eC"
      },
      "execution_count": 196,
      "outputs": []
    },
    {
      "cell_type": "code",
      "source": [
        "ui['tf'] = ui['asin'].progress_apply(dropextrausers)"
      ],
      "metadata": {
        "colab": {
          "base_uri": "https://localhost:8080/"
        },
        "id": "Ik0gtgfxxDwW",
        "outputId": "d2373477-1375-46e2-82c7-ec6ab19145a0"
      },
      "execution_count": 197,
      "outputs": [
        {
          "output_type": "stream",
          "name": "stderr",
          "text": [
            "100%|██████████| 608474/608474 [04:40<00:00, 2166.49it/s]\n"
          ]
        }
      ]
    },
    {
      "cell_type": "code",
      "source": [
        "ui = ui[ui['tf']==True]"
      ],
      "metadata": {
        "id": "vKJ4q2JrxUxm"
      },
      "execution_count": 199,
      "outputs": []
    },
    {
      "cell_type": "code",
      "source": [
        "import pickle\n",
        "\n",
        "\n",
        "with open('meta.pickle', 'wb') as handle:\n",
        "    pickle.dump(meta, handle)\n",
        "\n",
        "with open('ui.pickle', 'wb') as handle:\n",
        "    pickle.dump(ui, handle)\n",
        "\n",
        "\n",
        "# with open('filename.pickle', 'rb') as handle:\n",
        "    # b = pickle.load(handle)"
      ],
      "metadata": {
        "id": "nXnKSR5_x5X1"
      },
      "execution_count": 200,
      "outputs": []
    },
    {
      "cell_type": "code",
      "source": [],
      "metadata": {
        "id": "FGBMFVzy0ZVi"
      },
      "execution_count": null,
      "outputs": []
    }
  ]
}